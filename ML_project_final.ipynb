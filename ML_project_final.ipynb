{
  "nbformat": 4,
  "nbformat_minor": 0,
  "metadata": {
    "colab": {
      "provenance": []
    },
    "kernelspec": {
      "name": "python3",
      "display_name": "Python 3"
    },
    "language_info": {
      "name": "python"
    },
    "accelerator": "GPU",
    "gpuClass": "standard"
  },
  "cells": [
    {
      "cell_type": "code",
      "execution_count": 1,
      "metadata": {
        "colab": {
          "base_uri": "https://localhost:8080/"
        },
        "id": "FQD4BK57rvVK",
        "outputId": "9a263698-f93b-4945-df44-6183f55d8a86"
      },
      "outputs": [
        {
          "output_type": "stream",
          "name": "stdout",
          "text": [
            "Mounted at /content/drive\n"
          ]
        }
      ],
      "source": [
        "from google.colab import drive\n",
        "drive.mount('/content/drive')"
      ]
    },
    {
      "cell_type": "code",
      "source": [
        "!pip install vaderSentiment"
      ],
      "metadata": {
        "id": "wdDUTjh0hybZ",
        "colab": {
          "base_uri": "https://localhost:8080/"
        },
        "outputId": "25b26977-d668-404b-b34e-3db72c46f259"
      },
      "execution_count": 2,
      "outputs": [
        {
          "output_type": "stream",
          "name": "stdout",
          "text": [
            "Looking in indexes: https://pypi.org/simple, https://us-python.pkg.dev/colab-wheels/public/simple/\n",
            "Collecting vaderSentiment\n",
            "  Downloading vaderSentiment-3.3.2-py2.py3-none-any.whl (125 kB)\n",
            "\u001b[K     |████████████████████████████████| 125 kB 10.9 MB/s \n",
            "\u001b[?25hRequirement already satisfied: requests in /usr/local/lib/python3.8/dist-packages (from vaderSentiment) (2.23.0)\n",
            "Requirement already satisfied: idna<3,>=2.5 in /usr/local/lib/python3.8/dist-packages (from requests->vaderSentiment) (2.10)\n",
            "Requirement already satisfied: chardet<4,>=3.0.2 in /usr/local/lib/python3.8/dist-packages (from requests->vaderSentiment) (3.0.4)\n",
            "Requirement already satisfied: urllib3!=1.25.0,!=1.25.1,<1.26,>=1.21.1 in /usr/local/lib/python3.8/dist-packages (from requests->vaderSentiment) (1.24.3)\n",
            "Requirement already satisfied: certifi>=2017.4.17 in /usr/local/lib/python3.8/dist-packages (from requests->vaderSentiment) (2022.9.24)\n",
            "Installing collected packages: vaderSentiment\n",
            "Successfully installed vaderSentiment-3.3.2\n"
          ]
        }
      ]
    },
    {
      "cell_type": "markdown",
      "source": [
        "# Preprocessing"
      ],
      "metadata": {
        "id": "UUdeLk3cPREE"
      }
    },
    {
      "cell_type": "code",
      "source": [
        "import pandas as pd\n",
        "import numpy as np\n",
        "import math\n",
        "import random\n",
        "import matplotlib.pyplot as plt\n",
        "# import utils\n",
        "\n",
        "from sklearn.tree import DecisionTreeClassifier\n",
        "from sklearn.metrics import classification_report\n",
        "from sklearn.metrics import accuracy_score\n",
        "from sklearn.ensemble import AdaBoostClassifier\n",
        "from sklearn import preprocessing\n",
        "\n",
        "from sklearn.linear_model import LogisticRegression\n",
        "from sklearn.metrics import classification_report, accuracy_score\n",
        "from sklearn.metrics import f1_score\n",
        "from sklearn.metrics import log_loss\n",
        "from sklearn.ensemble import RandomForestClassifier\n",
        "from sklearn.svm import SVC\n",
        "from sklearn.neural_network import MLPClassifier\n",
        "\n",
        "from vaderSentiment.vaderSentiment import SentimentIntensityAnalyzer"
      ],
      "metadata": {
        "id": "EPdyDG2er5IF"
      },
      "execution_count": 3,
      "outputs": []
    },
    {
      "cell_type": "code",
      "source": [
        "import warnings\n",
        "warnings.filterwarnings(\"ignore\", category=UserWarning)"
      ],
      "metadata": {
        "id": "NXybavUx5Gbn"
      },
      "execution_count": 4,
      "outputs": []
    },
    {
      "cell_type": "code",
      "source": [
        "#  Loading the database\n",
        "url = \"/content/drive/MyDrive/zomato.csv\"\n",
        "df = pd.read_csv(url)\n",
        "print(df.head)"
      ],
      "metadata": {
        "id": "NVNhNwMgr8BK"
      },
      "execution_count": null,
      "outputs": []
    },
    {
      "cell_type": "code",
      "source": [
        "df=df.drop(['dish_liked'],axis=1)\n",
        "df=df.drop(['url', 'address', 'phone', 'menu_item'], axis=1)\n",
        "df=df.dropna()\n",
        "df=df.drop_duplicates()"
      ],
      "metadata": {
        "id": "CorXlJ6sQkYM"
      },
      "execution_count": 6,
      "outputs": []
    },
    {
      "cell_type": "code",
      "source": [
        "df.rate=df.rate.replace({'-':'0/5','NEW':'0/5'})\n",
        "df.rate=df.rate.astype(str)\n",
        "df.rate=df.rate.apply(lambda row: row.replace('/5',''))\n",
        "df.rate=df.rate.astype(float)"
      ],
      "metadata": {
        "id": "S4ZkqtdGQtrz",
        "colab": {
          "base_uri": "https://localhost:8080/"
        },
        "outputId": "654c153d-c42e-4a9e-b1af-512cb8cc0606"
      },
      "execution_count": 7,
      "outputs": [
        {
          "output_type": "stream",
          "name": "stderr",
          "text": [
            "/usr/local/lib/python3.8/dist-packages/pandas/core/generic.py:5516: SettingWithCopyWarning: \n",
            "A value is trying to be set on a copy of a slice from a DataFrame.\n",
            "Try using .loc[row_indexer,col_indexer] = value instead\n",
            "\n",
            "See the caveats in the documentation: https://pandas.pydata.org/pandas-docs/stable/user_guide/indexing.html#returning-a-view-versus-a-copy\n",
            "  self[name] = value\n"
          ]
        }
      ]
    },
    {
      "cell_type": "code",
      "source": [
        "df['approx_cost(for two people)']=df['approx_cost(for two people)'].astype(str)\n",
        "df['approx_cost(for two people)']=df['approx_cost(for two people)'].apply(lambda row: row.replace(',',''))\n",
        "df['approx_cost(for two people)']=df['approx_cost(for two people)'].astype(float)"
      ],
      "metadata": {
        "id": "acXURlukQxAU",
        "colab": {
          "base_uri": "https://localhost:8080/"
        },
        "outputId": "1873bb00-c8ec-4420-990e-0ee2636be298"
      },
      "execution_count": 8,
      "outputs": [
        {
          "output_type": "stream",
          "name": "stderr",
          "text": [
            "<ipython-input-8-6e01825ff696>:1: SettingWithCopyWarning: \n",
            "A value is trying to be set on a copy of a slice from a DataFrame.\n",
            "Try using .loc[row_indexer,col_indexer] = value instead\n",
            "\n",
            "See the caveats in the documentation: https://pandas.pydata.org/pandas-docs/stable/user_guide/indexing.html#returning-a-view-versus-a-copy\n",
            "  df['approx_cost(for two people)']=df['approx_cost(for two people)'].astype(str)\n",
            "<ipython-input-8-6e01825ff696>:2: SettingWithCopyWarning: \n",
            "A value is trying to be set on a copy of a slice from a DataFrame.\n",
            "Try using .loc[row_indexer,col_indexer] = value instead\n",
            "\n",
            "See the caveats in the documentation: https://pandas.pydata.org/pandas-docs/stable/user_guide/indexing.html#returning-a-view-versus-a-copy\n",
            "  df['approx_cost(for two people)']=df['approx_cost(for two people)'].apply(lambda row: row.replace(',',''))\n",
            "<ipython-input-8-6e01825ff696>:3: SettingWithCopyWarning: \n",
            "A value is trying to be set on a copy of a slice from a DataFrame.\n",
            "Try using .loc[row_indexer,col_indexer] = value instead\n",
            "\n",
            "See the caveats in the documentation: https://pandas.pydata.org/pandas-docs/stable/user_guide/indexing.html#returning-a-view-versus-a-copy\n",
            "  df['approx_cost(for two people)']=df['approx_cost(for two people)'].astype(float)\n"
          ]
        }
      ]
    },
    {
      "cell_type": "code",
      "source": [
        "df['rest_type'] = df['rest_type'].astype('str')\n",
        "df['rest_type'] = df['rest_type'].apply(lambda string: string.split(','))\n",
        "df['rest_type'] = df['rest_type'].apply(lambda lst: sorted([string.strip() for string in lst]))\n",
        "df['rest_type'] = df['rest_type'].apply(lambda lst: ', '.join(lst))\n",
        "\n",
        "# correct cuisines column (change order)\n",
        "df['cuisines'] = df['cuisines'].astype('str')\n",
        "df['cuisines'] = df['cuisines'].apply(lambda string: string.split(','))\n",
        "df['cuisines'] = df['cuisines'].apply(lambda lst: sorted([string.strip() for string in lst]))\n",
        "df['cuisines'] = df['cuisines'].apply(lambda lst: ', '.join(lst))"
      ],
      "metadata": {
        "id": "hnLNGfHnQF3e",
        "colab": {
          "base_uri": "https://localhost:8080/"
        },
        "outputId": "11310f70-3f0a-461b-a2bf-2f8badbd18c5"
      },
      "execution_count": 9,
      "outputs": [
        {
          "output_type": "stream",
          "name": "stderr",
          "text": [
            "<ipython-input-9-28f9b57c6941>:1: SettingWithCopyWarning: \n",
            "A value is trying to be set on a copy of a slice from a DataFrame.\n",
            "Try using .loc[row_indexer,col_indexer] = value instead\n",
            "\n",
            "See the caveats in the documentation: https://pandas.pydata.org/pandas-docs/stable/user_guide/indexing.html#returning-a-view-versus-a-copy\n",
            "  df['rest_type'] = df['rest_type'].astype('str')\n",
            "<ipython-input-9-28f9b57c6941>:2: SettingWithCopyWarning: \n",
            "A value is trying to be set on a copy of a slice from a DataFrame.\n",
            "Try using .loc[row_indexer,col_indexer] = value instead\n",
            "\n",
            "See the caveats in the documentation: https://pandas.pydata.org/pandas-docs/stable/user_guide/indexing.html#returning-a-view-versus-a-copy\n",
            "  df['rest_type'] = df['rest_type'].apply(lambda string: string.split(','))\n"
          ]
        }
      ]
    },
    {
      "cell_type": "code",
      "source": [
        "df[\"reviews_list\"] = df[\"reviews_list\"].apply(eval)\n",
        "reviews_count=[len(r) for r in df['reviews_list']]\n",
        "df[\"reviews_list\"]=reviews_count"
      ],
      "metadata": {
        "id": "ar9srvAhRFtI"
      },
      "execution_count": 10,
      "outputs": []
    },
    {
      "cell_type": "code",
      "source": [
        "lst = [0]*len(df.index)\n",
        "df[\"label\"] = lst\n",
        "for i in df.index:\n",
        "  if df[\"rate\"][i] < 3.5:\n",
        "    df[\"label\"][i] = 0\n",
        "  else:\n",
        "    df[\"label\"][i] = 1"
      ],
      "metadata": {
        "id": "s_PtgBaD06Xw",
        "colab": {
          "base_uri": "https://localhost:8080/"
        },
        "outputId": "0db06ee1-0096-4a31-8249-a291e4980c8d"
      },
      "execution_count": 11,
      "outputs": [
        {
          "output_type": "stream",
          "name": "stderr",
          "text": [
            "<ipython-input-11-e56b6aba3cd2>:7: SettingWithCopyWarning: \n",
            "A value is trying to be set on a copy of a slice from a DataFrame\n",
            "\n",
            "See the caveats in the documentation: https://pandas.pydata.org/pandas-docs/stable/user_guide/indexing.html#returning-a-view-versus-a-copy\n",
            "  df[\"label\"][i] = 1\n",
            "<ipython-input-11-e56b6aba3cd2>:5: SettingWithCopyWarning: \n",
            "A value is trying to be set on a copy of a slice from a DataFrame\n",
            "\n",
            "See the caveats in the documentation: https://pandas.pydata.org/pandas-docs/stable/user_guide/indexing.html#returning-a-view-versus-a-copy\n",
            "  df[\"label\"][i] = 0\n"
          ]
        }
      ]
    },
    {
      "cell_type": "code",
      "source": [
        "def encode_column(df, column):\n",
        "  le = preprocessing.LabelEncoder()\n",
        "  le.fit(df[column].unique())\n",
        "  df[column] = le.transform(df[column])\n",
        "  mean = df[column].mean()\n",
        "  std_dev = df[column].std()\n",
        "  df[column] = df[column].apply(lambda x: (x - mean) / std_dev)\n",
        "  return df"
      ],
      "metadata": {
        "id": "QKpdk8Qn26tr"
      },
      "execution_count": 12,
      "outputs": []
    },
    {
      "cell_type": "code",
      "source": [
        "# Dropping columns\n",
        "df = df.drop([\"rate\", \"name\"], axis = 1)"
      ],
      "metadata": {
        "id": "0kBrFYVg4VXo"
      },
      "execution_count": 13,
      "outputs": []
    },
    {
      "cell_type": "code",
      "source": [
        "# Encoding columns\n",
        "\n",
        "df = encode_column(df, \"online_order\")\n",
        "df = encode_column(df, \"book_table\")\n",
        "df = encode_column(df, \"location\")\n",
        "df = encode_column(df, \"rest_type\")\n",
        "df = encode_column(df, \"cuisines\")\n",
        "df = encode_column(df, \"listed_in(type)\")\n",
        "df = encode_column(df, \"listed_in(city)\")"
      ],
      "metadata": {
        "id": "FkKtKHbb3zhJ"
      },
      "execution_count": 14,
      "outputs": []
    },
    {
      "cell_type": "markdown",
      "source": [
        "# Running models without sentiment ananlysis"
      ],
      "metadata": {
        "id": "svQxqfufdh34"
      }
    },
    {
      "cell_type": "code",
      "source": [
        "clf_lr = LogisticRegression(random_state = 0, max_iter = 500)\n",
        "clf_dt_entropy = DecisionTreeClassifier(criterion=\"entropy\", max_depth=15, random_state = 0)\n",
        "clf_dt_gini = DecisionTreeClassifier(criterion=\"gini\", max_depth=15, random_state = 0)\n",
        "clf_rf = RandomForestClassifier(max_depth=3, random_state=0)\n",
        "clf_svc = SVC(random_state = 0)\n",
        "clf_adaboost = AdaBoostClassifier(base_estimator = DecisionTreeClassifier(max_depth = 3), n_estimators=100, random_state=0)\n",
        "clf_mlp_relu = MLPClassifier(random_state=0, hidden_layer_sizes = (256, 128), max_iter=1000, early_stopping = True, activation = \"relu\", solver = \"adam\")\n",
        "clf_mlp_tanh = MLPClassifier(random_state=0, hidden_layer_sizes = (256, 128), max_iter=1000, early_stopping = True, activation = \"tanh\", solver = \"adam\")\n",
        "clf_mlp_sigmoid = MLPClassifier(random_state=0, hidden_layer_sizes = (256, 128), max_iter=1000, early_stopping = True, activation = \"logistic\", solver = \"adam\")\n",
        "clf_mlp_linear = MLPClassifier(random_state=0, hidden_layer_sizes = (256, 128), max_iter=1000, early_stopping = True, activation = \"identity\", solver = \"adam\")"
      ],
      "metadata": {
        "id": "MTTvSOTbCyv9"
      },
      "execution_count": 33,
      "outputs": []
    },
    {
      "cell_type": "code",
      "source": [
        "def get_k_folds(df, k):\n",
        "  size = len(df.index) // k\n",
        "  df_shuffled = df.sample(frac = 1)\n",
        "  folds = []\n",
        "  start = 0\n",
        "  for i in range(k - 1):\n",
        "    folds.append(df_shuffled.iloc[start:start + size,:])\n",
        "    start += size\n",
        "  folds.append(df_shuffled.iloc[start:, :])\n",
        "  return folds"
      ],
      "metadata": {
        "id": "xQkBIION5SB9"
      },
      "execution_count": 16,
      "outputs": []
    },
    {
      "cell_type": "code",
      "source": [
        "def train_k_fold(clf, df, k):\n",
        "\n",
        "  print(\"===========================================================================\")\n",
        "  print(\"Model\", clf)\n",
        "  folds = get_k_folds(df, k)\n",
        "  train_accuracies = []\n",
        "  test_accuracies = []\n",
        "  f1_scores = []\n",
        "  for i in range(k):\n",
        "    temp = folds.copy()\n",
        "    test_df = folds[i]\n",
        "    temp.pop(i)\n",
        "    train_df = pd.concat(temp)\n",
        "    train_labels = train_df[\"label\"]\n",
        "    test_labels = test_df[\"label\"]\n",
        "    train_df = train_df.drop([\"label\"], axis = 1)\n",
        "    test_df = test_df.drop([\"label\"], axis = 1)\n",
        "    clf.fit(train_df, train_labels)\n",
        "    train_predictions = clf.predict(train_df)\n",
        "    test_predictions = clf.predict(test_df)\n",
        "    train_loss = log_loss(train_labels, train_predictions)\n",
        "    test_loss = log_loss(test_labels, test_predictions)\n",
        "    train_accuracy = accuracy_score(train_labels, train_predictions)\n",
        "    test_accuracy = accuracy_score(test_labels, test_predictions)\n",
        "    train_accuracies.append(train_accuracy)\n",
        "    test_accuracies.append(test_accuracy)\n",
        "    macro_f1 = f1_score(test_labels, test_predictions, average=\"macro\")\n",
        "    f1_scores.append(macro_f1)\n",
        "    print(\"===========================================================================\")\n",
        "    print(\"Training loss for fold {0}: {1}\".format(i + 1, train_loss))\n",
        "    print(\"Testing loss for fold {0}: {1}\".format(i + 1, test_loss))\n",
        "    print(\"Training accuracy for fold {0}: {1}\".format(i + 1, train_accuracy))\n",
        "    print(\"Testing accuracy for fold {0}: {1}\".format(i + 1, test_accuracy))\n",
        "    print(\"Macro F1-Score for fold {0}: {1}\".format(i + 1, macro_f1))\n",
        "    print(\"===========================================================================\")\n",
        "  return sum(train_accuracies) / k, sum(test_accuracies) / k, sum(f1_scores) / k\n"
      ],
      "metadata": {
        "id": "EcthdjVT6oU4"
      },
      "execution_count": 17,
      "outputs": []
    },
    {
      "cell_type": "code",
      "source": [
        "lr_train_accuracy, lr_accuracy, lr_f1 = train_k_fold(clf_lr, df, 4)"
      ],
      "metadata": {
        "colab": {
          "base_uri": "https://localhost:8080/"
        },
        "id": "NO-snj9qM5Xt",
        "outputId": "1393f8cc-9c72-4842-c9ee-bd963a3bdc28"
      },
      "execution_count": 18,
      "outputs": [
        {
          "output_type": "stream",
          "name": "stdout",
          "text": [
            "===========================================================================\n",
            "Model LogisticRegression(max_iter=500, random_state=0)\n",
            "===========================================================================\n",
            "Training loss for fold 1: 8.452126213310201\n",
            "Testing loss for fold 1: 8.385399353364933\n",
            "Training accuracy for fold 1: 0.7552897884084636\n",
            "Testing accuracy for fold 1: 0.7572217111315548\n",
            "Macro F1-Score for fold 1: 0.6855687900295577\n",
            "===========================================================================\n",
            "===========================================================================\n",
            "Training loss for fold 2: 8.445774716409737\n",
            "Testing loss for fold 2: 8.379044546263518\n",
            "Training accuracy for fold 2: 0.7554737810487581\n",
            "Testing accuracy for fold 2: 0.7574057037718491\n",
            "Macro F1-Score for fold 2: 0.6854489234888879\n",
            "===========================================================================\n",
            "===========================================================================\n",
            "Training loss for fold 3: 8.456369126579645\n",
            "Testing loss for fold 3: 8.706335170971638\n",
            "Training accuracy for fold 3: 0.7551671266482674\n",
            "Testing accuracy for fold 3: 0.7479300827966882\n",
            "Macro F1-Score for fold 3: 0.6744584249881549\n",
            "===========================================================================\n",
            "===========================================================================\n",
            "Training loss for fold 4: 8.379045232823715\n",
            "Testing loss for fold 4: 8.423527460373217\n",
            "Training accuracy for fold 4: 0.7574057037718491\n",
            "Testing accuracy for fold 4: 0.7561177552897884\n",
            "Macro F1-Score for fold 4: 0.6875888829168182\n",
            "===========================================================================\n"
          ]
        }
      ]
    },
    {
      "cell_type": "code",
      "source": [
        "dt_entropy_train_accuracy, dt_entropy_accuracy, dt_entropy_f1 = train_k_fold(clf_dt_entropy, df, 4)"
      ],
      "metadata": {
        "colab": {
          "base_uri": "https://localhost:8080/"
        },
        "id": "oDSa2WetTLjd",
        "outputId": "f65bda77-52e9-42f1-ea36-c911d639e91b"
      },
      "execution_count": 19,
      "outputs": [
        {
          "output_type": "stream",
          "name": "stdout",
          "text": [
            "===========================================================================\n",
            "Model DecisionTreeClassifier(criterion='entropy', max_depth=15, random_state=0)\n",
            "===========================================================================\n",
            "Training loss for fold 1: 2.6457999445664178\n",
            "Testing loss for fold 1: 3.867010939383498\n",
            "Training accuracy for fold 1: 0.9233977307574364\n",
            "Testing accuracy for fold 1: 0.8880404783808648\n",
            "Macro F1-Score for fold 1: 0.8628968665752044\n",
            "===========================================================================\n",
            "===========================================================================\n",
            "Training loss for fold 2: 2.445611959688487\n",
            "Testing loss for fold 2: 3.571500823464321\n",
            "Training accuracy for fold 2: 0.9291934989267095\n",
            "Testing accuracy for fold 2: 0.8965961361545538\n",
            "Macro F1-Score for fold 2: 0.8754377003970985\n",
            "===========================================================================\n",
            "===========================================================================\n",
            "Training loss for fold 3: 2.473154410169382\n",
            "Testing loss for fold 3: 3.67000537239772\n",
            "Training accuracy for fold 3: 0.9283961974854339\n",
            "Testing accuracy for fold 3: 0.8937442502299908\n",
            "Macro F1-Score for fold 3: 0.8700568472636558\n",
            "===========================================================================\n",
            "===========================================================================\n",
            "Training loss for fold 4: 2.8131440809572914\n",
            "Testing loss for fold 4: 3.9845727742990897\n",
            "Training accuracy for fold 4: 0.9185525912296841\n",
            "Testing accuracy for fold 4: 0.8846366145354185\n",
            "Macro F1-Score for fold 4: 0.85989370612948\n",
            "===========================================================================\n"
          ]
        }
      ]
    },
    {
      "cell_type": "code",
      "source": [
        "dt_gini_train_accuracy, dt_gini_accuracy, dt_gini_f1 = train_k_fold(clf_dt_gini, df, 4)"
      ],
      "metadata": {
        "colab": {
          "base_uri": "https://localhost:8080/"
        },
        "id": "cbSMcLz3TpcU",
        "outputId": "8c815cea-a1ab-4488-d312-9feb54d6fad9"
      },
      "execution_count": 20,
      "outputs": [
        {
          "output_type": "stream",
          "name": "stdout",
          "text": [
            "===========================================================================\n",
            "Model DecisionTreeClassifier(max_depth=15, random_state=0)\n",
            "===========================================================================\n",
            "Training loss for fold 1: 1.888494477914027\n",
            "Testing loss for fold 1: 3.469820452520671\n",
            "Training accuracy for fold 1: 0.9453235203925177\n",
            "Testing accuracy for fold 1: 0.899540018399264\n",
            "Macro F1-Score for fold 1: 0.8793572321345229\n",
            "===========================================================================\n",
            "===========================================================================\n",
            "Training loss for fold 2: 1.9901710237365762\n",
            "Testing loss for fold 2: 3.4857036083730994\n",
            "Training accuracy for fold 2: 0.9423796381478075\n",
            "Testing accuracy for fold 2: 0.8990800367985281\n",
            "Macro F1-Score for fold 2: 0.8795501208797835\n",
            "===========================================================================\n",
            "===========================================================================\n",
            "Training loss for fold 3: 1.692546905264823\n",
            "Testing loss for fold 3: 3.2505692723388466\n",
            "Training accuracy for fold 3: 0.9509966268015946\n",
            "Testing accuracy for fold 3: 0.9058877644894204\n",
            "Macro F1-Score for fold 3: 0.8870923696797594\n",
            "===========================================================================\n",
            "===========================================================================\n",
            "Training loss for fold 4: 1.9287408784761233\n",
            "Testing loss for fold 4: 3.2918773207185685\n",
            "Training accuracy for fold 4: 0.9441582336706532\n",
            "Testing accuracy for fold 4: 0.904691812327507\n",
            "Macro F1-Score for fold 4: 0.886157188345027\n",
            "===========================================================================\n"
          ]
        }
      ]
    },
    {
      "cell_type": "code",
      "source": [
        "rf_train_accuracy, rf_accuracy, rf_f1 = train_k_fold(clf_rf, df, 4)"
      ],
      "metadata": {
        "colab": {
          "base_uri": "https://localhost:8080/"
        },
        "id": "dl80Uou0TzqF",
        "outputId": "9efabe21-432a-49ba-f732-d24153477141"
      },
      "execution_count": 21,
      "outputs": [
        {
          "output_type": "stream",
          "name": "stdout",
          "text": [
            "===========================================================================\n",
            "Model RandomForestClassifier(max_depth=3, random_state=0)\n",
            "===========================================================================\n",
            "Training loss for fold 1: 6.128347469534946\n",
            "Testing loss for fold 1: 5.964176654113605\n",
            "Training accuracy for fold 1: 0.8225697638761116\n",
            "Testing accuracy for fold 1: 0.8273229070837167\n",
            "Macro F1-Score for fold 1: 0.765868085151259\n",
            "===========================================================================\n",
            "===========================================================================\n",
            "Training loss for fold 2: 6.057383458521893\n",
            "Testing loss for fold 2: 6.262862371362971\n",
            "Training accuracy for fold 2: 0.8246243483593989\n",
            "Testing accuracy for fold 2: 0.8186752529898804\n",
            "Macro F1-Score for fold 2: 0.7587065333027583\n",
            "===========================================================================\n",
            "===========================================================================\n",
            "Training loss for fold 3: 6.103990771667163\n",
            "Testing loss for fold 3: 6.170718146532578\n",
            "Training accuracy for fold 3: 0.8232750689972401\n",
            "Testing accuracy for fold 3: 0.8213431462741491\n",
            "Macro F1-Score for fold 3: 0.7562267353708834\n",
            "===========================================================================\n",
            "===========================================================================\n",
            "Training loss for fold 4: 6.1124634554822705\n",
            "Testing loss for fold 4: 6.034083578030345\n",
            "Training accuracy for fold 4: 0.8230297454768476\n",
            "Testing accuracy for fold 4: 0.8252989880404784\n",
            "Macro F1-Score for fold 4: 0.7591380721162581\n",
            "===========================================================================\n"
          ]
        }
      ]
    },
    {
      "cell_type": "code",
      "source": [
        "adaboost_train_accuracy, adaboost_accuracy, adaboost_f1 = train_k_fold(clf_adaboost, df, 4)"
      ],
      "metadata": {
        "colab": {
          "base_uri": "https://localhost:8080/"
        },
        "id": "Xz_PRi32UTXH",
        "outputId": "690a2ae1-99d0-436d-9d5a-2e991abc4a16"
      },
      "execution_count": 22,
      "outputs": [
        {
          "output_type": "stream",
          "name": "stdout",
          "text": [
            "===========================================================================\n",
            "Model AdaBoostClassifier(base_estimator=DecisionTreeClassifier(max_depth=3),\n",
            "                   n_estimators=100, random_state=0)\n",
            "===========================================================================\n",
            "Training loss for fold 1: 4.254658071250992\n",
            "Testing loss for fold 1: 4.8806224229250255\n",
            "Training accuracy for fold 1: 0.8768169273229071\n",
            "Testing accuracy for fold 1: 0.8586936522539098\n",
            "Macro F1-Score for fold 1: 0.8297796332828676\n",
            "===========================================================================\n",
            "===========================================================================\n",
            "Training loss for fold 2: 4.155097268901521\n",
            "Testing loss for fold 2: 4.734458034471357\n",
            "Training accuracy for fold 2: 0.8796994786875192\n",
            "Testing accuracy for fold 2: 0.8629254829806807\n",
            "Macro F1-Score for fold 2: 0.8339612467233173\n",
            "===========================================================================\n",
            "===========================================================================\n",
            "Training loss for fold 3: 4.177337830976114\n",
            "Testing loss for fold 3: 4.537450113564901\n",
            "Training accuracy for fold 3: 0.8790555044464888\n",
            "Testing accuracy for fold 3: 0.8686292548298068\n",
            "Macro F1-Score for fold 3: 0.8407515482608054\n",
            "===========================================================================\n",
            "===========================================================================\n",
            "Training loss for fold 4: 4.178399110993633\n",
            "Testing loss for fold 4: 4.794831166195519\n",
            "Training accuracy for fold 4: 0.8790248390064398\n",
            "Testing accuracy for fold 4: 0.8611775528978841\n",
            "Macro F1-Score for fold 4: 0.8315138582802901\n",
            "===========================================================================\n"
          ]
        }
      ]
    },
    {
      "cell_type": "code",
      "source": [
        "svc_train_accuracy, svc_accuracy, svc_f1 = train_k_fold(clf_svc, df, 4)"
      ],
      "metadata": {
        "colab": {
          "base_uri": "https://localhost:8080/"
        },
        "id": "lR51_SFTUpg8",
        "outputId": "861ccfec-b1bf-4542-e258-385327ed9267"
      },
      "execution_count": 23,
      "outputs": [
        {
          "output_type": "stream",
          "name": "stdout",
          "text": [
            "===========================================================================\n",
            "Model SVC(random_state=0)\n",
            "===========================================================================\n",
            "Training loss for fold 1: 8.856658834950672\n",
            "Testing loss for fold 1: 8.741210144387411\n",
            "Training accuracy for fold 1: 0.743575590309721\n",
            "Testing accuracy for fold 1: 0.746918123275069\n",
            "Macro F1-Score for fold 1: 0.7214810971942383\n",
            "===========================================================================\n",
            "===========================================================================\n",
            "Training loss for fold 2: 8.824883769603296\n",
            "Testing loss for fold 2: 8.83971366348051\n",
            "Training accuracy for fold 2: 0.7444955535111929\n",
            "Testing accuracy for fold 2: 0.744066237350506\n",
            "Macro F1-Score for fold 2: 0.7170646354830491\n",
            "===========================================================================\n",
            "===========================================================================\n",
            "Training loss for fold 3: 8.920205900644541\n",
            "Testing loss for fold 3: 8.992228004074198\n",
            "Training accuracy for fold 3: 0.741735663906777\n",
            "Testing accuracy for fold 3: 0.7396504139834407\n",
            "Macro F1-Score for fold 3: 0.7147769923451223\n",
            "===========================================================================\n",
            "===========================================================================\n",
            "Training loss for fold 4: 8.794168978953152\n",
            "Testing loss for fold 4: 8.820647991655905\n",
            "Training accuracy for fold 4: 0.7453848512726158\n",
            "Testing accuracy for fold 4: 0.7446182152713892\n",
            "Macro F1-Score for fold 4: 0.7188983998614722\n",
            "===========================================================================\n"
          ]
        }
      ]
    },
    {
      "cell_type": "code",
      "source": [
        "mlp_train_accuracy_relu, mlp_accuracy_relu, mlp_f1_relu = train_k_fold(clf_mlp_relu, df, 4)"
      ],
      "metadata": {
        "colab": {
          "base_uri": "https://localhost:8080/"
        },
        "id": "gOPP4-M6VPZO",
        "outputId": "d0360463-2231-4837-8374-175e7713a9be"
      },
      "execution_count": 34,
      "outputs": [
        {
          "output_type": "stream",
          "name": "stdout",
          "text": [
            "===========================================================================\n",
            "Model MLPClassifier(early_stopping=True, hidden_layer_sizes=(256, 128), max_iter=1000,\n",
            "              random_state=0)\n",
            "===========================================================================\n",
            "Training loss for fold 1: 6.2173079278728\n",
            "Testing loss for fold 1: 6.0308922348556235\n",
            "Training accuracy for fold 1: 0.8199938669119902\n",
            "Testing accuracy for fold 1: 0.8253909843606255\n",
            "Macro F1-Score for fold 1: 0.7702292390795725\n",
            "===========================================================================\n",
            "===========================================================================\n",
            "Training loss for fold 2: 6.041485933945328\n",
            "Testing loss for fold 2: 6.2533190899276585\n",
            "Training accuracy for fold 2: 0.8250843299601349\n",
            "Testing accuracy for fold 2: 0.818951241950322\n",
            "Macro F1-Score for fold 2: 0.7670714285714286\n",
            "===========================================================================\n",
            "===========================================================================\n",
            "Training loss for fold 3: 6.097624170442351\n",
            "Testing loss for fold 3: 6.084913575439237\n",
            "Training accuracy for fold 3: 0.8234590616375345\n",
            "Testing accuracy for fold 3: 0.8238270469181233\n",
            "Macro F1-Score for fold 3: 0.7686916679451969\n",
            "===========================================================================\n",
            "===========================================================================\n",
            "Training loss for fold 4: 6.101864337471007\n",
            "Testing loss for fold 4: 6.221551159902337\n",
            "Training accuracy for fold 4: 0.8233363998773382\n",
            "Testing accuracy for fold 4: 0.8198712051517939\n",
            "Macro F1-Score for fold 4: 0.7581283065292604\n",
            "===========================================================================\n"
          ]
        }
      ]
    },
    {
      "cell_type": "code",
      "source": [
        "mlp_train_accuracy_tanh, mlp_accuracy_tanh, mlp_f1_tanh = train_k_fold(clf_mlp_tanh, df, 4)"
      ],
      "metadata": {
        "colab": {
          "base_uri": "https://localhost:8080/"
        },
        "id": "FKLPhUbyX52n",
        "outputId": "41e7f805-8cef-4600-fd38-19e5dc439d13"
      },
      "execution_count": 25,
      "outputs": [
        {
          "output_type": "stream",
          "name": "stdout",
          "text": [
            "===========================================================================\n",
            "Model MLPClassifier(activation='tanh', early_stopping=True,\n",
            "              hidden_layer_sizes=(256, 128), max_iter=1000, random_state=0)\n",
            "===========================================================================\n",
            "Training loss for fold 1: 5.9927644711274395\n",
            "Testing loss for fold 1: 6.2120136161486785\n",
            "Training accuracy for fold 1: 0.8264949402023919\n",
            "Testing accuracy for fold 1: 0.8201471941122355\n",
            "Macro F1-Score for fold 1: 0.7646353806832786\n",
            "===========================================================================\n",
            "===========================================================================\n",
            "Training loss for fold 2: 5.898495062621251\n",
            "Testing loss for fold 2: 6.034065629385178\n",
            "Training accuracy for fold 2: 0.8292241643667586\n",
            "Testing accuracy for fold 2: 0.8252989880404784\n",
            "Macro F1-Score for fold 2: 0.7747085076383671\n",
            "===========================================================================\n",
            "===========================================================================\n",
            "Training loss for fold 3: 6.059485789551109\n",
            "Testing loss for fold 3: 5.964162898389644\n",
            "Training accuracy for fold 3: 0.8245630174793008\n",
            "Testing accuracy for fold 3: 0.8273229070837167\n",
            "Macro F1-Score for fold 3: 0.777717784901024\n",
            "===========================================================================\n",
            "===========================================================================\n",
            "Training loss for fold 4: 6.09338155141299\n",
            "Testing loss for fold 4: 6.049956288359766\n",
            "Training accuracy for fold 4: 0.8235817233977307\n",
            "Testing accuracy for fold 4: 0.8248390064397424\n",
            "Macro F1-Score for fold 4: 0.7742421799025572\n",
            "===========================================================================\n"
          ]
        }
      ]
    },
    {
      "cell_type": "code",
      "source": [
        "mlp_train_accuracy_sigmoid, mlp_accuracy_sigmoid, mlp_f1_sigmoid = train_k_fold(clf_mlp_sigmoid, df, 4)"
      ],
      "metadata": {
        "colab": {
          "base_uri": "https://localhost:8080/"
        },
        "id": "OsxlGsuoX_Fr",
        "outputId": "4aa65aa7-70c7-4240-83cb-0ee1ccd74072"
      },
      "execution_count": 26,
      "outputs": [
        {
          "output_type": "stream",
          "name": "stdout",
          "text": [
            "===========================================================================\n",
            "Model MLPClassifier(activation='logistic', early_stopping=True,\n",
            "              hidden_layer_sizes=(256, 128), max_iter=1000, random_state=0)\n",
            "===========================================================================\n",
            "Training loss for fold 1: 6.139988472238147\n",
            "Testing loss for fold 1: 6.037249763677823\n",
            "Training accuracy for fold 1: 0.8222324440355719\n",
            "Testing accuracy for fold 1: 0.8252069917203312\n",
            "Macro F1-Score for fold 1: 0.768552387017973\n",
            "===========================================================================\n",
            "===========================================================================\n",
            "Training loss for fold 2: 5.917564044646811\n",
            "Testing loss for fold 2: 5.9800538516043185\n",
            "Training accuracy for fold 2: 0.8286721864458755\n",
            "Testing accuracy for fold 2: 0.8268629254829807\n",
            "Macro F1-Score for fold 2: 0.7760436627573359\n",
            "===========================================================================\n",
            "===========================================================================\n",
            "Training loss for fold 3: 5.9482723374950845\n",
            "Testing loss for fold 3: 5.970513144769749\n",
            "Training accuracy for fold 3: 0.8277828886844526\n",
            "Testing accuracy for fold 3: 0.8271389144434222\n",
            "Macro F1-Score for fold 3: 0.7824871920003216\n",
            "===========================================================================\n",
            "===========================================================================\n",
            "Training loss for fold 4: 6.022406261196689\n",
            "Testing loss for fold 4: 6.2882575456417085\n",
            "Training accuracy for fold 4: 0.825636307881018\n",
            "Testing accuracy for fold 4: 0.8179392824287028\n",
            "Macro F1-Score for fold 4: 0.7711031338355557\n",
            "===========================================================================\n"
          ]
        }
      ]
    },
    {
      "cell_type": "code",
      "source": [
        "mlp_train_accuracy_linear, mlp_accuracy_linear, mlp_f1_linear = train_k_fold(clf_mlp_linear, df, 4)"
      ],
      "metadata": {
        "colab": {
          "base_uri": "https://localhost:8080/"
        },
        "id": "2t2TmcMSYRFZ",
        "outputId": "736350a1-d373-4ea0-e801-d8bbc25e378f"
      },
      "execution_count": 27,
      "outputs": [
        {
          "output_type": "stream",
          "name": "stdout",
          "text": [
            "===========================================================================\n",
            "Model MLPClassifier(activation='identity', early_stopping=True,\n",
            "              hidden_layer_sizes=(256, 128), max_iter=1000, random_state=0)\n",
            "===========================================================================\n",
            "Training loss for fold 1: 6.289329565422321\n",
            "Testing loss for fold 1: 6.272385644472521\n",
            "Training accuracy for fold 1: 0.8179086169886538\n",
            "Testing accuracy for fold 1: 0.8183992640294389\n",
            "Macro F1-Score for fold 1: 0.7620415468966252\n",
            "===========================================================================\n",
            "===========================================================================\n",
            "Training loss for fold 2: 6.710849508425088\n",
            "Testing loss for fold 2: 6.771222370429172\n",
            "Training accuracy for fold 2: 0.805703771849126\n",
            "Testing accuracy for fold 2: 0.8039558417663294\n",
            "Macro F1-Score for fold 2: 0.7622874552419404\n",
            "===========================================================================\n",
            "===========================================================================\n",
            "Training loss for fold 3: 7.939502360888525\n",
            "Testing loss for fold 3: 7.931027813552879\n",
            "Training accuracy for fold 3: 0.770131861392211\n",
            "Testing accuracy for fold 3: 0.7703771849126035\n",
            "Macro F1-Score for fold 3: 0.7004471379211619\n",
            "===========================================================================\n",
            "===========================================================================\n",
            "Training loss for fold 4: 6.281909236342164\n",
            "Testing loss for fold 4: 6.297796634155813\n",
            "Training accuracy for fold 4: 0.8181232750689973\n",
            "Testing accuracy for fold 4: 0.8176632934682613\n",
            "Macro F1-Score for fold 4: 0.762737985110788\n",
            "===========================================================================\n"
          ]
        }
      ]
    },
    {
      "cell_type": "code",
      "source": [
        "print(\"============================================================\")\n",
        "print(\"Combined results\")\n",
        "print(\"============================================================\")\n",
        "print(\"Training accuracy for Logisitic regression:\", lr_train_accuracy)\n",
        "print(\"Testing accuracy for Logisitic regression:\", lr_accuracy)\n",
        "print(\"Macro_f1 score for Logisitic regression: \", lr_f1)\n",
        "print(\"============================================================\")\n",
        "print(\"Training accuracy for Decision tree (entropy):\", dt_entropy_train_accuracy)\n",
        "print(\"Testing accuracy for Decision tree (entropy):\", dt_entropy_accuracy)\n",
        "print(\"Macro_f1 score for Decision tree (entropy): \", dt_entropy_f1)\n",
        "print(\"============================================================\")\n",
        "print(\"Training accuracy for Decision tree (gini):\", dt_gini_train_accuracy)\n",
        "print(\"Testing accuracy for Decision tree (gini):\", dt_gini_accuracy)\n",
        "print(\"Macro_f1 score for Decision tree (gini): \", dt_gini_f1)\n",
        "print(\"============================================================\")\n",
        "print(\"Training accuracy for Random Forest:\", rf_train_accuracy)\n",
        "print(\"Testing accuracy for Random Forest:\", rf_accuracy)\n",
        "print(\"Macro_f1 score for Random forest: \", rf_f1)\n",
        "print(\"============================================================\")\n",
        "print(\"Training accuracy for AdaBoost classifier:\", adaboost_train_accuracy)\n",
        "print(\"Testing accuracy for AdaBoost classifier:\", adaboost_accuracy)\n",
        "print(\"Macro_f1 score for AdaBoost classifier: \", adaboost_f1)\n",
        "print(\"============================================================\")\n",
        "print(\"Training accuracy for Support vector classifier:\", svc_train_accuracy)\n",
        "print(\"Testing accuracy for Support vector classifier:\", svc_accuracy)\n",
        "print(\"Macro_f1 score for Support vector classifier: \", svc_f1)\n",
        "print(\"============================================================\")\n",
        "print(\"Training Accuracy for MLP classifier (relu):\", mlp_train_accuracy_relu)\n",
        "print(\"Testing accuracy for MLP classifier (relu):\", mlp_accuracy_relu)\n",
        "print(\"Macro_f1 score for MLP classifier (relu): \", mlp_f1_relu)\n",
        "print(\"============================================================\")\n",
        "print(\"Training Accuracy for MLP classifier (tanh):\", mlp_train_accuracy_tanh)\n",
        "print(\"Testing accuracy for MLP classifier (tanh):\", mlp_accuracy_tanh)\n",
        "print(\"Macro_f1 score for MLP classifier (tanh): \", mlp_f1_tanh)\n",
        "print(\"============================================================\")\n",
        "print(\"Training Accuracy for MLP classifier (sigmoid):\", mlp_train_accuracy_sigmoid)\n",
        "print(\"Testing accuracy for MLP classifier (sigmoid):\", mlp_accuracy_sigmoid)\n",
        "print(\"Macro_f1 score for MLP classifier (sigmoid): \", mlp_f1_sigmoid)\n",
        "print(\"============================================================\")\n",
        "print(\"Training Accuracy for MLP classifier (linear):\", mlp_train_accuracy_linear)\n",
        "print(\"Testing accuracy for MLP classifier (linear):\", mlp_accuracy_linear)\n",
        "print(\"Macro_f1 score for MLP classifier (linear): \", mlp_f1_linear)\n",
        "print(\"============================================================\")"
      ],
      "metadata": {
        "colab": {
          "base_uri": "https://localhost:8080/"
        },
        "id": "jTrmuVJnYY5p",
        "outputId": "6c19b393-dff9-46ff-8012-7e1cf8ee5a26"
      },
      "execution_count": 28,
      "outputs": [
        {
          "output_type": "stream",
          "name": "stdout",
          "text": [
            "============================================================\n",
            "Combined results\n",
            "============================================================\n",
            "Training accuracy for Logisitic regression: 0.7558340999693345\n",
            "Testing accuracy for Logisitic regression: 0.7546688132474701\n",
            "Macro_f1 score for Logisitic regression:  0.6832662553558547\n",
            "============================================================\n",
            "Training accuracy for Decision tree (entropy): 0.924885004599816\n",
            "Testing accuracy for Decision tree (entropy): 0.890754369825207\n",
            "Macro_f1 score for Decision tree (entropy):  0.8670712800913596\n",
            "============================================================\n",
            "Training accuracy for Decision tree (gini): 0.9457145047531432\n",
            "Testing accuracy for Decision tree (gini): 0.90229990800368\n",
            "Macro_f1 score for Decision tree (gini):  0.8830392277597732\n",
            "============================================================\n",
            "Training accuracy for Random Forest: 0.8233747316773996\n",
            "Testing accuracy for Random Forest: 0.8231600735970561\n",
            "Macro_f1 score for Random forest:  0.7599848564852896\n",
            "============================================================\n",
            "Training accuracy for AdaBoost classifier: 0.8786491873658386\n",
            "Testing accuracy for AdaBoost classifier: 0.8628564857405704\n",
            "Macro_f1 score for AdaBoost classifier:  0.8340015716368202\n",
            "============================================================\n",
            "Training accuracy for Support vector classifier: 0.7437979147500766\n",
            "Testing accuracy for Support vector classifier: 0.7438132474701012\n",
            "Macro_f1 score for Support vector classifier:  0.7180552812209704\n",
            "============================================================\n",
            "Training Accuracy for MLP classifier (relu): 0.8225467647960748\n",
            "Testing accuracy for MLP classifier (relu): 0.8201701931922724\n",
            "Macro_f1 score for MLP classifier (relu):  0.7633942507066188\n",
            "============================================================\n",
            "Training Accuracy for MLP classifier (tanh): 0.8259659613615455\n",
            "Testing accuracy for MLP classifier (tanh): 0.8244020239190433\n",
            "Macro_f1 score for MLP classifier (tanh):  0.7728259632813066\n",
            "============================================================\n",
            "Training Accuracy for MLP classifier (sigmoid): 0.8260809567617295\n",
            "Testing accuracy for MLP classifier (sigmoid): 0.8242870285188593\n",
            "Macro_f1 score for MLP classifier (sigmoid):  0.7745465939027966\n",
            "============================================================\n",
            "Training Accuracy for MLP classifier (linear): 0.802966881324747\n",
            "Testing accuracy for MLP classifier (linear): 0.8025988960441582\n",
            "Macro_f1 score for MLP classifier (linear):  0.7468785312926289\n",
            "============================================================\n"
          ]
        }
      ]
    },
    {
      "cell_type": "markdown",
      "source": [
        "# Doing sentiment analysis"
      ],
      "metadata": {
        "id": "-aBdj_0SdpTB"
      }
    },
    {
      "cell_type": "code",
      "source": [
        "url = \"/content/drive/MyDrive/zomato.csv\"\n",
        "df_new = pd.read_csv(url)"
      ],
      "metadata": {
        "id": "tS-kt9nZddpR"
      },
      "execution_count": null,
      "outputs": []
    },
    {
      "cell_type": "code",
      "source": [
        "df_new=df_new.drop(['dish_liked'],axis=1)\n",
        "df_new=df_new.drop(['url', 'address', 'phone', 'menu_item', 'name'], axis=1)\n",
        "df_new=df_new.dropna()\n",
        "df_new=df_new.drop_duplicates()\n",
        "\n",
        "df_new.rate=df_new.rate.replace({'-':'0/5','NEW':'0/5'})\n",
        "df_new.rate=df_new.rate.astype(str)\n",
        "df_new.rate=df_new.rate.apply(lambda row: row.replace('/5',''))\n",
        "df_new.rate=df_new.rate.astype(float)\n",
        "\n",
        "df_new['approx_cost(for two people)']=df_new['approx_cost(for two people)'].astype(str)\n",
        "df_new['approx_cost(for two people)']=df_new['approx_cost(for two people)'].apply(lambda row: row.replace(',',''))\n",
        "df_new['approx_cost(for two people)']=df_new['approx_cost(for two people)'].astype(float)\n",
        "\n",
        "df_new['rest_type'] = df_new['rest_type'].astype('str')\n",
        "df_new['rest_type'] = df_new['rest_type'].apply(lambda string: string.split(','))\n",
        "df_new['rest_type'] = df_new['rest_type'].apply(lambda lst: sorted([string.strip() for string in lst]))\n",
        "df_new['rest_type'] = df_new['rest_type'].apply(lambda lst: ', '.join(lst))\n",
        "\n",
        "# correct cuisines column (change order)\n",
        "df_new['cuisines'] = df_new['cuisines'].astype('str')\n",
        "df_new['cuisines'] = df_new['cuisines'].apply(lambda string: string.split(','))\n",
        "df_new['cuisines'] = df_new['cuisines'].apply(lambda lst: sorted([string.strip() for string in lst]))\n",
        "df_new['cuisines'] = df_new['cuisines'].apply(lambda lst: ', '.join(lst))\n",
        "\n",
        "\n",
        "df_new = encode_column(df_new, \"online_order\")\n",
        "df_new = encode_column(df_new, \"book_table\")\n",
        "df_new = encode_column(df_new, \"location\")\n",
        "df_new = encode_column(df_new, \"rest_type\")\n",
        "df_new = encode_column(df_new, \"cuisines\")\n",
        "df_new = encode_column(df_new, \"listed_in(type)\")\n",
        "df_new = encode_column(df_new, \"listed_in(city)\")\n",
        "\n",
        "\n",
        "lst = [0]*len(df_new.index)\n",
        "df_new[\"label\"] = lst\n",
        "for i in df_new.index:\n",
        "  if df_new[\"rate\"][i] < 3.5:\n",
        "    df_new[\"label\"][i] = 0\n",
        "  else:\n",
        "    df_new[\"label\"][i] = 1\n",
        "\n",
        "df_new=df_new.drop(['rate'], axis=1)"
      ],
      "metadata": {
        "colab": {
          "base_uri": "https://localhost:8080/"
        },
        "id": "jTeJCWBVd9jW",
        "outputId": "5305331e-fa26-4f67-ff54-21758c8d3ed3"
      },
      "execution_count": null,
      "outputs": [
        {
          "output_type": "stream",
          "name": "stderr",
          "text": [
            "/usr/local/lib/python3.8/dist-packages/pandas/core/generic.py:5516: SettingWithCopyWarning: \n",
            "A value is trying to be set on a copy of a slice from a DataFrame.\n",
            "Try using .loc[row_indexer,col_indexer] = value instead\n",
            "\n",
            "See the caveats in the documentation: https://pandas.pydata.org/pandas-docs/stable/user_guide/indexing.html#returning-a-view-versus-a-copy\n",
            "  self[name] = value\n",
            "<ipython-input-117-822c729dbab7>:11: SettingWithCopyWarning: \n",
            "A value is trying to be set on a copy of a slice from a DataFrame.\n",
            "Try using .loc[row_indexer,col_indexer] = value instead\n",
            "\n",
            "See the caveats in the documentation: https://pandas.pydata.org/pandas-docs/stable/user_guide/indexing.html#returning-a-view-versus-a-copy\n",
            "  df_new['approx_cost(for two people)']=df_new['approx_cost(for two people)'].astype(str)\n",
            "<ipython-input-117-822c729dbab7>:12: SettingWithCopyWarning: \n",
            "A value is trying to be set on a copy of a slice from a DataFrame.\n",
            "Try using .loc[row_indexer,col_indexer] = value instead\n",
            "\n",
            "See the caveats in the documentation: https://pandas.pydata.org/pandas-docs/stable/user_guide/indexing.html#returning-a-view-versus-a-copy\n",
            "  df_new['approx_cost(for two people)']=df_new['approx_cost(for two people)'].apply(lambda row: row.replace(',',''))\n",
            "<ipython-input-117-822c729dbab7>:13: SettingWithCopyWarning: \n",
            "A value is trying to be set on a copy of a slice from a DataFrame.\n",
            "Try using .loc[row_indexer,col_indexer] = value instead\n",
            "\n",
            "See the caveats in the documentation: https://pandas.pydata.org/pandas-docs/stable/user_guide/indexing.html#returning-a-view-versus-a-copy\n",
            "  df_new['approx_cost(for two people)']=df_new['approx_cost(for two people)'].astype(float)\n",
            "<ipython-input-117-822c729dbab7>:15: SettingWithCopyWarning: \n",
            "A value is trying to be set on a copy of a slice from a DataFrame.\n",
            "Try using .loc[row_indexer,col_indexer] = value instead\n",
            "\n",
            "See the caveats in the documentation: https://pandas.pydata.org/pandas-docs/stable/user_guide/indexing.html#returning-a-view-versus-a-copy\n",
            "  df_new['rest_type'] = df_new['rest_type'].astype('str')\n",
            "<ipython-input-117-822c729dbab7>:16: SettingWithCopyWarning: \n",
            "A value is trying to be set on a copy of a slice from a DataFrame.\n",
            "Try using .loc[row_indexer,col_indexer] = value instead\n",
            "\n",
            "See the caveats in the documentation: https://pandas.pydata.org/pandas-docs/stable/user_guide/indexing.html#returning-a-view-versus-a-copy\n",
            "  df_new['rest_type'] = df_new['rest_type'].apply(lambda string: string.split(','))\n",
            "<ipython-input-117-822c729dbab7>:42: SettingWithCopyWarning: \n",
            "A value is trying to be set on a copy of a slice from a DataFrame\n",
            "\n",
            "See the caveats in the documentation: https://pandas.pydata.org/pandas-docs/stable/user_guide/indexing.html#returning-a-view-versus-a-copy\n",
            "  df_new[\"label\"][i] = 1\n",
            "<ipython-input-117-822c729dbab7>:40: SettingWithCopyWarning: \n",
            "A value is trying to be set on a copy of a slice from a DataFrame\n",
            "\n",
            "See the caveats in the documentation: https://pandas.pydata.org/pandas-docs/stable/user_guide/indexing.html#returning-a-view-versus-a-copy\n",
            "  df_new[\"label\"][i] = 0\n"
          ]
        }
      ]
    },
    {
      "cell_type": "code",
      "source": [
        "df_new[\"reviews_list\"] = df_new[\"reviews_list\"].apply(eval)"
      ],
      "metadata": {
        "id": "JJx1yXEQeAB5"
      },
      "execution_count": null,
      "outputs": []
    },
    {
      "cell_type": "code",
      "source": [
        "# Giving sentiment scores to reviews using vader\n",
        "sentiment_analyzer = SentimentIntensityAnalyzer()\n",
        "df_new[\"review_sentiment\"] = [0.0]*len(df_new.index)\n",
        "\n",
        "for i in df_new.index:\n",
        "  pol_sum = 0\n",
        "  count = 0\n",
        "  for j in df_new[\"reviews_list\"][i]:\n",
        "    sentence = j[1][9:]\n",
        "    pol_sum += sentiment_analyzer.polarity_scores(sentence)['compound']\n",
        "    count += 1\n",
        "  if count != 0:\n",
        "    df_new[\"review_sentiment\"][i] = pol_sum / count\n",
        "\n",
        "df_new = df_new.drop([\"reviews_list\"], axis = 1)\n"
      ],
      "metadata": {
        "colab": {
          "base_uri": "https://localhost:8080/"
        },
        "id": "Cb-cZlath9tT",
        "outputId": "43d5d6b3-593d-49ab-b1de-195f1e14c417"
      },
      "execution_count": null,
      "outputs": [
        {
          "output_type": "stream",
          "name": "stderr",
          "text": [
            "<ipython-input-119-4b47059f0046>:13: SettingWithCopyWarning: \n",
            "A value is trying to be set on a copy of a slice from a DataFrame\n",
            "\n",
            "See the caveats in the documentation: https://pandas.pydata.org/pandas-docs/stable/user_guide/indexing.html#returning-a-view-versus-a-copy\n",
            "  df_new[\"review_sentiment\"][i] = pol_sum / count\n"
          ]
        }
      ]
    },
    {
      "cell_type": "code",
      "source": [
        "lr_train_accuracy_sent, lr_accuracy_sent, lr_f1_sent = train_k_fold(clf_lr, df_new, 4)"
      ],
      "metadata": {
        "colab": {
          "base_uri": "https://localhost:8080/"
        },
        "id": "D4FOVgQHsDPW",
        "outputId": "e8f9bc76-2257-4402-a3d5-c4351ced5ec1"
      },
      "execution_count": null,
      "outputs": [
        {
          "output_type": "stream",
          "name": "stdout",
          "text": [
            "===========================================================================\n",
            "Model LogisticRegression(max_iter=500, random_state=0)\n",
            "===========================================================================\n",
            "Training loss for fold 1: 7.147268337501046\n",
            "Testing loss for fold 1: 7.293680530729923\n",
            "Training accuracy for fold 1: 0.7930685477687471\n",
            "Testing accuracy for fold 1: 0.7888295914611704\n",
            "Macro F1-Score for fold 1: 0.7374159098898467\n",
            "===========================================================================\n",
            "===========================================================================\n",
            "Training loss for fold 2: 7.125022574585393\n",
            "Testing loss for fold 2: 7.2873233769986685\n",
            "Training accuracy for fold 2: 0.7937126207636865\n",
            "Testing accuracy for fold 2: 0.7890136179609863\n",
            "Macro F1-Score for fold 2: 0.7383317617167859\n",
            "===========================================================================\n",
            "===========================================================================\n",
            "Training loss for fold 3: 7.286040245744612\n",
            "Testing loss for fold 3: 7.096637826616509\n",
            "Training accuracy for fold 3: 0.7890507590860297\n",
            "Testing accuracy for fold 3: 0.7945344129554656\n",
            "Macro F1-Score for fold 3: 0.7431499773035893\n",
            "===========================================================================\n",
            "===========================================================================\n",
            "Training loss for fold 4: 7.18668378300735\n",
            "Testing loss for fold 4: 7.140472644402886\n",
            "Training accuracy for fold 4: 0.7919273708747393\n",
            "Testing accuracy for fold 4: 0.7932652497929892\n",
            "Macro F1-Score for fold 4: 0.7434355417049086\n",
            "===========================================================================\n"
          ]
        }
      ]
    },
    {
      "cell_type": "code",
      "source": [
        "dt_entropy_train_accuracy_sent, dt_entropy_accuracy_sent, dt_entropy_f1_sent = train_k_fold(clf_dt_entropy, df_new, 4)"
      ],
      "metadata": {
        "colab": {
          "base_uri": "https://localhost:8080/"
        },
        "id": "bthGafBesIRT",
        "outputId": "f84f8ef9-9ad2-46c1-9e61-19a36fcbfe24"
      },
      "execution_count": null,
      "outputs": [
        {
          "output_type": "stream",
          "name": "stdout",
          "text": [
            "===========================================================================\n",
            "Model DecisionTreeClassifier(criterion='entropy', max_depth=15, random_state=0)\n",
            "===========================================================================\n",
            "Training loss for fold 1: 1.860173216326052\n",
            "Testing loss for fold 1: 3.028698792834107\n",
            "Training accuracy for fold 1: 0.9461432295660175\n",
            "Testing accuracy for fold 1: 0.9123113728376886\n",
            "Macro F1-Score for fold 1: 0.8970277271518179\n",
            "===========================================================================\n",
            "===========================================================================\n",
            "Training loss for fold 2: 1.906786671261571\n",
            "Testing loss for fold 2: 2.9873837312672924\n",
            "Training accuracy for fold 2: 0.9447937432909063\n",
            "Testing accuracy for fold 2: 0.9135075450864925\n",
            "Macro F1-Score for fold 2: 0.8974723360814094\n",
            "===========================================================================\n",
            "===========================================================================\n",
            "Training loss for fold 3: 1.9936521835743004\n",
            "Testing loss for fold 3: 3.2511666539153046\n",
            "Training accuracy for fold 3: 0.942278791596381\n",
            "Testing accuracy for fold 3: 0.9058704453441295\n",
            "Macro F1-Score for fold 3: 0.8883711823822289\n",
            "===========================================================================\n",
            "===========================================================================\n",
            "Training loss for fold 4: 1.8676500760830799\n",
            "Testing loss for fold 4: 3.158712621485164\n",
            "Training accuracy for fold 4: 0.9459268801374064\n",
            "Testing accuracy for fold 4: 0.9085472444567118\n",
            "Macro F1-Score for fold 4: 0.8907099824104732\n",
            "===========================================================================\n"
          ]
        }
      ]
    },
    {
      "cell_type": "code",
      "source": [
        "dt_gini_train_accuracy_sent, dt_gini_accuracy_sent, dt_gini_f1_sent = train_k_fold(clf_dt_gini, df_new, 4)"
      ],
      "metadata": {
        "colab": {
          "base_uri": "https://localhost:8080/"
        },
        "id": "ifVKZmtJsOEn",
        "outputId": "fbc032b2-a92e-4c59-ec6e-3fbfb85d0b11"
      },
      "execution_count": null,
      "outputs": [
        {
          "output_type": "stream",
          "name": "stdout",
          "text": [
            "===========================================================================\n",
            "Model DecisionTreeClassifier(max_depth=15, random_state=0)\n",
            "===========================================================================\n",
            "Training loss for fold 1: 1.074157183701555\n",
            "Testing loss for fold 1: 2.5392752813371446\n",
            "Training accuracy for fold 1: 0.9689004753872106\n",
            "Testing accuracy for fold 1: 0.9264814133235186\n",
            "Macro F1-Score for fold 1: 0.9144956938965196\n",
            "===========================================================================\n",
            "===========================================================================\n",
            "Training loss for fold 2: 1.4851749400646548\n",
            "Testing loss for fold 2: 2.755386871569786\n",
            "Training accuracy for fold 2: 0.9570004600521392\n",
            "Testing accuracy for fold 2: 0.9202245123297755\n",
            "Macro F1-Score for fold 2: 0.9045594967091835\n",
            "===========================================================================\n",
            "===========================================================================\n",
            "Training loss for fold 3: 1.72140206831927\n",
            "Testing loss for fold 3: 2.9905599169922796\n",
            "Training accuracy for fold 3: 0.9501610182487349\n",
            "Testing accuracy for fold 3: 0.9134155318365844\n",
            "Macro F1-Score for fold 3: 0.8984593369667316\n",
            "===========================================================================\n",
            "===========================================================================\n",
            "Training loss for fold 4: 1.599631895791814\n",
            "Testing loss for fold 4: 2.7932685089775626\n",
            "Training accuracy for fold 4: 0.95368666421298\n",
            "Testing accuracy for fold 4: 0.9191277946453216\n",
            "Macro F1-Score for fold 4: 0.9036525811582594\n",
            "===========================================================================\n"
          ]
        }
      ]
    },
    {
      "cell_type": "code",
      "source": [
        "rf_train_accuracy_sent, rf_accuracy_sent, rf_f1_sent = train_k_fold(clf_rf, df_new, 4)"
      ],
      "metadata": {
        "colab": {
          "base_uri": "https://localhost:8080/"
        },
        "id": "TZSFeXR9scsn",
        "outputId": "1b4c0205-56f4-495f-8b7e-996cbbacb710"
      },
      "execution_count": null,
      "outputs": [
        {
          "output_type": "stream",
          "name": "stdout",
          "text": [
            "===========================================================================\n",
            "Model RandomForestClassifier(max_depth=3, random_state=0)\n",
            "===========================================================================\n",
            "Training loss for fold 1: 5.720383801838915\n",
            "Testing loss for fold 1: 5.809545106649784\n",
            "Training accuracy for fold 1: 0.8343812298727189\n",
            "Testing accuracy for fold 1: 0.8317997791682002\n",
            "Macro F1-Score for fold 1: 0.7751803868462306\n",
            "===========================================================================\n",
            "===========================================================================\n",
            "Training loss for fold 2: 5.808309751442756\n",
            "Testing loss for fold 2: 5.958917949818989\n",
            "Training accuracy for fold 2: 0.8318356080355773\n",
            "Testing accuracy for fold 2: 0.8274751564225249\n",
            "Macro F1-Score for fold 2: 0.7678740009483248\n",
            "===========================================================================\n",
            "===========================================================================\n",
            "Training loss for fold 3: 5.9206005973570015\n",
            "Testing loss for fold 3: 5.971630344368986\n",
            "Training accuracy for fold 3: 0.828584572918264\n",
            "Testing accuracy for fold 3: 0.8271071034228928\n",
            "Macro F1-Score for fold 3: 0.771727671554782\n",
            "===========================================================================\n",
            "===========================================================================\n",
            "Training loss for fold 4: 5.858277350322376\n",
            "Testing loss for fold 4: 5.713679135560266\n",
            "Training accuracy for fold 4: 0.8303889093362777\n",
            "Testing accuracy for fold 4: 0.8345753979206919\n",
            "Macro F1-Score for fold 4: 0.7771054042278486\n",
            "===========================================================================\n"
          ]
        }
      ]
    },
    {
      "cell_type": "code",
      "source": [
        "adaboost_train_accuracy_sent, adaboost_accuracy_sent, adaboost_f1_sent = train_k_fold(clf_adaboost, df_new, 4)"
      ],
      "metadata": {
        "colab": {
          "base_uri": "https://localhost:8080/"
        },
        "id": "kVDS_oxVsg0E",
        "outputId": "6122fba4-d759-48e9-f3ee-564f53ae226f"
      },
      "execution_count": null,
      "outputs": [
        {
          "output_type": "stream",
          "name": "stdout",
          "text": [
            "===========================================================================\n",
            "Model AdaBoostClassifier(base_estimator=DecisionTreeClassifier(max_depth=3),\n",
            "                   n_estimators=100, random_state=0)\n",
            "===========================================================================\n",
            "Training loss for fold 1: 3.41208380204526\n",
            "Testing loss for fold 1: 4.141023604249134\n",
            "Training accuracy for fold 1: 0.9012114706333384\n",
            "Testing accuracy for fold 1: 0.8801067353698933\n",
            "Macro F1-Score for fold 1: 0.8575463480486074\n",
            "===========================================================================\n",
            "===========================================================================\n",
            "Training loss for fold 2: 3.4512786592686306\n",
            "Testing loss for fold 2: 3.9153830154001845\n",
            "Training accuracy for fold 2: 0.9000766753565405\n",
            "Testing accuracy for fold 2: 0.8866396761133604\n",
            "Macro F1-Score for fold 2: 0.8650850525731324\n",
            "===========================================================================\n",
            "===========================================================================\n",
            "Training loss for fold 3: 3.519075968402658\n",
            "Testing loss for fold 3: 4.334889239754863\n",
            "Training accuracy for fold 3: 0.898113786229106\n",
            "Testing accuracy for fold 3: 0.8744939271255061\n",
            "Macro F1-Score for fold 3: 0.8504988517701804\n",
            "===========================================================================\n",
            "===========================================================================\n",
            "Training loss for fold 4: 3.406893756922477\n",
            "Testing loss for fold 4: 3.930911224082387\n",
            "Training accuracy for fold 4: 0.9013617960986382\n",
            "Testing accuracy for fold 4: 0.886190081884258\n",
            "Macro F1-Score for fold 4: 0.8626961214556876\n",
            "===========================================================================\n"
          ]
        }
      ]
    },
    {
      "cell_type": "code",
      "source": [
        "svc_train_accuracy_sent, svc_accuracy_sent, svc_f1_sent = train_k_fold(clf_svc, df_new, 4)"
      ],
      "metadata": {
        "colab": {
          "base_uri": "https://localhost:8080/"
        },
        "id": "ABLVnSW1slXA",
        "outputId": "d99de010-7bbb-4f0a-d65c-1e268bccf5c3"
      },
      "execution_count": null,
      "outputs": [
        {
          "output_type": "stream",
          "name": "stdout",
          "text": [
            "===========================================================================\n",
            "Model SVC(random_state=0)\n",
            "===========================================================================\n",
            "Training loss for fold 1: 8.912039154944235\n",
            "Testing loss for fold 1: 8.815915174504037\n",
            "Training accuracy for fold 1: 0.7419720901702193\n",
            "Testing accuracy for fold 1: 0.7447552447552448\n",
            "Macro F1-Score for fold 1: 0.719586061031688\n",
            "===========================================================================\n",
            "===========================================================================\n",
            "Training loss for fold 2: 8.845304122383864\n",
            "Testing loss for fold 2: 8.965281101758775\n",
            "Training accuracy for fold 2: 0.7439043091550376\n",
            "Testing accuracy for fold 2: 0.7404306220095693\n",
            "Macro F1-Score for fold 2: 0.7132681755826376\n",
            "===========================================================================\n",
            "===========================================================================\n",
            "Training loss for fold 3: 8.962886535962461\n",
            "Testing loss for fold 3: 9.057442504289014\n",
            "Training accuracy for fold 3: 0.7404999233246434\n",
            "Testing accuracy for fold 3: 0.7377622377622378\n",
            "Macro F1-Score for fold 3: 0.7132420375407795\n",
            "===========================================================================\n",
            "===========================================================================\n",
            "Training loss for fold 4: 8.895365752053522\n",
            "Testing loss for fold 4: 8.754725013955385\n",
            "Training accuracy for fold 4: 0.7424549135075451\n",
            "Testing accuracy for fold 4: 0.7465268193946085\n",
            "Macro F1-Score for fold 4: 0.7222392874417707\n",
            "===========================================================================\n"
          ]
        }
      ]
    },
    {
      "cell_type": "code",
      "source": [
        "mlp_train_accuracy_relu_sent, mlp_accuracy_relu_sent, mlp_f1_relu_sent = train_k_fold(clf_mlp_relu, df_new, 4)"
      ],
      "metadata": {
        "colab": {
          "base_uri": "https://localhost:8080/"
        },
        "id": "JWu6eB31s2aV",
        "outputId": "d34ca4a4-4092-4da4-8aa0-545f1bbd886e"
      },
      "execution_count": null,
      "outputs": [
        {
          "output_type": "stream",
          "name": "stdout",
          "text": [
            "===========================================================================\n",
            "Model MLPClassifier(early_stopping=True, hidden_layer_sizes=(256, 128), max_iter=1000,\n",
            "              random_state=0)\n"
          ]
        },
        {
          "output_type": "stream",
          "name": "stderr",
          "text": [
            "/usr/local/lib/python3.8/dist-packages/sklearn/base.py:450: UserWarning: X does not have valid feature names, but MLPClassifier was fitted with feature names\n",
            "  warnings.warn(\n",
            "/usr/local/lib/python3.8/dist-packages/sklearn/base.py:450: UserWarning: X does not have valid feature names, but MLPClassifier was fitted with feature names\n",
            "  warnings.warn(\n",
            "/usr/local/lib/python3.8/dist-packages/sklearn/base.py:450: UserWarning: X does not have valid feature names, but MLPClassifier was fitted with feature names\n",
            "  warnings.warn(\n",
            "/usr/local/lib/python3.8/dist-packages/sklearn/base.py:450: UserWarning: X does not have valid feature names, but MLPClassifier was fitted with feature names\n",
            "  warnings.warn(\n",
            "/usr/local/lib/python3.8/dist-packages/sklearn/base.py:450: UserWarning: X does not have valid feature names, but MLPClassifier was fitted with feature names\n",
            "  warnings.warn(\n",
            "/usr/local/lib/python3.8/dist-packages/sklearn/base.py:450: UserWarning: X does not have valid feature names, but MLPClassifier was fitted with feature names\n",
            "  warnings.warn(\n",
            "/usr/local/lib/python3.8/dist-packages/sklearn/base.py:450: UserWarning: X does not have valid feature names, but MLPClassifier was fitted with feature names\n",
            "  warnings.warn(\n",
            "/usr/local/lib/python3.8/dist-packages/sklearn/base.py:450: UserWarning: X does not have valid feature names, but MLPClassifier was fitted with feature names\n",
            "  warnings.warn(\n",
            "/usr/local/lib/python3.8/dist-packages/sklearn/base.py:450: UserWarning: X does not have valid feature names, but MLPClassifier was fitted with feature names\n",
            "  warnings.warn(\n",
            "/usr/local/lib/python3.8/dist-packages/sklearn/base.py:450: UserWarning: X does not have valid feature names, but MLPClassifier was fitted with feature names\n",
            "  warnings.warn(\n",
            "/usr/local/lib/python3.8/dist-packages/sklearn/base.py:450: UserWarning: X does not have valid feature names, but MLPClassifier was fitted with feature names\n",
            "  warnings.warn(\n",
            "/usr/local/lib/python3.8/dist-packages/sklearn/base.py:450: UserWarning: X does not have valid feature names, but MLPClassifier was fitted with feature names\n",
            "  warnings.warn(\n",
            "/usr/local/lib/python3.8/dist-packages/sklearn/base.py:450: UserWarning: X does not have valid feature names, but MLPClassifier was fitted with feature names\n",
            "  warnings.warn(\n",
            "/usr/local/lib/python3.8/dist-packages/sklearn/base.py:450: UserWarning: X does not have valid feature names, but MLPClassifier was fitted with feature names\n",
            "  warnings.warn(\n",
            "/usr/local/lib/python3.8/dist-packages/sklearn/base.py:450: UserWarning: X does not have valid feature names, but MLPClassifier was fitted with feature names\n",
            "  warnings.warn(\n",
            "/usr/local/lib/python3.8/dist-packages/sklearn/base.py:450: UserWarning: X does not have valid feature names, but MLPClassifier was fitted with feature names\n",
            "  warnings.warn(\n",
            "/usr/local/lib/python3.8/dist-packages/sklearn/base.py:450: UserWarning: X does not have valid feature names, but MLPClassifier was fitted with feature names\n",
            "  warnings.warn(\n",
            "/usr/local/lib/python3.8/dist-packages/sklearn/base.py:450: UserWarning: X does not have valid feature names, but MLPClassifier was fitted with feature names\n",
            "  warnings.warn(\n",
            "/usr/local/lib/python3.8/dist-packages/sklearn/base.py:450: UserWarning: X does not have valid feature names, but MLPClassifier was fitted with feature names\n",
            "  warnings.warn(\n",
            "/usr/local/lib/python3.8/dist-packages/sklearn/base.py:450: UserWarning: X does not have valid feature names, but MLPClassifier was fitted with feature names\n",
            "  warnings.warn(\n",
            "/usr/local/lib/python3.8/dist-packages/sklearn/base.py:450: UserWarning: X does not have valid feature names, but MLPClassifier was fitted with feature names\n",
            "  warnings.warn(\n",
            "/usr/local/lib/python3.8/dist-packages/sklearn/base.py:450: UserWarning: X does not have valid feature names, but MLPClassifier was fitted with feature names\n",
            "  warnings.warn(\n",
            "/usr/local/lib/python3.8/dist-packages/sklearn/base.py:450: UserWarning: X does not have valid feature names, but MLPClassifier was fitted with feature names\n",
            "  warnings.warn(\n",
            "/usr/local/lib/python3.8/dist-packages/sklearn/base.py:450: UserWarning: X does not have valid feature names, but MLPClassifier was fitted with feature names\n",
            "  warnings.warn(\n",
            "/usr/local/lib/python3.8/dist-packages/sklearn/base.py:450: UserWarning: X does not have valid feature names, but MLPClassifier was fitted with feature names\n",
            "  warnings.warn(\n",
            "/usr/local/lib/python3.8/dist-packages/sklearn/base.py:450: UserWarning: X does not have valid feature names, but MLPClassifier was fitted with feature names\n",
            "  warnings.warn(\n",
            "/usr/local/lib/python3.8/dist-packages/sklearn/base.py:450: UserWarning: X does not have valid feature names, but MLPClassifier was fitted with feature names\n",
            "  warnings.warn(\n",
            "/usr/local/lib/python3.8/dist-packages/sklearn/base.py:450: UserWarning: X does not have valid feature names, but MLPClassifier was fitted with feature names\n",
            "  warnings.warn(\n",
            "/usr/local/lib/python3.8/dist-packages/sklearn/base.py:450: UserWarning: X does not have valid feature names, but MLPClassifier was fitted with feature names\n",
            "  warnings.warn(\n",
            "/usr/local/lib/python3.8/dist-packages/sklearn/base.py:450: UserWarning: X does not have valid feature names, but MLPClassifier was fitted with feature names\n",
            "  warnings.warn(\n",
            "/usr/local/lib/python3.8/dist-packages/sklearn/base.py:450: UserWarning: X does not have valid feature names, but MLPClassifier was fitted with feature names\n",
            "  warnings.warn(\n",
            "/usr/local/lib/python3.8/dist-packages/sklearn/base.py:450: UserWarning: X does not have valid feature names, but MLPClassifier was fitted with feature names\n",
            "  warnings.warn(\n",
            "/usr/local/lib/python3.8/dist-packages/sklearn/base.py:450: UserWarning: X does not have valid feature names, but MLPClassifier was fitted with feature names\n",
            "  warnings.warn(\n",
            "/usr/local/lib/python3.8/dist-packages/sklearn/base.py:450: UserWarning: X does not have valid feature names, but MLPClassifier was fitted with feature names\n",
            "  warnings.warn(\n",
            "/usr/local/lib/python3.8/dist-packages/sklearn/base.py:450: UserWarning: X does not have valid feature names, but MLPClassifier was fitted with feature names\n",
            "  warnings.warn(\n",
            "/usr/local/lib/python3.8/dist-packages/sklearn/base.py:450: UserWarning: X does not have valid feature names, but MLPClassifier was fitted with feature names\n",
            "  warnings.warn(\n",
            "/usr/local/lib/python3.8/dist-packages/sklearn/base.py:450: UserWarning: X does not have valid feature names, but MLPClassifier was fitted with feature names\n",
            "  warnings.warn(\n",
            "/usr/local/lib/python3.8/dist-packages/sklearn/base.py:450: UserWarning: X does not have valid feature names, but MLPClassifier was fitted with feature names\n",
            "  warnings.warn(\n",
            "/usr/local/lib/python3.8/dist-packages/sklearn/base.py:450: UserWarning: X does not have valid feature names, but MLPClassifier was fitted with feature names\n",
            "  warnings.warn(\n",
            "/usr/local/lib/python3.8/dist-packages/sklearn/base.py:450: UserWarning: X does not have valid feature names, but MLPClassifier was fitted with feature names\n",
            "  warnings.warn(\n"
          ]
        },
        {
          "output_type": "stream",
          "name": "stdout",
          "text": [
            "===========================================================================\n",
            "Training loss for fold 1: 5.372902280716826\n",
            "Testing loss for fold 1: 5.266069565467581\n",
            "Training accuracy for fold 1: 0.8444410366508204\n",
            "Testing accuracy for fold 1: 0.847534044902466\n",
            "Macro F1-Score for fold 1: 0.8119239770517767\n",
            "===========================================================================\n"
          ]
        },
        {
          "output_type": "stream",
          "name": "stderr",
          "text": [
            "/usr/local/lib/python3.8/dist-packages/sklearn/base.py:450: UserWarning: X does not have valid feature names, but MLPClassifier was fitted with feature names\n",
            "  warnings.warn(\n",
            "/usr/local/lib/python3.8/dist-packages/sklearn/base.py:450: UserWarning: X does not have valid feature names, but MLPClassifier was fitted with feature names\n",
            "  warnings.warn(\n",
            "/usr/local/lib/python3.8/dist-packages/sklearn/base.py:450: UserWarning: X does not have valid feature names, but MLPClassifier was fitted with feature names\n",
            "  warnings.warn(\n",
            "/usr/local/lib/python3.8/dist-packages/sklearn/base.py:450: UserWarning: X does not have valid feature names, but MLPClassifier was fitted with feature names\n",
            "  warnings.warn(\n",
            "/usr/local/lib/python3.8/dist-packages/sklearn/base.py:450: UserWarning: X does not have valid feature names, but MLPClassifier was fitted with feature names\n",
            "  warnings.warn(\n",
            "/usr/local/lib/python3.8/dist-packages/sklearn/base.py:450: UserWarning: X does not have valid feature names, but MLPClassifier was fitted with feature names\n",
            "  warnings.warn(\n",
            "/usr/local/lib/python3.8/dist-packages/sklearn/base.py:450: UserWarning: X does not have valid feature names, but MLPClassifier was fitted with feature names\n",
            "  warnings.warn(\n",
            "/usr/local/lib/python3.8/dist-packages/sklearn/base.py:450: UserWarning: X does not have valid feature names, but MLPClassifier was fitted with feature names\n",
            "  warnings.warn(\n",
            "/usr/local/lib/python3.8/dist-packages/sklearn/base.py:450: UserWarning: X does not have valid feature names, but MLPClassifier was fitted with feature names\n",
            "  warnings.warn(\n",
            "/usr/local/lib/python3.8/dist-packages/sklearn/base.py:450: UserWarning: X does not have valid feature names, but MLPClassifier was fitted with feature names\n",
            "  warnings.warn(\n",
            "/usr/local/lib/python3.8/dist-packages/sklearn/base.py:450: UserWarning: X does not have valid feature names, but MLPClassifier was fitted with feature names\n",
            "  warnings.warn(\n",
            "/usr/local/lib/python3.8/dist-packages/sklearn/base.py:450: UserWarning: X does not have valid feature names, but MLPClassifier was fitted with feature names\n",
            "  warnings.warn(\n",
            "/usr/local/lib/python3.8/dist-packages/sklearn/base.py:450: UserWarning: X does not have valid feature names, but MLPClassifier was fitted with feature names\n",
            "  warnings.warn(\n",
            "/usr/local/lib/python3.8/dist-packages/sklearn/base.py:450: UserWarning: X does not have valid feature names, but MLPClassifier was fitted with feature names\n",
            "  warnings.warn(\n",
            "/usr/local/lib/python3.8/dist-packages/sklearn/base.py:450: UserWarning: X does not have valid feature names, but MLPClassifier was fitted with feature names\n",
            "  warnings.warn(\n",
            "/usr/local/lib/python3.8/dist-packages/sklearn/base.py:450: UserWarning: X does not have valid feature names, but MLPClassifier was fitted with feature names\n",
            "  warnings.warn(\n",
            "/usr/local/lib/python3.8/dist-packages/sklearn/base.py:450: UserWarning: X does not have valid feature names, but MLPClassifier was fitted with feature names\n",
            "  warnings.warn(\n",
            "/usr/local/lib/python3.8/dist-packages/sklearn/base.py:450: UserWarning: X does not have valid feature names, but MLPClassifier was fitted with feature names\n",
            "  warnings.warn(\n",
            "/usr/local/lib/python3.8/dist-packages/sklearn/base.py:450: UserWarning: X does not have valid feature names, but MLPClassifier was fitted with feature names\n",
            "  warnings.warn(\n",
            "/usr/local/lib/python3.8/dist-packages/sklearn/base.py:450: UserWarning: X does not have valid feature names, but MLPClassifier was fitted with feature names\n",
            "  warnings.warn(\n",
            "/usr/local/lib/python3.8/dist-packages/sklearn/base.py:450: UserWarning: X does not have valid feature names, but MLPClassifier was fitted with feature names\n",
            "  warnings.warn(\n",
            "/usr/local/lib/python3.8/dist-packages/sklearn/base.py:450: UserWarning: X does not have valid feature names, but MLPClassifier was fitted with feature names\n",
            "  warnings.warn(\n",
            "/usr/local/lib/python3.8/dist-packages/sklearn/base.py:450: UserWarning: X does not have valid feature names, but MLPClassifier was fitted with feature names\n",
            "  warnings.warn(\n",
            "/usr/local/lib/python3.8/dist-packages/sklearn/base.py:450: UserWarning: X does not have valid feature names, but MLPClassifier was fitted with feature names\n",
            "  warnings.warn(\n",
            "/usr/local/lib/python3.8/dist-packages/sklearn/base.py:450: UserWarning: X does not have valid feature names, but MLPClassifier was fitted with feature names\n",
            "  warnings.warn(\n",
            "/usr/local/lib/python3.8/dist-packages/sklearn/base.py:450: UserWarning: X does not have valid feature names, but MLPClassifier was fitted with feature names\n",
            "  warnings.warn(\n",
            "/usr/local/lib/python3.8/dist-packages/sklearn/base.py:450: UserWarning: X does not have valid feature names, but MLPClassifier was fitted with feature names\n",
            "  warnings.warn(\n",
            "/usr/local/lib/python3.8/dist-packages/sklearn/base.py:450: UserWarning: X does not have valid feature names, but MLPClassifier was fitted with feature names\n",
            "  warnings.warn(\n",
            "/usr/local/lib/python3.8/dist-packages/sklearn/base.py:450: UserWarning: X does not have valid feature names, but MLPClassifier was fitted with feature names\n",
            "  warnings.warn(\n",
            "/usr/local/lib/python3.8/dist-packages/sklearn/base.py:450: UserWarning: X does not have valid feature names, but MLPClassifier was fitted with feature names\n",
            "  warnings.warn(\n",
            "/usr/local/lib/python3.8/dist-packages/sklearn/base.py:450: UserWarning: X does not have valid feature names, but MLPClassifier was fitted with feature names\n",
            "  warnings.warn(\n",
            "/usr/local/lib/python3.8/dist-packages/sklearn/base.py:450: UserWarning: X does not have valid feature names, but MLPClassifier was fitted with feature names\n",
            "  warnings.warn(\n",
            "/usr/local/lib/python3.8/dist-packages/sklearn/base.py:450: UserWarning: X does not have valid feature names, but MLPClassifier was fitted with feature names\n",
            "  warnings.warn(\n",
            "/usr/local/lib/python3.8/dist-packages/sklearn/base.py:450: UserWarning: X does not have valid feature names, but MLPClassifier was fitted with feature names\n",
            "  warnings.warn(\n",
            "/usr/local/lib/python3.8/dist-packages/sklearn/base.py:450: UserWarning: X does not have valid feature names, but MLPClassifier was fitted with feature names\n",
            "  warnings.warn(\n",
            "/usr/local/lib/python3.8/dist-packages/sklearn/base.py:450: UserWarning: X does not have valid feature names, but MLPClassifier was fitted with feature names\n",
            "  warnings.warn(\n",
            "/usr/local/lib/python3.8/dist-packages/sklearn/base.py:450: UserWarning: X does not have valid feature names, but MLPClassifier was fitted with feature names\n",
            "  warnings.warn(\n",
            "/usr/local/lib/python3.8/dist-packages/sklearn/base.py:450: UserWarning: X does not have valid feature names, but MLPClassifier was fitted with feature names\n",
            "  warnings.warn(\n",
            "/usr/local/lib/python3.8/dist-packages/sklearn/base.py:450: UserWarning: X does not have valid feature names, but MLPClassifier was fitted with feature names\n",
            "  warnings.warn(\n",
            "/usr/local/lib/python3.8/dist-packages/sklearn/base.py:450: UserWarning: X does not have valid feature names, but MLPClassifier was fitted with feature names\n",
            "  warnings.warn(\n"
          ]
        },
        {
          "output_type": "stream",
          "name": "stdout",
          "text": [
            "===========================================================================\n",
            "Training loss for fold 2: 5.4873032352794855\n",
            "Testing loss for fold 2: 5.590229225592935\n",
            "Training accuracy for fold 2: 0.8411286612482748\n",
            "Testing accuracy for fold 2: 0.8381486934118513\n",
            "Macro F1-Score for fold 2: 0.8037325030353897\n",
            "===========================================================================\n"
          ]
        },
        {
          "output_type": "stream",
          "name": "stderr",
          "text": [
            "/usr/local/lib/python3.8/dist-packages/sklearn/base.py:450: UserWarning: X does not have valid feature names, but MLPClassifier was fitted with feature names\n",
            "  warnings.warn(\n",
            "/usr/local/lib/python3.8/dist-packages/sklearn/base.py:450: UserWarning: X does not have valid feature names, but MLPClassifier was fitted with feature names\n",
            "  warnings.warn(\n",
            "/usr/local/lib/python3.8/dist-packages/sklearn/base.py:450: UserWarning: X does not have valid feature names, but MLPClassifier was fitted with feature names\n",
            "  warnings.warn(\n",
            "/usr/local/lib/python3.8/dist-packages/sklearn/base.py:450: UserWarning: X does not have valid feature names, but MLPClassifier was fitted with feature names\n",
            "  warnings.warn(\n",
            "/usr/local/lib/python3.8/dist-packages/sklearn/base.py:450: UserWarning: X does not have valid feature names, but MLPClassifier was fitted with feature names\n",
            "  warnings.warn(\n",
            "/usr/local/lib/python3.8/dist-packages/sklearn/base.py:450: UserWarning: X does not have valid feature names, but MLPClassifier was fitted with feature names\n",
            "  warnings.warn(\n",
            "/usr/local/lib/python3.8/dist-packages/sklearn/base.py:450: UserWarning: X does not have valid feature names, but MLPClassifier was fitted with feature names\n",
            "  warnings.warn(\n",
            "/usr/local/lib/python3.8/dist-packages/sklearn/base.py:450: UserWarning: X does not have valid feature names, but MLPClassifier was fitted with feature names\n",
            "  warnings.warn(\n",
            "/usr/local/lib/python3.8/dist-packages/sklearn/base.py:450: UserWarning: X does not have valid feature names, but MLPClassifier was fitted with feature names\n",
            "  warnings.warn(\n",
            "/usr/local/lib/python3.8/dist-packages/sklearn/base.py:450: UserWarning: X does not have valid feature names, but MLPClassifier was fitted with feature names\n",
            "  warnings.warn(\n",
            "/usr/local/lib/python3.8/dist-packages/sklearn/base.py:450: UserWarning: X does not have valid feature names, but MLPClassifier was fitted with feature names\n",
            "  warnings.warn(\n",
            "/usr/local/lib/python3.8/dist-packages/sklearn/base.py:450: UserWarning: X does not have valid feature names, but MLPClassifier was fitted with feature names\n",
            "  warnings.warn(\n",
            "/usr/local/lib/python3.8/dist-packages/sklearn/base.py:450: UserWarning: X does not have valid feature names, but MLPClassifier was fitted with feature names\n",
            "  warnings.warn(\n",
            "/usr/local/lib/python3.8/dist-packages/sklearn/base.py:450: UserWarning: X does not have valid feature names, but MLPClassifier was fitted with feature names\n",
            "  warnings.warn(\n",
            "/usr/local/lib/python3.8/dist-packages/sklearn/base.py:450: UserWarning: X does not have valid feature names, but MLPClassifier was fitted with feature names\n",
            "  warnings.warn(\n",
            "/usr/local/lib/python3.8/dist-packages/sklearn/base.py:450: UserWarning: X does not have valid feature names, but MLPClassifier was fitted with feature names\n",
            "  warnings.warn(\n",
            "/usr/local/lib/python3.8/dist-packages/sklearn/base.py:450: UserWarning: X does not have valid feature names, but MLPClassifier was fitted with feature names\n",
            "  warnings.warn(\n",
            "/usr/local/lib/python3.8/dist-packages/sklearn/base.py:450: UserWarning: X does not have valid feature names, but MLPClassifier was fitted with feature names\n",
            "  warnings.warn(\n",
            "/usr/local/lib/python3.8/dist-packages/sklearn/base.py:450: UserWarning: X does not have valid feature names, but MLPClassifier was fitted with feature names\n",
            "  warnings.warn(\n",
            "/usr/local/lib/python3.8/dist-packages/sklearn/base.py:450: UserWarning: X does not have valid feature names, but MLPClassifier was fitted with feature names\n",
            "  warnings.warn(\n",
            "/usr/local/lib/python3.8/dist-packages/sklearn/base.py:450: UserWarning: X does not have valid feature names, but MLPClassifier was fitted with feature names\n",
            "  warnings.warn(\n",
            "/usr/local/lib/python3.8/dist-packages/sklearn/base.py:450: UserWarning: X does not have valid feature names, but MLPClassifier was fitted with feature names\n",
            "  warnings.warn(\n",
            "/usr/local/lib/python3.8/dist-packages/sklearn/base.py:450: UserWarning: X does not have valid feature names, but MLPClassifier was fitted with feature names\n",
            "  warnings.warn(\n",
            "/usr/local/lib/python3.8/dist-packages/sklearn/base.py:450: UserWarning: X does not have valid feature names, but MLPClassifier was fitted with feature names\n",
            "  warnings.warn(\n",
            "/usr/local/lib/python3.8/dist-packages/sklearn/base.py:450: UserWarning: X does not have valid feature names, but MLPClassifier was fitted with feature names\n",
            "  warnings.warn(\n",
            "/usr/local/lib/python3.8/dist-packages/sklearn/base.py:450: UserWarning: X does not have valid feature names, but MLPClassifier was fitted with feature names\n",
            "  warnings.warn(\n",
            "/usr/local/lib/python3.8/dist-packages/sklearn/base.py:450: UserWarning: X does not have valid feature names, but MLPClassifier was fitted with feature names\n",
            "  warnings.warn(\n",
            "/usr/local/lib/python3.8/dist-packages/sklearn/base.py:450: UserWarning: X does not have valid feature names, but MLPClassifier was fitted with feature names\n",
            "  warnings.warn(\n",
            "/usr/local/lib/python3.8/dist-packages/sklearn/base.py:450: UserWarning: X does not have valid feature names, but MLPClassifier was fitted with feature names\n",
            "  warnings.warn(\n",
            "/usr/local/lib/python3.8/dist-packages/sklearn/base.py:450: UserWarning: X does not have valid feature names, but MLPClassifier was fitted with feature names\n",
            "  warnings.warn(\n",
            "/usr/local/lib/python3.8/dist-packages/sklearn/base.py:450: UserWarning: X does not have valid feature names, but MLPClassifier was fitted with feature names\n",
            "  warnings.warn(\n",
            "/usr/local/lib/python3.8/dist-packages/sklearn/base.py:450: UserWarning: X does not have valid feature names, but MLPClassifier was fitted with feature names\n",
            "  warnings.warn(\n"
          ]
        },
        {
          "output_type": "stream",
          "name": "stdout",
          "text": [
            "===========================================================================\n",
            "Training loss for fold 3: 5.474600255366781\n",
            "Testing loss for fold 3: 5.507608299154077\n",
            "Training accuracy for fold 3: 0.8414967029596687\n",
            "Testing accuracy for fold 3: 0.840541037909459\n",
            "Macro F1-Score for fold 3: 0.8006212588189731\n",
            "===========================================================================\n"
          ]
        },
        {
          "output_type": "stream",
          "name": "stderr",
          "text": [
            "/usr/local/lib/python3.8/dist-packages/sklearn/base.py:450: UserWarning: X does not have valid feature names, but MLPClassifier was fitted with feature names\n",
            "  warnings.warn(\n",
            "/usr/local/lib/python3.8/dist-packages/sklearn/base.py:450: UserWarning: X does not have valid feature names, but MLPClassifier was fitted with feature names\n",
            "  warnings.warn(\n",
            "/usr/local/lib/python3.8/dist-packages/sklearn/base.py:450: UserWarning: X does not have valid feature names, but MLPClassifier was fitted with feature names\n",
            "  warnings.warn(\n",
            "/usr/local/lib/python3.8/dist-packages/sklearn/base.py:450: UserWarning: X does not have valid feature names, but MLPClassifier was fitted with feature names\n",
            "  warnings.warn(\n",
            "/usr/local/lib/python3.8/dist-packages/sklearn/base.py:450: UserWarning: X does not have valid feature names, but MLPClassifier was fitted with feature names\n",
            "  warnings.warn(\n",
            "/usr/local/lib/python3.8/dist-packages/sklearn/base.py:450: UserWarning: X does not have valid feature names, but MLPClassifier was fitted with feature names\n",
            "  warnings.warn(\n",
            "/usr/local/lib/python3.8/dist-packages/sklearn/base.py:450: UserWarning: X does not have valid feature names, but MLPClassifier was fitted with feature names\n",
            "  warnings.warn(\n",
            "/usr/local/lib/python3.8/dist-packages/sklearn/base.py:450: UserWarning: X does not have valid feature names, but MLPClassifier was fitted with feature names\n",
            "  warnings.warn(\n",
            "/usr/local/lib/python3.8/dist-packages/sklearn/base.py:450: UserWarning: X does not have valid feature names, but MLPClassifier was fitted with feature names\n",
            "  warnings.warn(\n",
            "/usr/local/lib/python3.8/dist-packages/sklearn/base.py:450: UserWarning: X does not have valid feature names, but MLPClassifier was fitted with feature names\n",
            "  warnings.warn(\n",
            "/usr/local/lib/python3.8/dist-packages/sklearn/base.py:450: UserWarning: X does not have valid feature names, but MLPClassifier was fitted with feature names\n",
            "  warnings.warn(\n",
            "/usr/local/lib/python3.8/dist-packages/sklearn/base.py:450: UserWarning: X does not have valid feature names, but MLPClassifier was fitted with feature names\n",
            "  warnings.warn(\n",
            "/usr/local/lib/python3.8/dist-packages/sklearn/base.py:450: UserWarning: X does not have valid feature names, but MLPClassifier was fitted with feature names\n",
            "  warnings.warn(\n",
            "/usr/local/lib/python3.8/dist-packages/sklearn/base.py:450: UserWarning: X does not have valid feature names, but MLPClassifier was fitted with feature names\n",
            "  warnings.warn(\n",
            "/usr/local/lib/python3.8/dist-packages/sklearn/base.py:450: UserWarning: X does not have valid feature names, but MLPClassifier was fitted with feature names\n",
            "  warnings.warn(\n",
            "/usr/local/lib/python3.8/dist-packages/sklearn/base.py:450: UserWarning: X does not have valid feature names, but MLPClassifier was fitted with feature names\n",
            "  warnings.warn(\n",
            "/usr/local/lib/python3.8/dist-packages/sklearn/base.py:450: UserWarning: X does not have valid feature names, but MLPClassifier was fitted with feature names\n",
            "  warnings.warn(\n",
            "/usr/local/lib/python3.8/dist-packages/sklearn/base.py:450: UserWarning: X does not have valid feature names, but MLPClassifier was fitted with feature names\n",
            "  warnings.warn(\n",
            "/usr/local/lib/python3.8/dist-packages/sklearn/base.py:450: UserWarning: X does not have valid feature names, but MLPClassifier was fitted with feature names\n",
            "  warnings.warn(\n",
            "/usr/local/lib/python3.8/dist-packages/sklearn/base.py:450: UserWarning: X does not have valid feature names, but MLPClassifier was fitted with feature names\n",
            "  warnings.warn(\n",
            "/usr/local/lib/python3.8/dist-packages/sklearn/base.py:450: UserWarning: X does not have valid feature names, but MLPClassifier was fitted with feature names\n",
            "  warnings.warn(\n",
            "/usr/local/lib/python3.8/dist-packages/sklearn/base.py:450: UserWarning: X does not have valid feature names, but MLPClassifier was fitted with feature names\n",
            "  warnings.warn(\n",
            "/usr/local/lib/python3.8/dist-packages/sklearn/base.py:450: UserWarning: X does not have valid feature names, but MLPClassifier was fitted with feature names\n",
            "  warnings.warn(\n",
            "/usr/local/lib/python3.8/dist-packages/sklearn/base.py:450: UserWarning: X does not have valid feature names, but MLPClassifier was fitted with feature names\n",
            "  warnings.warn(\n",
            "/usr/local/lib/python3.8/dist-packages/sklearn/base.py:450: UserWarning: X does not have valid feature names, but MLPClassifier was fitted with feature names\n",
            "  warnings.warn(\n",
            "/usr/local/lib/python3.8/dist-packages/sklearn/base.py:450: UserWarning: X does not have valid feature names, but MLPClassifier was fitted with feature names\n",
            "  warnings.warn(\n",
            "/usr/local/lib/python3.8/dist-packages/sklearn/base.py:450: UserWarning: X does not have valid feature names, but MLPClassifier was fitted with feature names\n",
            "  warnings.warn(\n",
            "/usr/local/lib/python3.8/dist-packages/sklearn/base.py:450: UserWarning: X does not have valid feature names, but MLPClassifier was fitted with feature names\n",
            "  warnings.warn(\n",
            "/usr/local/lib/python3.8/dist-packages/sklearn/base.py:450: UserWarning: X does not have valid feature names, but MLPClassifier was fitted with feature names\n",
            "  warnings.warn(\n",
            "/usr/local/lib/python3.8/dist-packages/sklearn/base.py:450: UserWarning: X does not have valid feature names, but MLPClassifier was fitted with feature names\n",
            "  warnings.warn(\n",
            "/usr/local/lib/python3.8/dist-packages/sklearn/base.py:450: UserWarning: X does not have valid feature names, but MLPClassifier was fitted with feature names\n",
            "  warnings.warn(\n",
            "/usr/local/lib/python3.8/dist-packages/sklearn/base.py:450: UserWarning: X does not have valid feature names, but MLPClassifier was fitted with feature names\n",
            "  warnings.warn(\n",
            "/usr/local/lib/python3.8/dist-packages/sklearn/base.py:450: UserWarning: X does not have valid feature names, but MLPClassifier was fitted with feature names\n",
            "  warnings.warn(\n",
            "/usr/local/lib/python3.8/dist-packages/sklearn/base.py:450: UserWarning: X does not have valid feature names, but MLPClassifier was fitted with feature names\n",
            "  warnings.warn(\n",
            "/usr/local/lib/python3.8/dist-packages/sklearn/base.py:450: UserWarning: X does not have valid feature names, but MLPClassifier was fitted with feature names\n",
            "  warnings.warn(\n",
            "/usr/local/lib/python3.8/dist-packages/sklearn/base.py:450: UserWarning: X does not have valid feature names, but MLPClassifier was fitted with feature names\n",
            "  warnings.warn(\n",
            "/usr/local/lib/python3.8/dist-packages/sklearn/base.py:450: UserWarning: X does not have valid feature names, but MLPClassifier was fitted with feature names\n",
            "  warnings.warn(\n",
            "/usr/local/lib/python3.8/dist-packages/sklearn/base.py:450: UserWarning: X does not have valid feature names, but MLPClassifier was fitted with feature names\n",
            "  warnings.warn(\n",
            "/usr/local/lib/python3.8/dist-packages/sklearn/base.py:450: UserWarning: X does not have valid feature names, but MLPClassifier was fitted with feature names\n",
            "  warnings.warn(\n"
          ]
        },
        {
          "output_type": "stream",
          "name": "stdout",
          "text": [
            "===========================================================================\n",
            "Training loss for fold 4: 5.418622542809396\n",
            "Testing loss for fold 4: 5.376815563288177\n",
            "Training accuracy for fold 4: 0.8431174089068826\n",
            "Testing accuracy for fold 4: 0.8443279050510627\n",
            "Macro F1-Score for fold 4: 0.8061993535463899\n",
            "===========================================================================\n"
          ]
        }
      ]
    },
    {
      "cell_type": "code",
      "source": [
        "mlp_train_accuracy_sigmoid_sent, mlp_accuracy_sigmoid_sent, mlp_f1_sigmoid_sent = train_k_fold(clf_mlp_sigmoid, df_new, 4)"
      ],
      "metadata": {
        "colab": {
          "base_uri": "https://localhost:8080/"
        },
        "id": "4pNTg5bMtNIt",
        "outputId": "de2571bb-f449-4ad5-942a-9f1cd972a778"
      },
      "execution_count": null,
      "outputs": [
        {
          "output_type": "stream",
          "name": "stdout",
          "text": [
            "===========================================================================\n",
            "Model MLPClassifier(activation='logistic', early_stopping=True,\n",
            "              hidden_layer_sizes=(256, 128), max_iter=1000, random_state=0)\n"
          ]
        },
        {
          "output_type": "stream",
          "name": "stderr",
          "text": [
            "/usr/local/lib/python3.8/dist-packages/sklearn/base.py:450: UserWarning: X does not have valid feature names, but MLPClassifier was fitted with feature names\n",
            "  warnings.warn(\n",
            "/usr/local/lib/python3.8/dist-packages/sklearn/base.py:450: UserWarning: X does not have valid feature names, but MLPClassifier was fitted with feature names\n",
            "  warnings.warn(\n",
            "/usr/local/lib/python3.8/dist-packages/sklearn/base.py:450: UserWarning: X does not have valid feature names, but MLPClassifier was fitted with feature names\n",
            "  warnings.warn(\n",
            "/usr/local/lib/python3.8/dist-packages/sklearn/base.py:450: UserWarning: X does not have valid feature names, but MLPClassifier was fitted with feature names\n",
            "  warnings.warn(\n",
            "/usr/local/lib/python3.8/dist-packages/sklearn/base.py:450: UserWarning: X does not have valid feature names, but MLPClassifier was fitted with feature names\n",
            "  warnings.warn(\n",
            "/usr/local/lib/python3.8/dist-packages/sklearn/base.py:450: UserWarning: X does not have valid feature names, but MLPClassifier was fitted with feature names\n",
            "  warnings.warn(\n",
            "/usr/local/lib/python3.8/dist-packages/sklearn/base.py:450: UserWarning: X does not have valid feature names, but MLPClassifier was fitted with feature names\n",
            "  warnings.warn(\n",
            "/usr/local/lib/python3.8/dist-packages/sklearn/base.py:450: UserWarning: X does not have valid feature names, but MLPClassifier was fitted with feature names\n",
            "  warnings.warn(\n",
            "/usr/local/lib/python3.8/dist-packages/sklearn/base.py:450: UserWarning: X does not have valid feature names, but MLPClassifier was fitted with feature names\n",
            "  warnings.warn(\n",
            "/usr/local/lib/python3.8/dist-packages/sklearn/base.py:450: UserWarning: X does not have valid feature names, but MLPClassifier was fitted with feature names\n",
            "  warnings.warn(\n",
            "/usr/local/lib/python3.8/dist-packages/sklearn/base.py:450: UserWarning: X does not have valid feature names, but MLPClassifier was fitted with feature names\n",
            "  warnings.warn(\n",
            "/usr/local/lib/python3.8/dist-packages/sklearn/base.py:450: UserWarning: X does not have valid feature names, but MLPClassifier was fitted with feature names\n",
            "  warnings.warn(\n",
            "/usr/local/lib/python3.8/dist-packages/sklearn/base.py:450: UserWarning: X does not have valid feature names, but MLPClassifier was fitted with feature names\n",
            "  warnings.warn(\n",
            "/usr/local/lib/python3.8/dist-packages/sklearn/base.py:450: UserWarning: X does not have valid feature names, but MLPClassifier was fitted with feature names\n",
            "  warnings.warn(\n",
            "/usr/local/lib/python3.8/dist-packages/sklearn/base.py:450: UserWarning: X does not have valid feature names, but MLPClassifier was fitted with feature names\n",
            "  warnings.warn(\n",
            "/usr/local/lib/python3.8/dist-packages/sklearn/base.py:450: UserWarning: X does not have valid feature names, but MLPClassifier was fitted with feature names\n",
            "  warnings.warn(\n",
            "/usr/local/lib/python3.8/dist-packages/sklearn/base.py:450: UserWarning: X does not have valid feature names, but MLPClassifier was fitted with feature names\n",
            "  warnings.warn(\n",
            "/usr/local/lib/python3.8/dist-packages/sklearn/base.py:450: UserWarning: X does not have valid feature names, but MLPClassifier was fitted with feature names\n",
            "  warnings.warn(\n",
            "/usr/local/lib/python3.8/dist-packages/sklearn/base.py:450: UserWarning: X does not have valid feature names, but MLPClassifier was fitted with feature names\n",
            "  warnings.warn(\n",
            "/usr/local/lib/python3.8/dist-packages/sklearn/base.py:450: UserWarning: X does not have valid feature names, but MLPClassifier was fitted with feature names\n",
            "  warnings.warn(\n",
            "/usr/local/lib/python3.8/dist-packages/sklearn/base.py:450: UserWarning: X does not have valid feature names, but MLPClassifier was fitted with feature names\n",
            "  warnings.warn(\n",
            "/usr/local/lib/python3.8/dist-packages/sklearn/base.py:450: UserWarning: X does not have valid feature names, but MLPClassifier was fitted with feature names\n",
            "  warnings.warn(\n",
            "/usr/local/lib/python3.8/dist-packages/sklearn/base.py:450: UserWarning: X does not have valid feature names, but MLPClassifier was fitted with feature names\n",
            "  warnings.warn(\n",
            "/usr/local/lib/python3.8/dist-packages/sklearn/base.py:450: UserWarning: X does not have valid feature names, but MLPClassifier was fitted with feature names\n",
            "  warnings.warn(\n",
            "/usr/local/lib/python3.8/dist-packages/sklearn/base.py:450: UserWarning: X does not have valid feature names, but MLPClassifier was fitted with feature names\n",
            "  warnings.warn(\n",
            "/usr/local/lib/python3.8/dist-packages/sklearn/base.py:450: UserWarning: X does not have valid feature names, but MLPClassifier was fitted with feature names\n",
            "  warnings.warn(\n",
            "/usr/local/lib/python3.8/dist-packages/sklearn/base.py:450: UserWarning: X does not have valid feature names, but MLPClassifier was fitted with feature names\n",
            "  warnings.warn(\n",
            "/usr/local/lib/python3.8/dist-packages/sklearn/base.py:450: UserWarning: X does not have valid feature names, but MLPClassifier was fitted with feature names\n",
            "  warnings.warn(\n",
            "/usr/local/lib/python3.8/dist-packages/sklearn/base.py:450: UserWarning: X does not have valid feature names, but MLPClassifier was fitted with feature names\n",
            "  warnings.warn(\n",
            "/usr/local/lib/python3.8/dist-packages/sklearn/base.py:450: UserWarning: X does not have valid feature names, but MLPClassifier was fitted with feature names\n",
            "  warnings.warn(\n",
            "/usr/local/lib/python3.8/dist-packages/sklearn/base.py:450: UserWarning: X does not have valid feature names, but MLPClassifier was fitted with feature names\n",
            "  warnings.warn(\n",
            "/usr/local/lib/python3.8/dist-packages/sklearn/base.py:450: UserWarning: X does not have valid feature names, but MLPClassifier was fitted with feature names\n",
            "  warnings.warn(\n",
            "/usr/local/lib/python3.8/dist-packages/sklearn/base.py:450: UserWarning: X does not have valid feature names, but MLPClassifier was fitted with feature names\n",
            "  warnings.warn(\n",
            "/usr/local/lib/python3.8/dist-packages/sklearn/base.py:450: UserWarning: X does not have valid feature names, but MLPClassifier was fitted with feature names\n",
            "  warnings.warn(\n",
            "/usr/local/lib/python3.8/dist-packages/sklearn/base.py:450: UserWarning: X does not have valid feature names, but MLPClassifier was fitted with feature names\n",
            "  warnings.warn(\n",
            "/usr/local/lib/python3.8/dist-packages/sklearn/base.py:450: UserWarning: X does not have valid feature names, but MLPClassifier was fitted with feature names\n",
            "  warnings.warn(\n",
            "/usr/local/lib/python3.8/dist-packages/sklearn/base.py:450: UserWarning: X does not have valid feature names, but MLPClassifier was fitted with feature names\n",
            "  warnings.warn(\n",
            "/usr/local/lib/python3.8/dist-packages/sklearn/base.py:450: UserWarning: X does not have valid feature names, but MLPClassifier was fitted with feature names\n",
            "  warnings.warn(\n",
            "/usr/local/lib/python3.8/dist-packages/sklearn/base.py:450: UserWarning: X does not have valid feature names, but MLPClassifier was fitted with feature names\n",
            "  warnings.warn(\n",
            "/usr/local/lib/python3.8/dist-packages/sklearn/base.py:450: UserWarning: X does not have valid feature names, but MLPClassifier was fitted with feature names\n",
            "  warnings.warn(\n",
            "/usr/local/lib/python3.8/dist-packages/sklearn/base.py:450: UserWarning: X does not have valid feature names, but MLPClassifier was fitted with feature names\n",
            "  warnings.warn(\n",
            "/usr/local/lib/python3.8/dist-packages/sklearn/base.py:450: UserWarning: X does not have valid feature names, but MLPClassifier was fitted with feature names\n",
            "  warnings.warn(\n",
            "/usr/local/lib/python3.8/dist-packages/sklearn/base.py:450: UserWarning: X does not have valid feature names, but MLPClassifier was fitted with feature names\n",
            "  warnings.warn(\n",
            "/usr/local/lib/python3.8/dist-packages/sklearn/base.py:450: UserWarning: X does not have valid feature names, but MLPClassifier was fitted with feature names\n",
            "  warnings.warn(\n",
            "/usr/local/lib/python3.8/dist-packages/sklearn/base.py:450: UserWarning: X does not have valid feature names, but MLPClassifier was fitted with feature names\n",
            "  warnings.warn(\n",
            "/usr/local/lib/python3.8/dist-packages/sklearn/base.py:450: UserWarning: X does not have valid feature names, but MLPClassifier was fitted with feature names\n",
            "  warnings.warn(\n"
          ]
        },
        {
          "output_type": "stream",
          "name": "stdout",
          "text": [
            "===========================================================================\n",
            "Training loss for fold 1: 5.180099129109911\n",
            "Testing loss for fold 1: 4.960966063235892\n",
            "Training accuracy for fold 1: 0.8500230026069622\n",
            "Testing accuracy for fold 1: 0.8563673168936327\n",
            "Macro F1-Score for fold 1: 0.8257599909799578\n",
            "===========================================================================\n"
          ]
        },
        {
          "output_type": "stream",
          "name": "stderr",
          "text": [
            "/usr/local/lib/python3.8/dist-packages/sklearn/base.py:450: UserWarning: X does not have valid feature names, but MLPClassifier was fitted with feature names\n",
            "  warnings.warn(\n",
            "/usr/local/lib/python3.8/dist-packages/sklearn/base.py:450: UserWarning: X does not have valid feature names, but MLPClassifier was fitted with feature names\n",
            "  warnings.warn(\n",
            "/usr/local/lib/python3.8/dist-packages/sklearn/base.py:450: UserWarning: X does not have valid feature names, but MLPClassifier was fitted with feature names\n",
            "  warnings.warn(\n",
            "/usr/local/lib/python3.8/dist-packages/sklearn/base.py:450: UserWarning: X does not have valid feature names, but MLPClassifier was fitted with feature names\n",
            "  warnings.warn(\n",
            "/usr/local/lib/python3.8/dist-packages/sklearn/base.py:450: UserWarning: X does not have valid feature names, but MLPClassifier was fitted with feature names\n",
            "  warnings.warn(\n",
            "/usr/local/lib/python3.8/dist-packages/sklearn/base.py:450: UserWarning: X does not have valid feature names, but MLPClassifier was fitted with feature names\n",
            "  warnings.warn(\n",
            "/usr/local/lib/python3.8/dist-packages/sklearn/base.py:450: UserWarning: X does not have valid feature names, but MLPClassifier was fitted with feature names\n",
            "  warnings.warn(\n",
            "/usr/local/lib/python3.8/dist-packages/sklearn/base.py:450: UserWarning: X does not have valid feature names, but MLPClassifier was fitted with feature names\n",
            "  warnings.warn(\n",
            "/usr/local/lib/python3.8/dist-packages/sklearn/base.py:450: UserWarning: X does not have valid feature names, but MLPClassifier was fitted with feature names\n",
            "  warnings.warn(\n",
            "/usr/local/lib/python3.8/dist-packages/sklearn/base.py:450: UserWarning: X does not have valid feature names, but MLPClassifier was fitted with feature names\n",
            "  warnings.warn(\n",
            "/usr/local/lib/python3.8/dist-packages/sklearn/base.py:450: UserWarning: X does not have valid feature names, but MLPClassifier was fitted with feature names\n",
            "  warnings.warn(\n",
            "/usr/local/lib/python3.8/dist-packages/sklearn/base.py:450: UserWarning: X does not have valid feature names, but MLPClassifier was fitted with feature names\n",
            "  warnings.warn(\n",
            "/usr/local/lib/python3.8/dist-packages/sklearn/base.py:450: UserWarning: X does not have valid feature names, but MLPClassifier was fitted with feature names\n",
            "  warnings.warn(\n",
            "/usr/local/lib/python3.8/dist-packages/sklearn/base.py:450: UserWarning: X does not have valid feature names, but MLPClassifier was fitted with feature names\n",
            "  warnings.warn(\n",
            "/usr/local/lib/python3.8/dist-packages/sklearn/base.py:450: UserWarning: X does not have valid feature names, but MLPClassifier was fitted with feature names\n",
            "  warnings.warn(\n",
            "/usr/local/lib/python3.8/dist-packages/sklearn/base.py:450: UserWarning: X does not have valid feature names, but MLPClassifier was fitted with feature names\n",
            "  warnings.warn(\n",
            "/usr/local/lib/python3.8/dist-packages/sklearn/base.py:450: UserWarning: X does not have valid feature names, but MLPClassifier was fitted with feature names\n",
            "  warnings.warn(\n",
            "/usr/local/lib/python3.8/dist-packages/sklearn/base.py:450: UserWarning: X does not have valid feature names, but MLPClassifier was fitted with feature names\n",
            "  warnings.warn(\n",
            "/usr/local/lib/python3.8/dist-packages/sklearn/base.py:450: UserWarning: X does not have valid feature names, but MLPClassifier was fitted with feature names\n",
            "  warnings.warn(\n",
            "/usr/local/lib/python3.8/dist-packages/sklearn/base.py:450: UserWarning: X does not have valid feature names, but MLPClassifier was fitted with feature names\n",
            "  warnings.warn(\n",
            "/usr/local/lib/python3.8/dist-packages/sklearn/base.py:450: UserWarning: X does not have valid feature names, but MLPClassifier was fitted with feature names\n",
            "  warnings.warn(\n",
            "/usr/local/lib/python3.8/dist-packages/sklearn/base.py:450: UserWarning: X does not have valid feature names, but MLPClassifier was fitted with feature names\n",
            "  warnings.warn(\n"
          ]
        },
        {
          "output_type": "stream",
          "name": "stdout",
          "text": [
            "===========================================================================\n",
            "Training loss for fold 2: 5.14090576783634\n",
            "Testing loss for fold 2: 5.437684463965117\n",
            "Training accuracy for fold 2: 0.8511577978837601\n",
            "Testing accuracy for fold 2: 0.8425653294074347\n",
            "Macro F1-Score for fold 2: 0.8088736891262536\n",
            "===========================================================================\n"
          ]
        },
        {
          "output_type": "stream",
          "name": "stderr",
          "text": [
            "/usr/local/lib/python3.8/dist-packages/sklearn/base.py:450: UserWarning: X does not have valid feature names, but MLPClassifier was fitted with feature names\n",
            "  warnings.warn(\n",
            "/usr/local/lib/python3.8/dist-packages/sklearn/base.py:450: UserWarning: X does not have valid feature names, but MLPClassifier was fitted with feature names\n",
            "  warnings.warn(\n",
            "/usr/local/lib/python3.8/dist-packages/sklearn/base.py:450: UserWarning: X does not have valid feature names, but MLPClassifier was fitted with feature names\n",
            "  warnings.warn(\n",
            "/usr/local/lib/python3.8/dist-packages/sklearn/base.py:450: UserWarning: X does not have valid feature names, but MLPClassifier was fitted with feature names\n",
            "  warnings.warn(\n",
            "/usr/local/lib/python3.8/dist-packages/sklearn/base.py:450: UserWarning: X does not have valid feature names, but MLPClassifier was fitted with feature names\n",
            "  warnings.warn(\n",
            "/usr/local/lib/python3.8/dist-packages/sklearn/base.py:450: UserWarning: X does not have valid feature names, but MLPClassifier was fitted with feature names\n",
            "  warnings.warn(\n",
            "/usr/local/lib/python3.8/dist-packages/sklearn/base.py:450: UserWarning: X does not have valid feature names, but MLPClassifier was fitted with feature names\n",
            "  warnings.warn(\n",
            "/usr/local/lib/python3.8/dist-packages/sklearn/base.py:450: UserWarning: X does not have valid feature names, but MLPClassifier was fitted with feature names\n",
            "  warnings.warn(\n",
            "/usr/local/lib/python3.8/dist-packages/sklearn/base.py:450: UserWarning: X does not have valid feature names, but MLPClassifier was fitted with feature names\n",
            "  warnings.warn(\n",
            "/usr/local/lib/python3.8/dist-packages/sklearn/base.py:450: UserWarning: X does not have valid feature names, but MLPClassifier was fitted with feature names\n",
            "  warnings.warn(\n",
            "/usr/local/lib/python3.8/dist-packages/sklearn/base.py:450: UserWarning: X does not have valid feature names, but MLPClassifier was fitted with feature names\n",
            "  warnings.warn(\n",
            "/usr/local/lib/python3.8/dist-packages/sklearn/base.py:450: UserWarning: X does not have valid feature names, but MLPClassifier was fitted with feature names\n",
            "  warnings.warn(\n",
            "/usr/local/lib/python3.8/dist-packages/sklearn/base.py:450: UserWarning: X does not have valid feature names, but MLPClassifier was fitted with feature names\n",
            "  warnings.warn(\n",
            "/usr/local/lib/python3.8/dist-packages/sklearn/base.py:450: UserWarning: X does not have valid feature names, but MLPClassifier was fitted with feature names\n",
            "  warnings.warn(\n",
            "/usr/local/lib/python3.8/dist-packages/sklearn/base.py:450: UserWarning: X does not have valid feature names, but MLPClassifier was fitted with feature names\n",
            "  warnings.warn(\n",
            "/usr/local/lib/python3.8/dist-packages/sklearn/base.py:450: UserWarning: X does not have valid feature names, but MLPClassifier was fitted with feature names\n",
            "  warnings.warn(\n",
            "/usr/local/lib/python3.8/dist-packages/sklearn/base.py:450: UserWarning: X does not have valid feature names, but MLPClassifier was fitted with feature names\n",
            "  warnings.warn(\n",
            "/usr/local/lib/python3.8/dist-packages/sklearn/base.py:450: UserWarning: X does not have valid feature names, but MLPClassifier was fitted with feature names\n",
            "  warnings.warn(\n",
            "/usr/local/lib/python3.8/dist-packages/sklearn/base.py:450: UserWarning: X does not have valid feature names, but MLPClassifier was fitted with feature names\n",
            "  warnings.warn(\n",
            "/usr/local/lib/python3.8/dist-packages/sklearn/base.py:450: UserWarning: X does not have valid feature names, but MLPClassifier was fitted with feature names\n",
            "  warnings.warn(\n",
            "/usr/local/lib/python3.8/dist-packages/sklearn/base.py:450: UserWarning: X does not have valid feature names, but MLPClassifier was fitted with feature names\n",
            "  warnings.warn(\n",
            "/usr/local/lib/python3.8/dist-packages/sklearn/base.py:450: UserWarning: X does not have valid feature names, but MLPClassifier was fitted with feature names\n",
            "  warnings.warn(\n",
            "/usr/local/lib/python3.8/dist-packages/sklearn/base.py:450: UserWarning: X does not have valid feature names, but MLPClassifier was fitted with feature names\n",
            "  warnings.warn(\n",
            "/usr/local/lib/python3.8/dist-packages/sklearn/base.py:450: UserWarning: X does not have valid feature names, but MLPClassifier was fitted with feature names\n",
            "  warnings.warn(\n",
            "/usr/local/lib/python3.8/dist-packages/sklearn/base.py:450: UserWarning: X does not have valid feature names, but MLPClassifier was fitted with feature names\n",
            "  warnings.warn(\n",
            "/usr/local/lib/python3.8/dist-packages/sklearn/base.py:450: UserWarning: X does not have valid feature names, but MLPClassifier was fitted with feature names\n",
            "  warnings.warn(\n",
            "/usr/local/lib/python3.8/dist-packages/sklearn/base.py:450: UserWarning: X does not have valid feature names, but MLPClassifier was fitted with feature names\n",
            "  warnings.warn(\n",
            "/usr/local/lib/python3.8/dist-packages/sklearn/base.py:450: UserWarning: X does not have valid feature names, but MLPClassifier was fitted with feature names\n",
            "  warnings.warn(\n"
          ]
        },
        {
          "output_type": "stream",
          "name": "stdout",
          "text": [
            "===========================================================================\n",
            "Training loss for fold 3: 5.24153246569007\n",
            "Testing loss for fold 3: 5.33915663743529\n",
            "Training accuracy for fold 3: 0.8482441343352246\n",
            "Testing accuracy for fold 3: 0.8454177401545823\n",
            "Macro F1-Score for fold 3: 0.815798951708241\n",
            "===========================================================================\n"
          ]
        },
        {
          "output_type": "stream",
          "name": "stderr",
          "text": [
            "/usr/local/lib/python3.8/dist-packages/sklearn/base.py:450: UserWarning: X does not have valid feature names, but MLPClassifier was fitted with feature names\n",
            "  warnings.warn(\n",
            "/usr/local/lib/python3.8/dist-packages/sklearn/base.py:450: UserWarning: X does not have valid feature names, but MLPClassifier was fitted with feature names\n",
            "  warnings.warn(\n",
            "/usr/local/lib/python3.8/dist-packages/sklearn/base.py:450: UserWarning: X does not have valid feature names, but MLPClassifier was fitted with feature names\n",
            "  warnings.warn(\n",
            "/usr/local/lib/python3.8/dist-packages/sklearn/base.py:450: UserWarning: X does not have valid feature names, but MLPClassifier was fitted with feature names\n",
            "  warnings.warn(\n",
            "/usr/local/lib/python3.8/dist-packages/sklearn/base.py:450: UserWarning: X does not have valid feature names, but MLPClassifier was fitted with feature names\n",
            "  warnings.warn(\n",
            "/usr/local/lib/python3.8/dist-packages/sklearn/base.py:450: UserWarning: X does not have valid feature names, but MLPClassifier was fitted with feature names\n",
            "  warnings.warn(\n",
            "/usr/local/lib/python3.8/dist-packages/sklearn/base.py:450: UserWarning: X does not have valid feature names, but MLPClassifier was fitted with feature names\n",
            "  warnings.warn(\n",
            "/usr/local/lib/python3.8/dist-packages/sklearn/base.py:450: UserWarning: X does not have valid feature names, but MLPClassifier was fitted with feature names\n",
            "  warnings.warn(\n",
            "/usr/local/lib/python3.8/dist-packages/sklearn/base.py:450: UserWarning: X does not have valid feature names, but MLPClassifier was fitted with feature names\n",
            "  warnings.warn(\n",
            "/usr/local/lib/python3.8/dist-packages/sklearn/base.py:450: UserWarning: X does not have valid feature names, but MLPClassifier was fitted with feature names\n",
            "  warnings.warn(\n",
            "/usr/local/lib/python3.8/dist-packages/sklearn/base.py:450: UserWarning: X does not have valid feature names, but MLPClassifier was fitted with feature names\n",
            "  warnings.warn(\n",
            "/usr/local/lib/python3.8/dist-packages/sklearn/base.py:450: UserWarning: X does not have valid feature names, but MLPClassifier was fitted with feature names\n",
            "  warnings.warn(\n",
            "/usr/local/lib/python3.8/dist-packages/sklearn/base.py:450: UserWarning: X does not have valid feature names, but MLPClassifier was fitted with feature names\n",
            "  warnings.warn(\n",
            "/usr/local/lib/python3.8/dist-packages/sklearn/base.py:450: UserWarning: X does not have valid feature names, but MLPClassifier was fitted with feature names\n",
            "  warnings.warn(\n",
            "/usr/local/lib/python3.8/dist-packages/sklearn/base.py:450: UserWarning: X does not have valid feature names, but MLPClassifier was fitted with feature names\n",
            "  warnings.warn(\n",
            "/usr/local/lib/python3.8/dist-packages/sklearn/base.py:450: UserWarning: X does not have valid feature names, but MLPClassifier was fitted with feature names\n",
            "  warnings.warn(\n",
            "/usr/local/lib/python3.8/dist-packages/sklearn/base.py:450: UserWarning: X does not have valid feature names, but MLPClassifier was fitted with feature names\n",
            "  warnings.warn(\n"
          ]
        },
        {
          "output_type": "stream",
          "name": "stdout",
          "text": [
            "===========================================================================\n",
            "Training loss for fold 4: 5.298906975112747\n",
            "Testing loss for fold 4: 5.135293829078739\n",
            "Training accuracy for fold 4: 0.8465832413200834\n",
            "Testing accuracy for fold 4: 0.85132026865397\n",
            "Macro F1-Score for fold 4: 0.8190326844147018\n",
            "===========================================================================\n"
          ]
        }
      ]
    },
    {
      "cell_type": "code",
      "source": [
        "mlp_train_accuracy_tanh_sent, mlp_accuracy_tanh_sent, mlp_f1_tanh_sent = train_k_fold(clf_mlp_tanh, df_new, 4)"
      ],
      "metadata": {
        "colab": {
          "base_uri": "https://localhost:8080/"
        },
        "id": "XmFE5WgctQOM",
        "outputId": "cbef3db0-b636-4cfa-f579-6d605d3c40d8"
      },
      "execution_count": null,
      "outputs": [
        {
          "output_type": "stream",
          "name": "stdout",
          "text": [
            "===========================================================================\n",
            "Model MLPClassifier(activation='tanh', early_stopping=True,\n",
            "              hidden_layer_sizes=(256, 128), max_iter=1000, random_state=0)\n"
          ]
        },
        {
          "output_type": "stream",
          "name": "stderr",
          "text": [
            "/usr/local/lib/python3.8/dist-packages/sklearn/base.py:450: UserWarning: X does not have valid feature names, but MLPClassifier was fitted with feature names\n",
            "  warnings.warn(\n",
            "/usr/local/lib/python3.8/dist-packages/sklearn/base.py:450: UserWarning: X does not have valid feature names, but MLPClassifier was fitted with feature names\n",
            "  warnings.warn(\n",
            "/usr/local/lib/python3.8/dist-packages/sklearn/base.py:450: UserWarning: X does not have valid feature names, but MLPClassifier was fitted with feature names\n",
            "  warnings.warn(\n",
            "/usr/local/lib/python3.8/dist-packages/sklearn/base.py:450: UserWarning: X does not have valid feature names, but MLPClassifier was fitted with feature names\n",
            "  warnings.warn(\n",
            "/usr/local/lib/python3.8/dist-packages/sklearn/base.py:450: UserWarning: X does not have valid feature names, but MLPClassifier was fitted with feature names\n",
            "  warnings.warn(\n",
            "/usr/local/lib/python3.8/dist-packages/sklearn/base.py:450: UserWarning: X does not have valid feature names, but MLPClassifier was fitted with feature names\n",
            "  warnings.warn(\n",
            "/usr/local/lib/python3.8/dist-packages/sklearn/base.py:450: UserWarning: X does not have valid feature names, but MLPClassifier was fitted with feature names\n",
            "  warnings.warn(\n",
            "/usr/local/lib/python3.8/dist-packages/sklearn/base.py:450: UserWarning: X does not have valid feature names, but MLPClassifier was fitted with feature names\n",
            "  warnings.warn(\n",
            "/usr/local/lib/python3.8/dist-packages/sklearn/base.py:450: UserWarning: X does not have valid feature names, but MLPClassifier was fitted with feature names\n",
            "  warnings.warn(\n",
            "/usr/local/lib/python3.8/dist-packages/sklearn/base.py:450: UserWarning: X does not have valid feature names, but MLPClassifier was fitted with feature names\n",
            "  warnings.warn(\n",
            "/usr/local/lib/python3.8/dist-packages/sklearn/base.py:450: UserWarning: X does not have valid feature names, but MLPClassifier was fitted with feature names\n",
            "  warnings.warn(\n",
            "/usr/local/lib/python3.8/dist-packages/sklearn/base.py:450: UserWarning: X does not have valid feature names, but MLPClassifier was fitted with feature names\n",
            "  warnings.warn(\n",
            "/usr/local/lib/python3.8/dist-packages/sklearn/base.py:450: UserWarning: X does not have valid feature names, but MLPClassifier was fitted with feature names\n",
            "  warnings.warn(\n",
            "/usr/local/lib/python3.8/dist-packages/sklearn/base.py:450: UserWarning: X does not have valid feature names, but MLPClassifier was fitted with feature names\n",
            "  warnings.warn(\n",
            "/usr/local/lib/python3.8/dist-packages/sklearn/base.py:450: UserWarning: X does not have valid feature names, but MLPClassifier was fitted with feature names\n",
            "  warnings.warn(\n",
            "/usr/local/lib/python3.8/dist-packages/sklearn/base.py:450: UserWarning: X does not have valid feature names, but MLPClassifier was fitted with feature names\n",
            "  warnings.warn(\n",
            "/usr/local/lib/python3.8/dist-packages/sklearn/base.py:450: UserWarning: X does not have valid feature names, but MLPClassifier was fitted with feature names\n",
            "  warnings.warn(\n"
          ]
        },
        {
          "output_type": "stream",
          "name": "stdout",
          "text": [
            "===========================================================================\n",
            "Training loss for fold 1: 5.298741710218181\n",
            "Testing loss for fold 1: 5.351869767720869\n",
            "Training accuracy for fold 1: 0.8465879466339519\n",
            "Testing accuracy for fold 1: 0.8450496871549503\n",
            "Macro F1-Score for fold 1: 0.8127457431061991\n",
            "===========================================================================\n"
          ]
        },
        {
          "output_type": "stream",
          "name": "stderr",
          "text": [
            "/usr/local/lib/python3.8/dist-packages/sklearn/base.py:450: UserWarning: X does not have valid feature names, but MLPClassifier was fitted with feature names\n",
            "  warnings.warn(\n",
            "/usr/local/lib/python3.8/dist-packages/sklearn/base.py:450: UserWarning: X does not have valid feature names, but MLPClassifier was fitted with feature names\n",
            "  warnings.warn(\n",
            "/usr/local/lib/python3.8/dist-packages/sklearn/base.py:450: UserWarning: X does not have valid feature names, but MLPClassifier was fitted with feature names\n",
            "  warnings.warn(\n",
            "/usr/local/lib/python3.8/dist-packages/sklearn/base.py:450: UserWarning: X does not have valid feature names, but MLPClassifier was fitted with feature names\n",
            "  warnings.warn(\n",
            "/usr/local/lib/python3.8/dist-packages/sklearn/base.py:450: UserWarning: X does not have valid feature names, but MLPClassifier was fitted with feature names\n",
            "  warnings.warn(\n",
            "/usr/local/lib/python3.8/dist-packages/sklearn/base.py:450: UserWarning: X does not have valid feature names, but MLPClassifier was fitted with feature names\n",
            "  warnings.warn(\n",
            "/usr/local/lib/python3.8/dist-packages/sklearn/base.py:450: UserWarning: X does not have valid feature names, but MLPClassifier was fitted with feature names\n",
            "  warnings.warn(\n",
            "/usr/local/lib/python3.8/dist-packages/sklearn/base.py:450: UserWarning: X does not have valid feature names, but MLPClassifier was fitted with feature names\n",
            "  warnings.warn(\n",
            "/usr/local/lib/python3.8/dist-packages/sklearn/base.py:450: UserWarning: X does not have valid feature names, but MLPClassifier was fitted with feature names\n",
            "  warnings.warn(\n",
            "/usr/local/lib/python3.8/dist-packages/sklearn/base.py:450: UserWarning: X does not have valid feature names, but MLPClassifier was fitted with feature names\n",
            "  warnings.warn(\n",
            "/usr/local/lib/python3.8/dist-packages/sklearn/base.py:450: UserWarning: X does not have valid feature names, but MLPClassifier was fitted with feature names\n",
            "  warnings.warn(\n",
            "/usr/local/lib/python3.8/dist-packages/sklearn/base.py:450: UserWarning: X does not have valid feature names, but MLPClassifier was fitted with feature names\n",
            "  warnings.warn(\n",
            "/usr/local/lib/python3.8/dist-packages/sklearn/base.py:450: UserWarning: X does not have valid feature names, but MLPClassifier was fitted with feature names\n",
            "  warnings.warn(\n",
            "/usr/local/lib/python3.8/dist-packages/sklearn/base.py:450: UserWarning: X does not have valid feature names, but MLPClassifier was fitted with feature names\n",
            "  warnings.warn(\n",
            "/usr/local/lib/python3.8/dist-packages/sklearn/base.py:450: UserWarning: X does not have valid feature names, but MLPClassifier was fitted with feature names\n",
            "  warnings.warn(\n",
            "/usr/local/lib/python3.8/dist-packages/sklearn/base.py:450: UserWarning: X does not have valid feature names, but MLPClassifier was fitted with feature names\n",
            "  warnings.warn(\n",
            "/usr/local/lib/python3.8/dist-packages/sklearn/base.py:450: UserWarning: X does not have valid feature names, but MLPClassifier was fitted with feature names\n",
            "  warnings.warn(\n"
          ]
        },
        {
          "output_type": "stream",
          "name": "stdout",
          "text": [
            "===========================================================================\n",
            "Training loss for fold 2: 5.434347437752785\n",
            "Testing loss for fold 2: 5.243828760889741\n",
            "Training accuracy for fold 2: 0.8426621683790829\n",
            "Testing accuracy for fold 2: 0.8481781376518218\n",
            "Macro F1-Score for fold 2: 0.8113857769548722\n",
            "===========================================================================\n"
          ]
        },
        {
          "output_type": "stream",
          "name": "stderr",
          "text": [
            "/usr/local/lib/python3.8/dist-packages/sklearn/base.py:450: UserWarning: X does not have valid feature names, but MLPClassifier was fitted with feature names\n",
            "  warnings.warn(\n",
            "/usr/local/lib/python3.8/dist-packages/sklearn/base.py:450: UserWarning: X does not have valid feature names, but MLPClassifier was fitted with feature names\n",
            "  warnings.warn(\n",
            "/usr/local/lib/python3.8/dist-packages/sklearn/base.py:450: UserWarning: X does not have valid feature names, but MLPClassifier was fitted with feature names\n",
            "  warnings.warn(\n",
            "/usr/local/lib/python3.8/dist-packages/sklearn/base.py:450: UserWarning: X does not have valid feature names, but MLPClassifier was fitted with feature names\n",
            "  warnings.warn(\n",
            "/usr/local/lib/python3.8/dist-packages/sklearn/base.py:450: UserWarning: X does not have valid feature names, but MLPClassifier was fitted with feature names\n",
            "  warnings.warn(\n",
            "/usr/local/lib/python3.8/dist-packages/sklearn/base.py:450: UserWarning: X does not have valid feature names, but MLPClassifier was fitted with feature names\n",
            "  warnings.warn(\n",
            "/usr/local/lib/python3.8/dist-packages/sklearn/base.py:450: UserWarning: X does not have valid feature names, but MLPClassifier was fitted with feature names\n",
            "  warnings.warn(\n",
            "/usr/local/lib/python3.8/dist-packages/sklearn/base.py:450: UserWarning: X does not have valid feature names, but MLPClassifier was fitted with feature names\n",
            "  warnings.warn(\n",
            "/usr/local/lib/python3.8/dist-packages/sklearn/base.py:450: UserWarning: X does not have valid feature names, but MLPClassifier was fitted with feature names\n",
            "  warnings.warn(\n",
            "/usr/local/lib/python3.8/dist-packages/sklearn/base.py:450: UserWarning: X does not have valid feature names, but MLPClassifier was fitted with feature names\n",
            "  warnings.warn(\n",
            "/usr/local/lib/python3.8/dist-packages/sklearn/base.py:450: UserWarning: X does not have valid feature names, but MLPClassifier was fitted with feature names\n",
            "  warnings.warn(\n",
            "/usr/local/lib/python3.8/dist-packages/sklearn/base.py:450: UserWarning: X does not have valid feature names, but MLPClassifier was fitted with feature names\n",
            "  warnings.warn(\n",
            "/usr/local/lib/python3.8/dist-packages/sklearn/base.py:450: UserWarning: X does not have valid feature names, but MLPClassifier was fitted with feature names\n",
            "  warnings.warn(\n",
            "/usr/local/lib/python3.8/dist-packages/sklearn/base.py:450: UserWarning: X does not have valid feature names, but MLPClassifier was fitted with feature names\n",
            "  warnings.warn(\n",
            "/usr/local/lib/python3.8/dist-packages/sklearn/base.py:450: UserWarning: X does not have valid feature names, but MLPClassifier was fitted with feature names\n",
            "  warnings.warn(\n",
            "/usr/local/lib/python3.8/dist-packages/sklearn/base.py:450: UserWarning: X does not have valid feature names, but MLPClassifier was fitted with feature names\n",
            "  warnings.warn(\n",
            "/usr/local/lib/python3.8/dist-packages/sklearn/base.py:450: UserWarning: X does not have valid feature names, but MLPClassifier was fitted with feature names\n",
            "  warnings.warn(\n",
            "/usr/local/lib/python3.8/dist-packages/sklearn/base.py:450: UserWarning: X does not have valid feature names, but MLPClassifier was fitted with feature names\n",
            "  warnings.warn(\n",
            "/usr/local/lib/python3.8/dist-packages/sklearn/base.py:450: UserWarning: X does not have valid feature names, but MLPClassifier was fitted with feature names\n",
            "  warnings.warn(\n",
            "/usr/local/lib/python3.8/dist-packages/sklearn/base.py:450: UserWarning: X does not have valid feature names, but MLPClassifier was fitted with feature names\n",
            "  warnings.warn(\n",
            "/usr/local/lib/python3.8/dist-packages/sklearn/base.py:450: UserWarning: X does not have valid feature names, but MLPClassifier was fitted with feature names\n",
            "  warnings.warn(\n",
            "/usr/local/lib/python3.8/dist-packages/sklearn/base.py:450: UserWarning: X does not have valid feature names, but MLPClassifier was fitted with feature names\n",
            "  warnings.warn(\n",
            "/usr/local/lib/python3.8/dist-packages/sklearn/base.py:450: UserWarning: X does not have valid feature names, but MLPClassifier was fitted with feature names\n",
            "  warnings.warn(\n",
            "/usr/local/lib/python3.8/dist-packages/sklearn/base.py:450: UserWarning: X does not have valid feature names, but MLPClassifier was fitted with feature names\n",
            "  warnings.warn(\n",
            "/usr/local/lib/python3.8/dist-packages/sklearn/base.py:450: UserWarning: X does not have valid feature names, but MLPClassifier was fitted with feature names\n",
            "  warnings.warn(\n",
            "/usr/local/lib/python3.8/dist-packages/sklearn/base.py:450: UserWarning: X does not have valid feature names, but MLPClassifier was fitted with feature names\n",
            "  warnings.warn(\n",
            "/usr/local/lib/python3.8/dist-packages/sklearn/base.py:450: UserWarning: X does not have valid feature names, but MLPClassifier was fitted with feature names\n",
            "  warnings.warn(\n",
            "/usr/local/lib/python3.8/dist-packages/sklearn/base.py:450: UserWarning: X does not have valid feature names, but MLPClassifier was fitted with feature names\n",
            "  warnings.warn(\n",
            "/usr/local/lib/python3.8/dist-packages/sklearn/base.py:450: UserWarning: X does not have valid feature names, but MLPClassifier was fitted with feature names\n",
            "  warnings.warn(\n",
            "/usr/local/lib/python3.8/dist-packages/sklearn/base.py:450: UserWarning: X does not have valid feature names, but MLPClassifier was fitted with feature names\n",
            "  warnings.warn(\n",
            "/usr/local/lib/python3.8/dist-packages/sklearn/base.py:450: UserWarning: X does not have valid feature names, but MLPClassifier was fitted with feature names\n",
            "  warnings.warn(\n"
          ]
        },
        {
          "output_type": "stream",
          "name": "stdout",
          "text": [
            "===========================================================================\n",
            "Training loss for fold 3: 5.170570520844417\n",
            "Testing loss for fold 3: 5.396373154649768\n",
            "Training accuracy for fold 3: 0.8502990338905075\n",
            "Testing accuracy for fold 3: 0.8437615016562385\n",
            "Macro F1-Score for fold 3: 0.8061334312723556\n",
            "===========================================================================\n"
          ]
        },
        {
          "output_type": "stream",
          "name": "stderr",
          "text": [
            "/usr/local/lib/python3.8/dist-packages/sklearn/base.py:450: UserWarning: X does not have valid feature names, but MLPClassifier was fitted with feature names\n",
            "  warnings.warn(\n",
            "/usr/local/lib/python3.8/dist-packages/sklearn/base.py:450: UserWarning: X does not have valid feature names, but MLPClassifier was fitted with feature names\n",
            "  warnings.warn(\n",
            "/usr/local/lib/python3.8/dist-packages/sklearn/base.py:450: UserWarning: X does not have valid feature names, but MLPClassifier was fitted with feature names\n",
            "  warnings.warn(\n",
            "/usr/local/lib/python3.8/dist-packages/sklearn/base.py:450: UserWarning: X does not have valid feature names, but MLPClassifier was fitted with feature names\n",
            "  warnings.warn(\n",
            "/usr/local/lib/python3.8/dist-packages/sklearn/base.py:450: UserWarning: X does not have valid feature names, but MLPClassifier was fitted with feature names\n",
            "  warnings.warn(\n",
            "/usr/local/lib/python3.8/dist-packages/sklearn/base.py:450: UserWarning: X does not have valid feature names, but MLPClassifier was fitted with feature names\n",
            "  warnings.warn(\n",
            "/usr/local/lib/python3.8/dist-packages/sklearn/base.py:450: UserWarning: X does not have valid feature names, but MLPClassifier was fitted with feature names\n",
            "  warnings.warn(\n",
            "/usr/local/lib/python3.8/dist-packages/sklearn/base.py:450: UserWarning: X does not have valid feature names, but MLPClassifier was fitted with feature names\n",
            "  warnings.warn(\n",
            "/usr/local/lib/python3.8/dist-packages/sklearn/base.py:450: UserWarning: X does not have valid feature names, but MLPClassifier was fitted with feature names\n",
            "  warnings.warn(\n",
            "/usr/local/lib/python3.8/dist-packages/sklearn/base.py:450: UserWarning: X does not have valid feature names, but MLPClassifier was fitted with feature names\n",
            "  warnings.warn(\n",
            "/usr/local/lib/python3.8/dist-packages/sklearn/base.py:450: UserWarning: X does not have valid feature names, but MLPClassifier was fitted with feature names\n",
            "  warnings.warn(\n",
            "/usr/local/lib/python3.8/dist-packages/sklearn/base.py:450: UserWarning: X does not have valid feature names, but MLPClassifier was fitted with feature names\n",
            "  warnings.warn(\n",
            "/usr/local/lib/python3.8/dist-packages/sklearn/base.py:450: UserWarning: X does not have valid feature names, but MLPClassifier was fitted with feature names\n",
            "  warnings.warn(\n",
            "/usr/local/lib/python3.8/dist-packages/sklearn/base.py:450: UserWarning: X does not have valid feature names, but MLPClassifier was fitted with feature names\n",
            "  warnings.warn(\n",
            "/usr/local/lib/python3.8/dist-packages/sklearn/base.py:450: UserWarning: X does not have valid feature names, but MLPClassifier was fitted with feature names\n",
            "  warnings.warn(\n",
            "/usr/local/lib/python3.8/dist-packages/sklearn/base.py:450: UserWarning: X does not have valid feature names, but MLPClassifier was fitted with feature names\n",
            "  warnings.warn(\n",
            "/usr/local/lib/python3.8/dist-packages/sklearn/base.py:450: UserWarning: X does not have valid feature names, but MLPClassifier was fitted with feature names\n",
            "  warnings.warn(\n",
            "/usr/local/lib/python3.8/dist-packages/sklearn/base.py:450: UserWarning: X does not have valid feature names, but MLPClassifier was fitted with feature names\n",
            "  warnings.warn(\n",
            "/usr/local/lib/python3.8/dist-packages/sklearn/base.py:450: UserWarning: X does not have valid feature names, but MLPClassifier was fitted with feature names\n",
            "  warnings.warn(\n",
            "/usr/local/lib/python3.8/dist-packages/sklearn/base.py:450: UserWarning: X does not have valid feature names, but MLPClassifier was fitted with feature names\n",
            "  warnings.warn(\n",
            "/usr/local/lib/python3.8/dist-packages/sklearn/base.py:450: UserWarning: X does not have valid feature names, but MLPClassifier was fitted with feature names\n",
            "  warnings.warn(\n",
            "/usr/local/lib/python3.8/dist-packages/sklearn/base.py:450: UserWarning: X does not have valid feature names, but MLPClassifier was fitted with feature names\n",
            "  warnings.warn(\n",
            "/usr/local/lib/python3.8/dist-packages/sklearn/base.py:450: UserWarning: X does not have valid feature names, but MLPClassifier was fitted with feature names\n",
            "  warnings.warn(\n",
            "/usr/local/lib/python3.8/dist-packages/sklearn/base.py:450: UserWarning: X does not have valid feature names, but MLPClassifier was fitted with feature names\n",
            "  warnings.warn(\n",
            "/usr/local/lib/python3.8/dist-packages/sklearn/base.py:450: UserWarning: X does not have valid feature names, but MLPClassifier was fitted with feature names\n",
            "  warnings.warn(\n",
            "/usr/local/lib/python3.8/dist-packages/sklearn/base.py:450: UserWarning: X does not have valid feature names, but MLPClassifier was fitted with feature names\n",
            "  warnings.warn(\n",
            "/usr/local/lib/python3.8/dist-packages/sklearn/base.py:450: UserWarning: X does not have valid feature names, but MLPClassifier was fitted with feature names\n",
            "  warnings.warn(\n",
            "/usr/local/lib/python3.8/dist-packages/sklearn/base.py:450: UserWarning: X does not have valid feature names, but MLPClassifier was fitted with feature names\n",
            "  warnings.warn(\n",
            "/usr/local/lib/python3.8/dist-packages/sklearn/base.py:450: UserWarning: X does not have valid feature names, but MLPClassifier was fitted with feature names\n",
            "  warnings.warn(\n",
            "/usr/local/lib/python3.8/dist-packages/sklearn/base.py:450: UserWarning: X does not have valid feature names, but MLPClassifier was fitted with feature names\n",
            "  warnings.warn(\n",
            "/usr/local/lib/python3.8/dist-packages/sklearn/base.py:450: UserWarning: X does not have valid feature names, but MLPClassifier was fitted with feature names\n",
            "  warnings.warn(\n",
            "/usr/local/lib/python3.8/dist-packages/sklearn/base.py:450: UserWarning: X does not have valid feature names, but MLPClassifier was fitted with feature names\n",
            "  warnings.warn(\n",
            "/usr/local/lib/python3.8/dist-packages/sklearn/base.py:450: UserWarning: X does not have valid feature names, but MLPClassifier was fitted with feature names\n",
            "  warnings.warn(\n"
          ]
        },
        {
          "output_type": "stream",
          "name": "stdout",
          "text": [
            "===========================================================================\n",
            "Training loss for fold 4: 5.12622393062477\n",
            "Testing loss for fold 4: 5.214731775463905\n",
            "Training accuracy for fold 4: 0.8515826278984173\n",
            "Testing accuracy for fold 4: 0.8490201490477505\n",
            "Macro F1-Score for fold 4: 0.820600782219953\n",
            "===========================================================================\n"
          ]
        }
      ]
    },
    {
      "cell_type": "code",
      "source": [
        "mlp_train_accuracy_linear_sent, mlp_accuracy_linear_sent, mlp_f1_linear_sent = train_k_fold(clf_mlp_linear, df_new, 4)"
      ],
      "metadata": {
        "colab": {
          "base_uri": "https://localhost:8080/"
        },
        "id": "Vt7kNDajtSb1",
        "outputId": "cf40b102-d23b-47b0-da34-1ab586deeffe"
      },
      "execution_count": null,
      "outputs": [
        {
          "output_type": "stream",
          "name": "stdout",
          "text": [
            "===========================================================================\n",
            "Model MLPClassifier(activation='identity', early_stopping=True,\n",
            "              hidden_layer_sizes=(256, 128), max_iter=1000, random_state=0)\n"
          ]
        },
        {
          "output_type": "stream",
          "name": "stderr",
          "text": [
            "/usr/local/lib/python3.8/dist-packages/sklearn/base.py:450: UserWarning: X does not have valid feature names, but MLPClassifier was fitted with feature names\n",
            "  warnings.warn(\n",
            "/usr/local/lib/python3.8/dist-packages/sklearn/base.py:450: UserWarning: X does not have valid feature names, but MLPClassifier was fitted with feature names\n",
            "  warnings.warn(\n",
            "/usr/local/lib/python3.8/dist-packages/sklearn/base.py:450: UserWarning: X does not have valid feature names, but MLPClassifier was fitted with feature names\n",
            "  warnings.warn(\n",
            "/usr/local/lib/python3.8/dist-packages/sklearn/base.py:450: UserWarning: X does not have valid feature names, but MLPClassifier was fitted with feature names\n",
            "  warnings.warn(\n",
            "/usr/local/lib/python3.8/dist-packages/sklearn/base.py:450: UserWarning: X does not have valid feature names, but MLPClassifier was fitted with feature names\n",
            "  warnings.warn(\n",
            "/usr/local/lib/python3.8/dist-packages/sklearn/base.py:450: UserWarning: X does not have valid feature names, but MLPClassifier was fitted with feature names\n",
            "  warnings.warn(\n",
            "/usr/local/lib/python3.8/dist-packages/sklearn/base.py:450: UserWarning: X does not have valid feature names, but MLPClassifier was fitted with feature names\n",
            "  warnings.warn(\n",
            "/usr/local/lib/python3.8/dist-packages/sklearn/base.py:450: UserWarning: X does not have valid feature names, but MLPClassifier was fitted with feature names\n",
            "  warnings.warn(\n",
            "/usr/local/lib/python3.8/dist-packages/sklearn/base.py:450: UserWarning: X does not have valid feature names, but MLPClassifier was fitted with feature names\n",
            "  warnings.warn(\n",
            "/usr/local/lib/python3.8/dist-packages/sklearn/base.py:450: UserWarning: X does not have valid feature names, but MLPClassifier was fitted with feature names\n",
            "  warnings.warn(\n",
            "/usr/local/lib/python3.8/dist-packages/sklearn/base.py:450: UserWarning: X does not have valid feature names, but MLPClassifier was fitted with feature names\n",
            "  warnings.warn(\n",
            "/usr/local/lib/python3.8/dist-packages/sklearn/base.py:450: UserWarning: X does not have valid feature names, but MLPClassifier was fitted with feature names\n",
            "  warnings.warn(\n",
            "/usr/local/lib/python3.8/dist-packages/sklearn/base.py:450: UserWarning: X does not have valid feature names, but MLPClassifier was fitted with feature names\n",
            "  warnings.warn(\n",
            "/usr/local/lib/python3.8/dist-packages/sklearn/base.py:450: UserWarning: X does not have valid feature names, but MLPClassifier was fitted with feature names\n",
            "  warnings.warn(\n",
            "/usr/local/lib/python3.8/dist-packages/sklearn/base.py:450: UserWarning: X does not have valid feature names, but MLPClassifier was fitted with feature names\n",
            "  warnings.warn(\n",
            "/usr/local/lib/python3.8/dist-packages/sklearn/base.py:450: UserWarning: X does not have valid feature names, but MLPClassifier was fitted with feature names\n",
            "  warnings.warn(\n",
            "/usr/local/lib/python3.8/dist-packages/sklearn/base.py:450: UserWarning: X does not have valid feature names, but MLPClassifier was fitted with feature names\n",
            "  warnings.warn(\n",
            "/usr/local/lib/python3.8/dist-packages/sklearn/base.py:450: UserWarning: X does not have valid feature names, but MLPClassifier was fitted with feature names\n",
            "  warnings.warn(\n",
            "/usr/local/lib/python3.8/dist-packages/sklearn/base.py:450: UserWarning: X does not have valid feature names, but MLPClassifier was fitted with feature names\n",
            "  warnings.warn(\n",
            "/usr/local/lib/python3.8/dist-packages/sklearn/base.py:450: UserWarning: X does not have valid feature names, but MLPClassifier was fitted with feature names\n",
            "  warnings.warn(\n",
            "/usr/local/lib/python3.8/dist-packages/sklearn/base.py:450: UserWarning: X does not have valid feature names, but MLPClassifier was fitted with feature names\n",
            "  warnings.warn(\n",
            "/usr/local/lib/python3.8/dist-packages/sklearn/base.py:450: UserWarning: X does not have valid feature names, but MLPClassifier was fitted with feature names\n",
            "  warnings.warn(\n",
            "/usr/local/lib/python3.8/dist-packages/sklearn/base.py:450: UserWarning: X does not have valid feature names, but MLPClassifier was fitted with feature names\n",
            "  warnings.warn(\n",
            "/usr/local/lib/python3.8/dist-packages/sklearn/base.py:450: UserWarning: X does not have valid feature names, but MLPClassifier was fitted with feature names\n",
            "  warnings.warn(\n",
            "/usr/local/lib/python3.8/dist-packages/sklearn/base.py:450: UserWarning: X does not have valid feature names, but MLPClassifier was fitted with feature names\n",
            "  warnings.warn(\n"
          ]
        },
        {
          "output_type": "stream",
          "name": "stdout",
          "text": [
            "===========================================================================\n",
            "Training loss for fold 1: 7.098512304449313\n",
            "Testing loss for fold 1: 7.023518161562531\n",
            "Training accuracy for fold 1: 0.7944793743290907\n",
            "Testing accuracy for fold 1: 0.7966507177033493\n",
            "Macro F1-Score for fold 1: 0.7627152160151549\n",
            "===========================================================================\n"
          ]
        },
        {
          "output_type": "stream",
          "name": "stderr",
          "text": [
            "/usr/local/lib/python3.8/dist-packages/sklearn/base.py:450: UserWarning: X does not have valid feature names, but MLPClassifier was fitted with feature names\n",
            "  warnings.warn(\n",
            "/usr/local/lib/python3.8/dist-packages/sklearn/base.py:450: UserWarning: X does not have valid feature names, but MLPClassifier was fitted with feature names\n",
            "  warnings.warn(\n",
            "/usr/local/lib/python3.8/dist-packages/sklearn/base.py:450: UserWarning: X does not have valid feature names, but MLPClassifier was fitted with feature names\n",
            "  warnings.warn(\n",
            "/usr/local/lib/python3.8/dist-packages/sklearn/base.py:450: UserWarning: X does not have valid feature names, but MLPClassifier was fitted with feature names\n",
            "  warnings.warn(\n",
            "/usr/local/lib/python3.8/dist-packages/sklearn/base.py:450: UserWarning: X does not have valid feature names, but MLPClassifier was fitted with feature names\n",
            "  warnings.warn(\n",
            "/usr/local/lib/python3.8/dist-packages/sklearn/base.py:450: UserWarning: X does not have valid feature names, but MLPClassifier was fitted with feature names\n",
            "  warnings.warn(\n",
            "/usr/local/lib/python3.8/dist-packages/sklearn/base.py:450: UserWarning: X does not have valid feature names, but MLPClassifier was fitted with feature names\n",
            "  warnings.warn(\n",
            "/usr/local/lib/python3.8/dist-packages/sklearn/base.py:450: UserWarning: X does not have valid feature names, but MLPClassifier was fitted with feature names\n",
            "  warnings.warn(\n",
            "/usr/local/lib/python3.8/dist-packages/sklearn/base.py:450: UserWarning: X does not have valid feature names, but MLPClassifier was fitted with feature names\n",
            "  warnings.warn(\n",
            "/usr/local/lib/python3.8/dist-packages/sklearn/base.py:450: UserWarning: X does not have valid feature names, but MLPClassifier was fitted with feature names\n",
            "  warnings.warn(\n",
            "/usr/local/lib/python3.8/dist-packages/sklearn/base.py:450: UserWarning: X does not have valid feature names, but MLPClassifier was fitted with feature names\n",
            "  warnings.warn(\n",
            "/usr/local/lib/python3.8/dist-packages/sklearn/base.py:450: UserWarning: X does not have valid feature names, but MLPClassifier was fitted with feature names\n",
            "  warnings.warn(\n",
            "/usr/local/lib/python3.8/dist-packages/sklearn/base.py:450: UserWarning: X does not have valid feature names, but MLPClassifier was fitted with feature names\n",
            "  warnings.warn(\n",
            "/usr/local/lib/python3.8/dist-packages/sklearn/base.py:450: UserWarning: X does not have valid feature names, but MLPClassifier was fitted with feature names\n",
            "  warnings.warn(\n",
            "/usr/local/lib/python3.8/dist-packages/sklearn/base.py:450: UserWarning: X does not have valid feature names, but MLPClassifier was fitted with feature names\n",
            "  warnings.warn(\n",
            "/usr/local/lib/python3.8/dist-packages/sklearn/base.py:450: UserWarning: X does not have valid feature names, but MLPClassifier was fitted with feature names\n",
            "  warnings.warn(\n",
            "/usr/local/lib/python3.8/dist-packages/sklearn/base.py:450: UserWarning: X does not have valid feature names, but MLPClassifier was fitted with feature names\n",
            "  warnings.warn(\n",
            "/usr/local/lib/python3.8/dist-packages/sklearn/base.py:450: UserWarning: X does not have valid feature names, but MLPClassifier was fitted with feature names\n",
            "  warnings.warn(\n",
            "/usr/local/lib/python3.8/dist-packages/sklearn/base.py:450: UserWarning: X does not have valid feature names, but MLPClassifier was fitted with feature names\n",
            "  warnings.warn(\n",
            "/usr/local/lib/python3.8/dist-packages/sklearn/base.py:450: UserWarning: X does not have valid feature names, but MLPClassifier was fitted with feature names\n",
            "  warnings.warn(\n",
            "/usr/local/lib/python3.8/dist-packages/sklearn/base.py:450: UserWarning: X does not have valid feature names, but MLPClassifier was fitted with feature names\n",
            "  warnings.warn(\n",
            "/usr/local/lib/python3.8/dist-packages/sklearn/base.py:450: UserWarning: X does not have valid feature names, but MLPClassifier was fitted with feature names\n",
            "  warnings.warn(\n",
            "/usr/local/lib/python3.8/dist-packages/sklearn/base.py:450: UserWarning: X does not have valid feature names, but MLPClassifier was fitted with feature names\n",
            "  warnings.warn(\n",
            "/usr/local/lib/python3.8/dist-packages/sklearn/base.py:450: UserWarning: X does not have valid feature names, but MLPClassifier was fitted with feature names\n",
            "  warnings.warn(\n",
            "/usr/local/lib/python3.8/dist-packages/sklearn/base.py:450: UserWarning: X does not have valid feature names, but MLPClassifier was fitted with feature names\n",
            "  warnings.warn(\n",
            "/usr/local/lib/python3.8/dist-packages/sklearn/base.py:450: UserWarning: X does not have valid feature names, but MLPClassifier was fitted with feature names\n",
            "  warnings.warn(\n",
            "/usr/local/lib/python3.8/dist-packages/sklearn/base.py:450: UserWarning: X does not have valid feature names, but MLPClassifier was fitted with feature names\n",
            "  warnings.warn(\n",
            "/usr/local/lib/python3.8/dist-packages/sklearn/base.py:450: UserWarning: X does not have valid feature names, but MLPClassifier was fitted with feature names\n",
            "  warnings.warn(\n",
            "/usr/local/lib/python3.8/dist-packages/sklearn/base.py:450: UserWarning: X does not have valid feature names, but MLPClassifier was fitted with feature names\n",
            "  warnings.warn(\n",
            "/usr/local/lib/python3.8/dist-packages/sklearn/base.py:450: UserWarning: X does not have valid feature names, but MLPClassifier was fitted with feature names\n",
            "  warnings.warn(\n"
          ]
        },
        {
          "output_type": "stream",
          "name": "stdout",
          "text": [
            "===========================================================================\n",
            "Training loss for fold 2: 6.724622360396409\n",
            "Testing loss for fold 2: 6.998143623202767\n",
            "Training accuracy for fold 2: 0.8053059346725963\n",
            "Testing accuracy for fold 2: 0.7973868237026132\n",
            "Macro F1-Score for fold 2: 0.7316830237825671\n",
            "===========================================================================\n"
          ]
        },
        {
          "output_type": "stream",
          "name": "stderr",
          "text": [
            "/usr/local/lib/python3.8/dist-packages/sklearn/base.py:450: UserWarning: X does not have valid feature names, but MLPClassifier was fitted with feature names\n",
            "  warnings.warn(\n",
            "/usr/local/lib/python3.8/dist-packages/sklearn/base.py:450: UserWarning: X does not have valid feature names, but MLPClassifier was fitted with feature names\n",
            "  warnings.warn(\n",
            "/usr/local/lib/python3.8/dist-packages/sklearn/base.py:450: UserWarning: X does not have valid feature names, but MLPClassifier was fitted with feature names\n",
            "  warnings.warn(\n",
            "/usr/local/lib/python3.8/dist-packages/sklearn/base.py:450: UserWarning: X does not have valid feature names, but MLPClassifier was fitted with feature names\n",
            "  warnings.warn(\n",
            "/usr/local/lib/python3.8/dist-packages/sklearn/base.py:450: UserWarning: X does not have valid feature names, but MLPClassifier was fitted with feature names\n",
            "  warnings.warn(\n",
            "/usr/local/lib/python3.8/dist-packages/sklearn/base.py:450: UserWarning: X does not have valid feature names, but MLPClassifier was fitted with feature names\n",
            "  warnings.warn(\n",
            "/usr/local/lib/python3.8/dist-packages/sklearn/base.py:450: UserWarning: X does not have valid feature names, but MLPClassifier was fitted with feature names\n",
            "  warnings.warn(\n",
            "/usr/local/lib/python3.8/dist-packages/sklearn/base.py:450: UserWarning: X does not have valid feature names, but MLPClassifier was fitted with feature names\n",
            "  warnings.warn(\n",
            "/usr/local/lib/python3.8/dist-packages/sklearn/base.py:450: UserWarning: X does not have valid feature names, but MLPClassifier was fitted with feature names\n",
            "  warnings.warn(\n",
            "/usr/local/lib/python3.8/dist-packages/sklearn/base.py:450: UserWarning: X does not have valid feature names, but MLPClassifier was fitted with feature names\n",
            "  warnings.warn(\n",
            "/usr/local/lib/python3.8/dist-packages/sklearn/base.py:450: UserWarning: X does not have valid feature names, but MLPClassifier was fitted with feature names\n",
            "  warnings.warn(\n",
            "/usr/local/lib/python3.8/dist-packages/sklearn/base.py:450: UserWarning: X does not have valid feature names, but MLPClassifier was fitted with feature names\n",
            "  warnings.warn(\n",
            "/usr/local/lib/python3.8/dist-packages/sklearn/base.py:450: UserWarning: X does not have valid feature names, but MLPClassifier was fitted with feature names\n",
            "  warnings.warn(\n",
            "/usr/local/lib/python3.8/dist-packages/sklearn/base.py:450: UserWarning: X does not have valid feature names, but MLPClassifier was fitted with feature names\n",
            "  warnings.warn(\n",
            "/usr/local/lib/python3.8/dist-packages/sklearn/base.py:450: UserWarning: X does not have valid feature names, but MLPClassifier was fitted with feature names\n",
            "  warnings.warn(\n",
            "/usr/local/lib/python3.8/dist-packages/sklearn/base.py:450: UserWarning: X does not have valid feature names, but MLPClassifier was fitted with feature names\n",
            "  warnings.warn(\n",
            "/usr/local/lib/python3.8/dist-packages/sklearn/base.py:450: UserWarning: X does not have valid feature names, but MLPClassifier was fitted with feature names\n",
            "  warnings.warn(\n",
            "/usr/local/lib/python3.8/dist-packages/sklearn/base.py:450: UserWarning: X does not have valid feature names, but MLPClassifier was fitted with feature names\n",
            "  warnings.warn(\n",
            "/usr/local/lib/python3.8/dist-packages/sklearn/base.py:450: UserWarning: X does not have valid feature names, but MLPClassifier was fitted with feature names\n",
            "  warnings.warn(\n",
            "/usr/local/lib/python3.8/dist-packages/sklearn/base.py:450: UserWarning: X does not have valid feature names, but MLPClassifier was fitted with feature names\n",
            "  warnings.warn(\n",
            "/usr/local/lib/python3.8/dist-packages/sklearn/base.py:450: UserWarning: X does not have valid feature names, but MLPClassifier was fitted with feature names\n",
            "  warnings.warn(\n"
          ]
        },
        {
          "output_type": "stream",
          "name": "stdout",
          "text": [
            "===========================================================================\n",
            "Training loss for fold 3: 5.8856291455201974\n",
            "Testing loss for fold 3: 5.914413312139601\n",
            "Training accuracy for fold 3: 0.8295966876245975\n",
            "Testing accuracy for fold 3: 0.8287633419212367\n",
            "Macro F1-Score for fold 3: 0.7770284470095146\n",
            "===========================================================================\n"
          ]
        },
        {
          "output_type": "stream",
          "name": "stderr",
          "text": [
            "/usr/local/lib/python3.8/dist-packages/sklearn/base.py:450: UserWarning: X does not have valid feature names, but MLPClassifier was fitted with feature names\n",
            "  warnings.warn(\n",
            "/usr/local/lib/python3.8/dist-packages/sklearn/base.py:450: UserWarning: X does not have valid feature names, but MLPClassifier was fitted with feature names\n",
            "  warnings.warn(\n",
            "/usr/local/lib/python3.8/dist-packages/sklearn/base.py:450: UserWarning: X does not have valid feature names, but MLPClassifier was fitted with feature names\n",
            "  warnings.warn(\n",
            "/usr/local/lib/python3.8/dist-packages/sklearn/base.py:450: UserWarning: X does not have valid feature names, but MLPClassifier was fitted with feature names\n",
            "  warnings.warn(\n",
            "/usr/local/lib/python3.8/dist-packages/sklearn/base.py:450: UserWarning: X does not have valid feature names, but MLPClassifier was fitted with feature names\n",
            "  warnings.warn(\n",
            "/usr/local/lib/python3.8/dist-packages/sklearn/base.py:450: UserWarning: X does not have valid feature names, but MLPClassifier was fitted with feature names\n",
            "  warnings.warn(\n",
            "/usr/local/lib/python3.8/dist-packages/sklearn/base.py:450: UserWarning: X does not have valid feature names, but MLPClassifier was fitted with feature names\n",
            "  warnings.warn(\n",
            "/usr/local/lib/python3.8/dist-packages/sklearn/base.py:450: UserWarning: X does not have valid feature names, but MLPClassifier was fitted with feature names\n",
            "  warnings.warn(\n",
            "/usr/local/lib/python3.8/dist-packages/sklearn/base.py:450: UserWarning: X does not have valid feature names, but MLPClassifier was fitted with feature names\n",
            "  warnings.warn(\n",
            "/usr/local/lib/python3.8/dist-packages/sklearn/base.py:450: UserWarning: X does not have valid feature names, but MLPClassifier was fitted with feature names\n",
            "  warnings.warn(\n",
            "/usr/local/lib/python3.8/dist-packages/sklearn/base.py:450: UserWarning: X does not have valid feature names, but MLPClassifier was fitted with feature names\n",
            "  warnings.warn(\n",
            "/usr/local/lib/python3.8/dist-packages/sklearn/base.py:450: UserWarning: X does not have valid feature names, but MLPClassifier was fitted with feature names\n",
            "  warnings.warn(\n",
            "/usr/local/lib/python3.8/dist-packages/sklearn/base.py:450: UserWarning: X does not have valid feature names, but MLPClassifier was fitted with feature names\n",
            "  warnings.warn(\n",
            "/usr/local/lib/python3.8/dist-packages/sklearn/base.py:450: UserWarning: X does not have valid feature names, but MLPClassifier was fitted with feature names\n",
            "  warnings.warn(\n",
            "/usr/local/lib/python3.8/dist-packages/sklearn/base.py:450: UserWarning: X does not have valid feature names, but MLPClassifier was fitted with feature names\n",
            "  warnings.warn(\n",
            "/usr/local/lib/python3.8/dist-packages/sklearn/base.py:450: UserWarning: X does not have valid feature names, but MLPClassifier was fitted with feature names\n",
            "  warnings.warn(\n",
            "/usr/local/lib/python3.8/dist-packages/sklearn/base.py:450: UserWarning: X does not have valid feature names, but MLPClassifier was fitted with feature names\n",
            "  warnings.warn(\n",
            "/usr/local/lib/python3.8/dist-packages/sklearn/base.py:450: UserWarning: X does not have valid feature names, but MLPClassifier was fitted with feature names\n",
            "  warnings.warn(\n",
            "/usr/local/lib/python3.8/dist-packages/sklearn/base.py:450: UserWarning: X does not have valid feature names, but MLPClassifier was fitted with feature names\n",
            "  warnings.warn(\n",
            "/usr/local/lib/python3.8/dist-packages/sklearn/base.py:450: UserWarning: X does not have valid feature names, but MLPClassifier was fitted with feature names\n",
            "  warnings.warn(\n",
            "/usr/local/lib/python3.8/dist-packages/sklearn/base.py:450: UserWarning: X does not have valid feature names, but MLPClassifier was fitted with feature names\n",
            "  warnings.warn(\n",
            "/usr/local/lib/python3.8/dist-packages/sklearn/base.py:450: UserWarning: X does not have valid feature names, but MLPClassifier was fitted with feature names\n",
            "  warnings.warn(\n",
            "/usr/local/lib/python3.8/dist-packages/sklearn/base.py:450: UserWarning: X does not have valid feature names, but MLPClassifier was fitted with feature names\n",
            "  warnings.warn(\n"
          ]
        },
        {
          "output_type": "stream",
          "name": "stdout",
          "text": [
            "===========================================================================\n",
            "Training loss for fold 4: 6.746000583749859\n",
            "Testing loss for fold 4: 6.4064151468979915\n",
            "Training accuracy for fold 4: 0.8046865415286468\n",
            "Testing accuracy for fold 4: 0.8145183549544577\n",
            "Macro F1-Score for fold 4: 0.7641462699082646\n",
            "===========================================================================\n"
          ]
        },
        {
          "output_type": "stream",
          "name": "stderr",
          "text": [
            "/usr/local/lib/python3.8/dist-packages/sklearn/base.py:450: UserWarning: X does not have valid feature names, but MLPClassifier was fitted with feature names\n",
            "  warnings.warn(\n"
          ]
        }
      ]
    },
    {
      "cell_type": "code",
      "source": [
        "print(\"============================================================\")\n",
        "print(\"Combined results\")\n",
        "print(\"============================================================\")\n",
        "print(\"Training accuracy for Logisitic regression:\", lr_train_accuracy_sent)\n",
        "print(\"Testing accuracy for Logisitic regression:\", lr_accuracy_sent)\n",
        "print(\"Macro f1 score for Logisitic regression: \", lr_f1_sent)\n",
        "print(\"============================================================\")\n",
        "print(\"Training accuracy for Decision tree (entropy):\", dt_entropy_train_accuracy_sent)\n",
        "print(\"Testing accuracy for Decision tree (entropy):\", dt_entropy_accuracy_sent)\n",
        "print(\"Macro f1 score for Decision tree (entropy): \", dt_entropy_f1_sent)\n",
        "print(\"============================================================\")\n",
        "print(\"Training accuracy for Decision tree (gini):\", dt_gini_train_accuracy_sent)\n",
        "print(\"Testing accuracy for Decision tree (gini):\", dt_gini_accuracy_sent)\n",
        "print(\"Macro f1 score for Decision tree (gini): \", dt_gini_f1_sent)\n",
        "print(\"============================================================\")\n",
        "print(\"Training accuracy for Random Forest:\", rf_train_accuracy_sent)\n",
        "print(\"Testing accuracy for Random Forest:\", rf_accuracy_sent)\n",
        "print(\"Macro f1 score for Random forest: \", rf_f1_sent)\n",
        "print(\"============================================================\")\n",
        "print(\"Training accuracy for AdaBoost classifier:\", adaboost_train_accuracy_sent)\n",
        "print(\"Testing accuracy for AdaBoost classifier:\", adaboost_accuracy_sent)\n",
        "print(\"Macro f1 score for AdaBoost classifier: \", adaboost_f1_sent)\n",
        "print(\"============================================================\")\n",
        "print(\"Training accuracy for Support vector classifier:\", svc_train_accuracy_sent)\n",
        "print(\"Testing accuracy for Support vector classifier:\", svc_accuracy_sent)\n",
        "print(\"Macro f1 score for Support vector classifier: \", svc_f1_sent)\n",
        "print(\"============================================================\")\n",
        "print(\"Training Accuracy for MLP classifier (relu):\", mlp_train_accuracy_relu_sent)\n",
        "print(\"Testing accuracy for MLP classifier (relu):\", mlp_accuracy_relu_sent)\n",
        "print(\"Macro f1 score for MLP classifier (relu): \", mlp_f1_relu_sent)\n",
        "print(\"============================================================\")\n",
        "print(\"Training Accuracy for MLP classifier (tanh):\", mlp_train_accuracy_tanh_sent)\n",
        "print(\"Testing accuracy for MLP classifier (tanh):\", mlp_accuracy_tanh_sent)\n",
        "print(\"Macro f1 score for MLP classifier (tanh): \", mlp_f1_tanh_sent)\n",
        "print(\"============================================================\")\n",
        "print(\"Training Accuracy for MLP classifier (sigmoid):\", mlp_train_accuracy_sigmoid_sent)\n",
        "print(\"Testing accuracy for MLP classifier (sigmoid):\", mlp_accuracy_sigmoid_sent)\n",
        "print(\"Macro f1 score for MLP classifier (sigmoid): \", mlp_f1_sigmoid_sent)\n",
        "print(\"============================================================\")\n",
        "print(\"Training Accuracy for MLP classifier (linear):\", mlp_train_accuracy_linear_sent)\n",
        "print(\"Testing accuracy for MLP classifier (linear):\", mlp_accuracy_linear_sent)\n",
        "print(\"Macro f1 score for MLP classifier (linear): \", mlp_f1_linear_sent)\n",
        "print(\"============================================================\")"
      ],
      "metadata": {
        "colab": {
          "base_uri": "https://localhost:8080/"
        },
        "id": "5rBzPXdzvAgX",
        "outputId": "d033f3f3-db1f-4655-d3cc-1449db616e6d"
      },
      "execution_count": null,
      "outputs": [
        {
          "output_type": "stream",
          "name": "stdout",
          "text": [
            "============================================================\n",
            "Combined results\n",
            "============================================================\n",
            "Training accuracy for Logisitic regression: 0.7921621972675654\n",
            "Testing accuracy for Logisitic regression: 0.7921469573760493\n",
            "Macro f1 score for Logisitic regression:  0.7414123759153592\n",
            "============================================================\n",
            "Training accuracy for Decision tree (entropy): 0.9480750889734214\n",
            "Testing accuracy for Decision tree (entropy): 0.9117153756146958\n",
            "Macro f1 score for Decision tree (entropy):  0.8951758112226077\n",
            "============================================================\n",
            "Training accuracy for Decision tree (gini): 0.9574371544752662\n",
            "Testing accuracy for Decision tree (gini): 0.9198123130338001\n",
            "Macro f1 score for Decision tree (gini):  0.9052917771826735\n",
            "============================================================\n",
            "Training accuracy for Random Forest: 0.8305921796949772\n",
            "Testing accuracy for Random Forest: 0.8296643737767334\n",
            "Macro f1 score for Random forest:  0.7722544261081707\n",
            "============================================================\n",
            "Training accuracy for AdaBoost classifier: 0.9001909320794057\n",
            "Testing accuracy for AdaBoost classifier: 0.8818576051232544\n",
            "Macro f1 score for AdaBoost classifier:  0.8589565934619019\n",
            "============================================================\n",
            "Training accuracy for Support vector classifier: 0.7422078090393613\n",
            "Testing accuracy for Support vector classifier: 0.7423687309804151\n",
            "Macro f1 score for Support vector classifier:  0.7170838903992189\n",
            "============================================================\n",
            "Training Accuracy for MLP classifier (relu): 0.8425459524414115\n",
            "Testing accuracy for MLP classifier (relu): 0.8426379203187098\n",
            "Macro f1 score for MLP classifier (relu):  0.8056192731131323\n",
            "============================================================\n",
            "Training Accuracy for MLP classifier (tanh): 0.8477829442004899\n",
            "Testing accuracy for MLP classifier (tanh): 0.8465023688776903\n",
            "Macro f1 score for MLP classifier (tanh):  0.812716433388345\n",
            "============================================================\n",
            "Training Accuracy for MLP classifier (sigmoid): 0.8490020440365076\n",
            "Testing accuracy for MLP classifier (sigmoid): 0.848917663777405\n",
            "Macro f1 score for MLP classifier (sigmoid):  0.8173663290572886\n",
            "============================================================\n",
            "Training Accuracy for MLP classifier (linear): 0.8085171345387328\n",
            "Testing accuracy for MLP classifier (linear): 0.8093298095704142\n",
            "Macro f1 score for MLP classifier (linear):  0.7588932391788754\n",
            "============================================================\n"
          ]
        }
      ]
    }
  ]
}