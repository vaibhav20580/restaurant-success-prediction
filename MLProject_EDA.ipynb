{
  "nbformat": 4,
  "nbformat_minor": 0,
  "metadata": {
    "colab": {
      "provenance": [],
      "collapsed_sections": [
        "dOYHKO0rY709",
        "7SgYksfBZE5F"
      ]
    },
    "kernelspec": {
      "name": "python3",
      "display_name": "Python 3"
    },
    "language_info": {
      "name": "python"
    }
  },
  "cells": [
    {
      "cell_type": "markdown",
      "source": [
        "# Imports"
      ],
      "metadata": {
        "id": "dOYHKO0rY709"
      }
    },
    {
      "cell_type": "code",
      "execution_count": null,
      "metadata": {
        "colab": {
          "base_uri": "https://localhost:8080/"
        },
        "id": "1Y02sNmvYtjB",
        "outputId": "7cd480f9-e84b-4c1e-9429-bbd56dc68bc0"
      },
      "outputs": [
        {
          "output_type": "stream",
          "name": "stdout",
          "text": [
            "Mounted at /content/drive\n"
          ]
        }
      ],
      "source": [
        "from google.colab import drive\n",
        "drive.mount('/content/drive')"
      ]
    },
    {
      "cell_type": "code",
      "source": [
        "import pandas as pd\n",
        "import numpy as np\n",
        "import math\n",
        "import random\n",
        "import matplotlib.pyplot as plt\n",
        "# import utils\n",
        "\n",
        "from sklearn.tree import DecisionTreeClassifier\n",
        "from sklearn.metrics import classification_report\n",
        "from sklearn.metrics import accuracy_score\n",
        "from sklearn.ensemble import AdaBoostClassifier\n",
        "from sklearn import preprocessing\n",
        "import seaborn as sns\n",
        "palette=sns.color_palette(\"Spectral\")\n",
        "sns.set_palette(palette)"
      ],
      "metadata": {
        "id": "HwuwRRjQY6a6"
      },
      "execution_count": null,
      "outputs": []
    },
    {
      "cell_type": "markdown",
      "source": [
        "# Data Read"
      ],
      "metadata": {
        "id": "7SgYksfBZE5F"
      }
    },
    {
      "cell_type": "code",
      "source": [
        "#  Loading the database\n",
        "url = \"/content/drive/MyDrive/zomato.csv\"\n",
        "df = pd.read_csv(url)\n",
        "print(df.head)"
      ],
      "metadata": {
        "colab": {
          "base_uri": "https://localhost:8080/"
        },
        "id": "5DXJalFbZEDt",
        "outputId": "f7b6c32d-bd0b-4c9e-a7fe-cbfcf36569ef"
      },
      "execution_count": null,
      "outputs": [
        {
          "output_type": "stream",
          "name": "stdout",
          "text": [
            "<bound method NDFrame.head of                                                      url  \\\n",
            "0      https://www.zomato.com/bangalore/jalsa-banasha...   \n",
            "1      https://www.zomato.com/bangalore/spice-elephan...   \n",
            "2      https://www.zomato.com/SanchurroBangalore?cont...   \n",
            "3      https://www.zomato.com/bangalore/addhuri-udupi...   \n",
            "4      https://www.zomato.com/bangalore/grand-village...   \n",
            "...                                                  ...   \n",
            "51712  https://www.zomato.com/bangalore/best-brews-fo...   \n",
            "51713  https://www.zomato.com/bangalore/vinod-bar-and...   \n",
            "51714  https://www.zomato.com/bangalore/plunge-sherat...   \n",
            "51715  https://www.zomato.com/bangalore/chime-sherato...   \n",
            "51716  https://www.zomato.com/bangalore/the-nest-the-...   \n",
            "\n",
            "                                                 address  \\\n",
            "0      942, 21st Main Road, 2nd Stage, Banashankari, ...   \n",
            "1      2nd Floor, 80 Feet Road, Near Big Bazaar, 6th ...   \n",
            "2      1112, Next to KIMS Medical College, 17th Cross...   \n",
            "3      1st Floor, Annakuteera, 3rd Stage, Banashankar...   \n",
            "4      10, 3rd Floor, Lakshmi Associates, Gandhi Baza...   \n",
            "...                                                  ...   \n",
            "51712  Four Points by Sheraton Bengaluru, 43/3, White...   \n",
            "51713  Number 10, Garudachar Palya, Mahadevapura, Whi...   \n",
            "51714  Sheraton Grand Bengaluru Whitefield Hotel & Co...   \n",
            "51715  Sheraton Grand Bengaluru Whitefield Hotel & Co...   \n",
            "51716  ITPL Main Road, KIADB Export Promotion Industr...   \n",
            "\n",
            "                                                    name online_order  \\\n",
            "0                                                  Jalsa          Yes   \n",
            "1                                         Spice Elephant          Yes   \n",
            "2                                        San Churro Cafe          Yes   \n",
            "3                                  Addhuri Udupi Bhojana           No   \n",
            "4                                          Grand Village           No   \n",
            "...                                                  ...          ...   \n",
            "51712  Best Brews - Four Points by Sheraton Bengaluru...           No   \n",
            "51713                           Vinod Bar And Restaurant           No   \n",
            "51714  Plunge - Sheraton Grand Bengaluru Whitefield H...           No   \n",
            "51715  Chime - Sheraton Grand Bengaluru Whitefield Ho...           No   \n",
            "51716                       The Nest - The Den Bengaluru           No   \n",
            "\n",
            "      book_table    rate  votes                             phone  \\\n",
            "0            Yes   4.1/5    775    080 42297555\\r\\n+91 9743772233   \n",
            "1             No   4.1/5    787                      080 41714161   \n",
            "2             No   3.8/5    918                    +91 9663487993   \n",
            "3             No   3.7/5     88                    +91 9620009302   \n",
            "4             No   3.8/5    166  +91 8026612447\\r\\n+91 9901210005   \n",
            "...          ...     ...    ...                               ...   \n",
            "51712         No  3.6 /5     27                      080 40301477   \n",
            "51713         No     NaN      0                    +91 8197675843   \n",
            "51714         No     NaN      0                               NaN   \n",
            "51715        Yes  4.3 /5    236                      080 49652769   \n",
            "51716         No  3.4 /5     13                    +91 8071117272   \n",
            "\n",
            "                         location            rest_type  \\\n",
            "0                    Banashankari        Casual Dining   \n",
            "1                    Banashankari        Casual Dining   \n",
            "2                    Banashankari  Cafe, Casual Dining   \n",
            "3                    Banashankari          Quick Bites   \n",
            "4                    Basavanagudi        Casual Dining   \n",
            "...                           ...                  ...   \n",
            "51712                  Whitefield                  Bar   \n",
            "51713                  Whitefield                  Bar   \n",
            "51714                  Whitefield                  Bar   \n",
            "51715  ITPL Main Road, Whitefield                  Bar   \n",
            "51716  ITPL Main Road, Whitefield   Bar, Casual Dining   \n",
            "\n",
            "                                              dish_liked  \\\n",
            "0      Pasta, Lunch Buffet, Masala Papad, Paneer Laja...   \n",
            "1      Momos, Lunch Buffet, Chocolate Nirvana, Thai G...   \n",
            "2      Churros, Cannelloni, Minestrone Soup, Hot Choc...   \n",
            "3                                            Masala Dosa   \n",
            "4                                    Panipuri, Gol Gappe   \n",
            "...                                                  ...   \n",
            "51712                                                NaN   \n",
            "51713                                                NaN   \n",
            "51714                                                NaN   \n",
            "51715                       Cocktails, Pizza, Buttermilk   \n",
            "51716                                                NaN   \n",
            "\n",
            "                                     cuisines approx_cost(for two people)  \\\n",
            "0              North Indian, Mughlai, Chinese                         800   \n",
            "1                 Chinese, North Indian, Thai                         800   \n",
            "2                      Cafe, Mexican, Italian                         800   \n",
            "3                  South Indian, North Indian                         300   \n",
            "4                    North Indian, Rajasthani                         600   \n",
            "...                                       ...                         ...   \n",
            "51712                             Continental                       1,500   \n",
            "51713                             Finger Food                         600   \n",
            "51714                             Finger Food                       2,000   \n",
            "51715                             Finger Food                       2,500   \n",
            "51716  Finger Food, North Indian, Continental                       1,500   \n",
            "\n",
            "                                            reviews_list menu_item  \\\n",
            "0      [('Rated 4.0', 'RATED\\n  A beautiful place to ...        []   \n",
            "1      [('Rated 4.0', 'RATED\\n  Had been here for din...        []   \n",
            "2      [('Rated 3.0', \"RATED\\n  Ambience is not that ...        []   \n",
            "3      [('Rated 4.0', \"RATED\\n  Great food and proper...        []   \n",
            "4      [('Rated 4.0', 'RATED\\n  Very good restaurant ...        []   \n",
            "...                                                  ...       ...   \n",
            "51712  [('Rated 5.0', \"RATED\\n  Food and service are ...        []   \n",
            "51713                                                 []        []   \n",
            "51714                                                 []        []   \n",
            "51715  [('Rated 4.0', 'RATED\\n  Nice and friendly pla...        []   \n",
            "51716  [('Rated 5.0', 'RATED\\n  Great ambience , look...        []   \n",
            "\n",
            "      listed_in(type) listed_in(city)  \n",
            "0              Buffet    Banashankari  \n",
            "1              Buffet    Banashankari  \n",
            "2              Buffet    Banashankari  \n",
            "3              Buffet    Banashankari  \n",
            "4              Buffet    Banashankari  \n",
            "...               ...             ...  \n",
            "51712   Pubs and bars      Whitefield  \n",
            "51713   Pubs and bars      Whitefield  \n",
            "51714   Pubs and bars      Whitefield  \n",
            "51715   Pubs and bars      Whitefield  \n",
            "51716   Pubs and bars      Whitefield  \n",
            "\n",
            "[51717 rows x 17 columns]>\n"
          ]
        }
      ]
    },
    {
      "cell_type": "markdown",
      "source": [
        "# Exploratory Data Analysis"
      ],
      "metadata": {
        "id": "e4zw2wrAdoWB"
      }
    },
    {
      "cell_type": "code",
      "source": [
        "df.describe"
      ],
      "metadata": {
        "colab": {
          "base_uri": "https://localhost:8080/"
        },
        "id": "WxcqeJikflNn",
        "outputId": "bcec2f11-f373-48e9-af4d-4f3ae226f0e4"
      },
      "execution_count": null,
      "outputs": [
        {
          "output_type": "execute_result",
          "data": {
            "text/plain": [
              "<bound method NDFrame.describe of                                                      url  \\\n",
              "0      https://www.zomato.com/bangalore/jalsa-banasha...   \n",
              "1      https://www.zomato.com/bangalore/spice-elephan...   \n",
              "2      https://www.zomato.com/SanchurroBangalore?cont...   \n",
              "3      https://www.zomato.com/bangalore/addhuri-udupi...   \n",
              "4      https://www.zomato.com/bangalore/grand-village...   \n",
              "...                                                  ...   \n",
              "51712  https://www.zomato.com/bangalore/best-brews-fo...   \n",
              "51713  https://www.zomato.com/bangalore/vinod-bar-and...   \n",
              "51714  https://www.zomato.com/bangalore/plunge-sherat...   \n",
              "51715  https://www.zomato.com/bangalore/chime-sherato...   \n",
              "51716  https://www.zomato.com/bangalore/the-nest-the-...   \n",
              "\n",
              "                                                 address  \\\n",
              "0      942, 21st Main Road, 2nd Stage, Banashankari, ...   \n",
              "1      2nd Floor, 80 Feet Road, Near Big Bazaar, 6th ...   \n",
              "2      1112, Next to KIMS Medical College, 17th Cross...   \n",
              "3      1st Floor, Annakuteera, 3rd Stage, Banashankar...   \n",
              "4      10, 3rd Floor, Lakshmi Associates, Gandhi Baza...   \n",
              "...                                                  ...   \n",
              "51712  Four Points by Sheraton Bengaluru, 43/3, White...   \n",
              "51713  Number 10, Garudachar Palya, Mahadevapura, Whi...   \n",
              "51714  Sheraton Grand Bengaluru Whitefield Hotel & Co...   \n",
              "51715  Sheraton Grand Bengaluru Whitefield Hotel & Co...   \n",
              "51716  ITPL Main Road, KIADB Export Promotion Industr...   \n",
              "\n",
              "                                                    name online_order  \\\n",
              "0                                                  Jalsa          Yes   \n",
              "1                                         Spice Elephant          Yes   \n",
              "2                                        San Churro Cafe          Yes   \n",
              "3                                  Addhuri Udupi Bhojana           No   \n",
              "4                                          Grand Village           No   \n",
              "...                                                  ...          ...   \n",
              "51712  Best Brews - Four Points by Sheraton Bengaluru...           No   \n",
              "51713                           Vinod Bar And Restaurant           No   \n",
              "51714  Plunge - Sheraton Grand Bengaluru Whitefield H...           No   \n",
              "51715  Chime - Sheraton Grand Bengaluru Whitefield Ho...           No   \n",
              "51716                       The Nest - The Den Bengaluru           No   \n",
              "\n",
              "      book_table    rate  votes                             phone  \\\n",
              "0            Yes   4.1/5    775    080 42297555\\r\\n+91 9743772233   \n",
              "1             No   4.1/5    787                      080 41714161   \n",
              "2             No   3.8/5    918                    +91 9663487993   \n",
              "3             No   3.7/5     88                    +91 9620009302   \n",
              "4             No   3.8/5    166  +91 8026612447\\r\\n+91 9901210005   \n",
              "...          ...     ...    ...                               ...   \n",
              "51712         No  3.6 /5     27                      080 40301477   \n",
              "51713         No     NaN      0                    +91 8197675843   \n",
              "51714         No     NaN      0                               NaN   \n",
              "51715        Yes  4.3 /5    236                      080 49652769   \n",
              "51716         No  3.4 /5     13                    +91 8071117272   \n",
              "\n",
              "                         location            rest_type  \\\n",
              "0                    Banashankari        Casual Dining   \n",
              "1                    Banashankari        Casual Dining   \n",
              "2                    Banashankari  Cafe, Casual Dining   \n",
              "3                    Banashankari          Quick Bites   \n",
              "4                    Basavanagudi        Casual Dining   \n",
              "...                           ...                  ...   \n",
              "51712                  Whitefield                  Bar   \n",
              "51713                  Whitefield                  Bar   \n",
              "51714                  Whitefield                  Bar   \n",
              "51715  ITPL Main Road, Whitefield                  Bar   \n",
              "51716  ITPL Main Road, Whitefield   Bar, Casual Dining   \n",
              "\n",
              "                                              dish_liked  \\\n",
              "0      Pasta, Lunch Buffet, Masala Papad, Paneer Laja...   \n",
              "1      Momos, Lunch Buffet, Chocolate Nirvana, Thai G...   \n",
              "2      Churros, Cannelloni, Minestrone Soup, Hot Choc...   \n",
              "3                                            Masala Dosa   \n",
              "4                                    Panipuri, Gol Gappe   \n",
              "...                                                  ...   \n",
              "51712                                                NaN   \n",
              "51713                                                NaN   \n",
              "51714                                                NaN   \n",
              "51715                       Cocktails, Pizza, Buttermilk   \n",
              "51716                                                NaN   \n",
              "\n",
              "                                     cuisines approx_cost(for two people)  \\\n",
              "0              North Indian, Mughlai, Chinese                         800   \n",
              "1                 Chinese, North Indian, Thai                         800   \n",
              "2                      Cafe, Mexican, Italian                         800   \n",
              "3                  South Indian, North Indian                         300   \n",
              "4                    North Indian, Rajasthani                         600   \n",
              "...                                       ...                         ...   \n",
              "51712                             Continental                       1,500   \n",
              "51713                             Finger Food                         600   \n",
              "51714                             Finger Food                       2,000   \n",
              "51715                             Finger Food                       2,500   \n",
              "51716  Finger Food, North Indian, Continental                       1,500   \n",
              "\n",
              "                                            reviews_list menu_item  \\\n",
              "0      [('Rated 4.0', 'RATED\\n  A beautiful place to ...        []   \n",
              "1      [('Rated 4.0', 'RATED\\n  Had been here for din...        []   \n",
              "2      [('Rated 3.0', \"RATED\\n  Ambience is not that ...        []   \n",
              "3      [('Rated 4.0', \"RATED\\n  Great food and proper...        []   \n",
              "4      [('Rated 4.0', 'RATED\\n  Very good restaurant ...        []   \n",
              "...                                                  ...       ...   \n",
              "51712  [('Rated 5.0', \"RATED\\n  Food and service are ...        []   \n",
              "51713                                                 []        []   \n",
              "51714                                                 []        []   \n",
              "51715  [('Rated 4.0', 'RATED\\n  Nice and friendly pla...        []   \n",
              "51716  [('Rated 5.0', 'RATED\\n  Great ambience , look...        []   \n",
              "\n",
              "      listed_in(type) listed_in(city)  \n",
              "0              Buffet    Banashankari  \n",
              "1              Buffet    Banashankari  \n",
              "2              Buffet    Banashankari  \n",
              "3              Buffet    Banashankari  \n",
              "4              Buffet    Banashankari  \n",
              "...               ...             ...  \n",
              "51712   Pubs and bars      Whitefield  \n",
              "51713   Pubs and bars      Whitefield  \n",
              "51714   Pubs and bars      Whitefield  \n",
              "51715   Pubs and bars      Whitefield  \n",
              "51716   Pubs and bars      Whitefield  \n",
              "\n",
              "[51717 rows x 17 columns]>"
            ]
          },
          "metadata": {},
          "execution_count": 4
        }
      ]
    },
    {
      "cell_type": "code",
      "source": [
        "df.info()"
      ],
      "metadata": {
        "colab": {
          "base_uri": "https://localhost:8080/"
        },
        "id": "eCvRuX-nfx6Y",
        "outputId": "50636d39-9a7c-45fa-d31e-b363a1f42ce0"
      },
      "execution_count": null,
      "outputs": [
        {
          "output_type": "stream",
          "name": "stdout",
          "text": [
            "<class 'pandas.core.frame.DataFrame'>\n",
            "RangeIndex: 51717 entries, 0 to 51716\n",
            "Data columns (total 17 columns):\n",
            " #   Column                       Non-Null Count  Dtype \n",
            "---  ------                       --------------  ----- \n",
            " 0   url                          51717 non-null  object\n",
            " 1   address                      51717 non-null  object\n",
            " 2   name                         51717 non-null  object\n",
            " 3   online_order                 51717 non-null  object\n",
            " 4   book_table                   51717 non-null  object\n",
            " 5   rate                         43942 non-null  object\n",
            " 6   votes                        51717 non-null  int64 \n",
            " 7   phone                        50509 non-null  object\n",
            " 8   location                     51696 non-null  object\n",
            " 9   rest_type                    51490 non-null  object\n",
            " 10  dish_liked                   23639 non-null  object\n",
            " 11  cuisines                     51672 non-null  object\n",
            " 12  approx_cost(for two people)  51371 non-null  object\n",
            " 13  reviews_list                 51717 non-null  object\n",
            " 14  menu_item                    51717 non-null  object\n",
            " 15  listed_in(type)              51717 non-null  object\n",
            " 16  listed_in(city)              51717 non-null  object\n",
            "dtypes: int64(1), object(16)\n",
            "memory usage: 6.7+ MB\n"
          ]
        }
      ]
    },
    {
      "cell_type": "markdown",
      "source": [
        "We can drop dish_liked column since it contains a lot of null values."
      ],
      "metadata": {
        "id": "h5ZsP4cItA3T"
      }
    },
    {
      "cell_type": "code",
      "source": [
        "df.isnull().sum()"
      ],
      "metadata": {
        "colab": {
          "base_uri": "https://localhost:8080/"
        },
        "id": "b-y6fV2zdxWJ",
        "outputId": "9660c588-6b5f-4bc5-dd80-ea7de09d7975"
      },
      "execution_count": null,
      "outputs": [
        {
          "output_type": "execute_result",
          "data": {
            "text/plain": [
              "url                                0\n",
              "address                            0\n",
              "name                               0\n",
              "online_order                       0\n",
              "book_table                         0\n",
              "rate                            7775\n",
              "votes                              0\n",
              "phone                           1208\n",
              "location                          21\n",
              "rest_type                        227\n",
              "dish_liked                     28078\n",
              "cuisines                          45\n",
              "approx_cost(for two people)      346\n",
              "reviews_list                       0\n",
              "menu_item                          0\n",
              "listed_in(type)                    0\n",
              "listed_in(city)                    0\n",
              "dtype: int64"
            ]
          },
          "metadata": {},
          "execution_count": 6
        }
      ]
    },
    {
      "cell_type": "code",
      "source": [
        "df.reviews_list.head()"
      ],
      "metadata": {
        "colab": {
          "base_uri": "https://localhost:8080/"
        },
        "id": "zPrUTr9ydSjY",
        "outputId": "f60150c6-1392-4eda-d968-0d5894ee6cc2"
      },
      "execution_count": null,
      "outputs": [
        {
          "output_type": "execute_result",
          "data": {
            "text/plain": [
              "0    [('Rated 4.0', 'RATED\\n  A beautiful place to ...\n",
              "1    [('Rated 4.0', 'RATED\\n  Had been here for din...\n",
              "2    [('Rated 3.0', \"RATED\\n  Ambience is not that ...\n",
              "3    [('Rated 4.0', \"RATED\\n  Great food and proper...\n",
              "4    [('Rated 4.0', 'RATED\\n  Very good restaurant ...\n",
              "Name: reviews_list, dtype: object"
            ]
          },
          "metadata": {},
          "execution_count": 7
        }
      ]
    },
    {
      "cell_type": "code",
      "source": [
        "df.rate.unique()"
      ],
      "metadata": {
        "colab": {
          "base_uri": "https://localhost:8080/"
        },
        "id": "VKEF93dMd0Ry",
        "outputId": "f104cb6c-af12-49a6-da74-ff31bba9292c"
      },
      "execution_count": null,
      "outputs": [
        {
          "output_type": "execute_result",
          "data": {
            "text/plain": [
              "array(['4.1/5', '3.8/5', '3.7/5', '3.6/5', '4.6/5', '4.0/5', '4.2/5',\n",
              "       '3.9/5', '3.1/5', '3.0/5', '3.2/5', '3.3/5', '2.8/5', '4.4/5',\n",
              "       '4.3/5', 'NEW', '2.9/5', '3.5/5', nan, '2.6/5', '3.8 /5', '3.4/5',\n",
              "       '4.5/5', '2.5/5', '2.7/5', '4.7/5', '2.4/5', '2.2/5', '2.3/5',\n",
              "       '3.4 /5', '-', '3.6 /5', '4.8/5', '3.9 /5', '4.2 /5', '4.0 /5',\n",
              "       '4.1 /5', '3.7 /5', '3.1 /5', '2.9 /5', '3.3 /5', '2.8 /5',\n",
              "       '3.5 /5', '2.7 /5', '2.5 /5', '3.2 /5', '2.6 /5', '4.5 /5',\n",
              "       '4.3 /5', '4.4 /5', '4.9/5', '2.1/5', '2.0/5', '1.8/5', '4.6 /5',\n",
              "       '4.9 /5', '3.0 /5', '4.8 /5', '2.3 /5', '4.7 /5', '2.4 /5',\n",
              "       '2.1 /5', '2.2 /5', '2.0 /5', '1.8 /5'], dtype=object)"
            ]
          },
          "metadata": {},
          "execution_count": 8
        }
      ]
    },
    {
      "cell_type": "code",
      "source": [
        "#Converting 'NEW' and '-' fields to 0 and changing rate to floats\n",
        "def n(num):\n",
        "  return num!=num\n",
        "for i in range(len(df)):\n",
        "  if(str(df.loc[i,\"rate\"])=='-' or str(df.loc[i,\"rate\"])=='NEW' or n((df.loc[i,\"rate\"]))):\n",
        "    df.loc[i,\"rate\"]='0/5'\n",
        "  df.loc[i,\"rate\"]=float(''.join(str(df.loc[i,\"rate\"]).split())[:-2])\n"
      ],
      "metadata": {
        "id": "DulJ7ifjvv4J"
      },
      "execution_count": null,
      "outputs": []
    },
    {
      "cell_type": "code",
      "source": [
        "def n(num):\n",
        "  return num!=num\n",
        "for i in range(len(df)):\n",
        "  if(n(df.loc[i,\"approx_cost(for two people)\"])):\n",
        "    df.loc[i,\"approx_cost(for two people)\"]='0'\n",
        "  df.loc[i,\"approx_cost(for two people)\"]=str(df.loc[i,\"approx_cost(for two people)\"]).replace(\",\",\"\")\n"
      ],
      "metadata": {
        "id": "dW5Hn9muzKax"
      },
      "execution_count": null,
      "outputs": []
    },
    {
      "cell_type": "code",
      "source": [
        "df[\"approx_cost(for two people)\"].unique()"
      ],
      "metadata": {
        "colab": {
          "base_uri": "https://localhost:8080/"
        },
        "id": "ern_0P7mmcUd",
        "outputId": "ac8b57a5-ec99-4d79-de4f-ed75eaded242"
      },
      "execution_count": null,
      "outputs": [
        {
          "output_type": "execute_result",
          "data": {
            "text/plain": [
              "array(['800', '300', '600', '700', '550', '500', '450', '650', '400',\n",
              "       '900', '200', '750', '150', '850', '100', '1200', '350', '250',\n",
              "       '950', '1000', '1500', '1300', '199', '80', '1100', '160', '1600',\n",
              "       '230', '130', '50', '190', '1700', '0', '1400', '180', '1350',\n",
              "       '2200', '2000', '1800', '1900', '330', '2500', '2100', '3000',\n",
              "       '2800', '3400', '40', '1250', '3500', '4000', '2400', '2600',\n",
              "       '120', '1450', '469', '70', '3200', '60', '560', '240', '360',\n",
              "       '6000', '1050', '2300', '4100', '5000', '3700', '1650', '2700',\n",
              "       '4500', '140'], dtype=object)"
            ]
          },
          "metadata": {},
          "execution_count": 11
        }
      ]
    },
    {
      "cell_type": "code",
      "source": [
        "fig,ax=plt.subplots(8,2,figsize=(15,25))\n",
        "for v,subplot in zip(df.columns,ax.flatten()):\n",
        "  sns.boxplot(x=df[\"rate\"],ax=subplot)\n",
        "plt.tight_layout()"
      ],
      "metadata": {
        "colab": {
          "base_uri": "https://localhost:8080/",
          "height": 1000
        },
        "id": "HrnC50Fbm_xk",
        "outputId": "caee8a55-5346-4e3f-f020-645443625f7a"
      },
      "execution_count": null,
      "outputs": [
        {
          "output_type": "display_data",
          "data": {
            "text/plain": [
              "<Figure size 1080x1800 with 16 Axes>"
            ],
            "image/png": "[encoded data removed]"
          },
          "metadata": {
            "needs_background": "light"
          }
        }
      ]
    },
    {
      "cell_type": "code",
      "source": [
        "df=df.drop(['dish_liked'],axis=1)\n",
        "df=df.drop(['url', 'address', 'phone', 'menu_item'], axis=1)\n",
        "df=df.dropna()\n",
        "df=df.drop_duplicates()\n"
      ],
      "metadata": {
        "id": "9zNT-48QtO38"
      },
      "execution_count": null,
      "outputs": []
    },
    {
      "cell_type": "code",
      "source": [
        "df['reviews_list'].apply(lambda row: len(row))\n"
      ],
      "metadata": {
        "colab": {
          "base_uri": "https://localhost:8080/"
        },
        "id": "UJ0ibU7urQSL",
        "outputId": "8700451e-77d1-42c2-b9a6-e09829b2f37b"
      },
      "execution_count": null,
      "outputs": [
        {
          "output_type": "execute_result",
          "data": {
            "text/plain": [
              "0         3955\n",
              "1         5256\n",
              "2         7549\n",
              "3        14876\n",
              "4          702\n",
              "         ...  \n",
              "51712     3709\n",
              "51713        2\n",
              "51714        2\n",
              "51715     3341\n",
              "51716      945\n",
              "Name: reviews_list, Length: 51394, dtype: int64"
            ]
          },
          "metadata": {},
          "execution_count": 14
        }
      ]
    },
    {
      "cell_type": "code",
      "source": [
        "# histplot for rate feature\n",
        "_=sns.histplot(x='rate',data=df)"
      ],
      "metadata": {
        "colab": {
          "base_uri": "https://localhost:8080/",
          "height": 279
        },
        "id": "1CxRL1Acx1sb",
        "outputId": "e2743c9f-0b4a-4d7f-8095-34264e792136"
      },
      "execution_count": null,
      "outputs": [
        {
          "output_type": "display_data",
          "data": {
            "text/plain": [
              "<Figure size 432x288 with 1 Axes>"
            ],
            "image/png": "[encoded data removed]"
          },
          "metadata": {
            "needs_background": "light"
          }
        }
      ]
    },
    {
      "cell_type": "code",
      "source": [
        "df.plot.scatter(x='rate',y='votes')"
      ],
      "metadata": {
        "colab": {
          "base_uri": "https://localhost:8080/",
          "height": 336
        },
        "id": "VhQFFto75utg",
        "outputId": "7b13a380-35ed-4745-8a36-12f826c333b3"
      },
      "execution_count": null,
      "outputs": [
        {
          "output_type": "stream",
          "name": "stderr",
          "text": [
            "WARNING:matplotlib.axes._axes:*c* argument looks like a single numeric RGB or RGBA sequence, which should be avoided as value-mapping will have precedence in case its length matches with *x* & *y*.  Please use the *color* keyword-argument or provide a 2-D array with a single row if you intend to specify the same RGB or RGBA value for all points.\n"
          ]
        },
        {
          "output_type": "execute_result",
          "data": {
            "text/plain": [
              "<matplotlib.axes._subplots.AxesSubplot at 0x7f0cfc42b040>"
            ]
          },
          "metadata": {},
          "execution_count": 16
        },
        {
          "output_type": "display_data",
          "data": {
            "text/plain": [
              "<Figure size 432x288 with 1 Axes>"
            ],
            "image/png": "[encoded data removed]"
          },
          "metadata": {
            "needs_background": "light"
          }
        }
      ]
    },
    {
      "cell_type": "code",
      "source": [
        "df.name.value_counts()"
      ],
      "metadata": {
        "colab": {
          "base_uri": "https://localhost:8080/"
        },
        "id": "gK0QhQgUjhID",
        "outputId": "7e14c471-3085-43a6-d901-74692e3c1908"
      },
      "execution_count": null,
      "outputs": [
        {
          "output_type": "execute_result",
          "data": {
            "text/plain": [
              "Cafe Coffee Day                                            96\n",
              "Onesta                                                     85\n",
              "Just Bake                                                  73\n",
              "Empire Restaurant                                          71\n",
              "Five Star Chicken                                          70\n",
              "                                                           ..\n",
              "Crescent Moon Bakery                                        1\n",
              "Foodizclub                                                  1\n",
              "Three Side Square                                           1\n",
              "Grub Bucket                                                 1\n",
              "Plunge - Sheraton Grand Bengaluru Whitefield Hotel &...     1\n",
              "Name: name, Length: 8755, dtype: int64"
            ]
          },
          "metadata": {},
          "execution_count": 17
        }
      ]
    },
    {
      "cell_type": "code",
      "source": [
        "df.rest_type.value_counts()"
      ],
      "metadata": {
        "colab": {
          "base_uri": "https://localhost:8080/"
        },
        "id": "g_u-xHxRr4hD",
        "outputId": "68321678-9772-4dbb-c162-5b2aaeb24714"
      },
      "execution_count": null,
      "outputs": [
        {
          "output_type": "execute_result",
          "data": {
            "text/plain": [
              "Quick Bites                   19098\n",
              "Casual Dining                 10312\n",
              "Cafe                           3730\n",
              "Delivery                       2591\n",
              "Dessert Parlor                 2260\n",
              "                              ...  \n",
              "Dessert Parlor, Kiosk             2\n",
              "Food Court, Beverage Shop         2\n",
              "Dessert Parlor, Food Court        2\n",
              "Sweet Shop, Dessert Parlor        1\n",
              "Quick Bites, Kiosk                1\n",
              "Name: rest_type, Length: 93, dtype: int64"
            ]
          },
          "metadata": {},
          "execution_count": 18
        }
      ]
    },
    {
      "cell_type": "code",
      "source": [
        "# histplot for approx cost feature\n",
        "_=sns.countplot(x='approx_cost(for two people)',data=df)"
      ],
      "metadata": {
        "colab": {
          "base_uri": "https://localhost:8080/",
          "height": 280
        },
        "id": "XCZXCtMf1ZD_",
        "outputId": "c40ef64b-0f9c-4720-994d-786f7ddbf5e9"
      },
      "execution_count": null,
      "outputs": [
        {
          "output_type": "display_data",
          "data": {
            "text/plain": [
              "<Figure size 432x288 with 1 Axes>"
            ],
            "image/png": "[encoded data removed]"
          },
          "metadata": {
            "needs_background": "light"
          }
        }
      ]
    },
    {
      "cell_type": "code",
      "source": [
        "_=sns.countplot(x=np.log(df['votes']+1),data=df)"
      ],
      "metadata": {
        "colab": {
          "base_uri": "https://localhost:8080/",
          "height": 279
        },
        "id": "F0V_CPYa3nWu",
        "outputId": "e5fba022-14ed-4970-dd55-f3cf67cb7f1f"
      },
      "execution_count": null,
      "outputs": [
        {
          "output_type": "display_data",
          "data": {
            "text/plain": [
              "<Figure size 432x288 with 1 Axes>"
            ],
            "image/png": "[encoded data removed]"
          },
          "metadata": {
            "needs_background": "light"
          }
        }
      ]
    },
    {
      "cell_type": "code",
      "source": [
        "_=sns.histplot(x=np.log(df['votes']+1),data=df)"
      ],
      "metadata": {
        "colab": {
          "base_uri": "https://localhost:8080/",
          "height": 279
        },
        "id": "4CjEwDpC9r-c",
        "outputId": "723c3519-0ad0-4e39-9534-93437b06c240"
      },
      "execution_count": null,
      "outputs": [
        {
          "output_type": "display_data",
          "data": {
            "text/plain": [
              "<Figure size 432x288 with 1 Axes>"
            ],
            "image/png": "[encoded data removed]"
          },
          "metadata": {
            "needs_background": "light"
          }
        }
      ]
    },
    {
      "cell_type": "code",
      "source": [
        "a=df.name.value_counts()\n",
        "plt.plot(a[0:5])\n",
        "plt.show()"
      ],
      "metadata": {
        "colab": {
          "base_uri": "https://localhost:8080/",
          "height": 265
        },
        "id": "O9tOApgs-PgA",
        "outputId": "e1625216-09ed-42ef-8df5-401f89abd524"
      },
      "execution_count": null,
      "outputs": [
        {
          "output_type": "display_data",
          "data": {
            "text/plain": [
              "<Figure size 432x288 with 1 Axes>"
            ],
            "image/png": "[encoded data removed]"
          },
          "metadata": {
            "needs_background": "light"
          }
        }
      ]
    },
    {
      "cell_type": "code",
      "source": [
        "\n",
        "\n",
        "\n",
        "#rating counts using book_table as legend\n",
        "fig = plt.figure(figsize=[15,4])\n",
        "plt.title(\"rating count plot based on book_table \")\n",
        "sns.countplot(x=\"listed_in(type)\", hue=\"book_table\", data=df)\n",
        "plt.show()\n"
      ],
      "metadata": {
        "colab": {
          "base_uri": "https://localhost:8080/",
          "height": 296
        },
        "id": "xktRJd1sOMsq",
        "outputId": "c5789782-bb1e-4233-ecaa-fa79bf473ddd"
      },
      "execution_count": null,
      "outputs": [
        {
          "output_type": "display_data",
          "data": {
            "text/plain": [
              "<Figure size 1080x288 with 1 Axes>"
            ],
            "image/png": "[encoded data removed]"
          },
          "metadata": {
            "needs_background": "light"
          }
        }
      ]
    },
    {
      "cell_type": "code",
      "source": [
        "print(df.head)"
      ],
      "metadata": {
        "colab": {
          "base_uri": "https://localhost:8080/"
        },
        "id": "gLjJpw58cInU",
        "outputId": "4823ba11-8941-48f0-9fca-503d28c642fd"
      },
      "execution_count": null,
      "outputs": [
        {
          "output_type": "stream",
          "name": "stdout",
          "text": [
            "<bound method NDFrame.head of                                                     name online_order  \\\n",
            "0                                                  Jalsa          Yes   \n",
            "1                                         Spice Elephant          Yes   \n",
            "2                                        San Churro Cafe          Yes   \n",
            "3                                  Addhuri Udupi Bhojana           No   \n",
            "4                                          Grand Village           No   \n",
            "...                                                  ...          ...   \n",
            "51712  Best Brews - Four Points by Sheraton Bengaluru...           No   \n",
            "51713                           Vinod Bar And Restaurant           No   \n",
            "51714  Plunge - Sheraton Grand Bengaluru Whitefield H...           No   \n",
            "51715  Chime - Sheraton Grand Bengaluru Whitefield Ho...           No   \n",
            "51716                       The Nest - The Den Bengaluru           No   \n",
            "\n",
            "      book_table rate  votes                    location            rest_type  \\\n",
            "0            Yes  4.1    775                Banashankari        Casual Dining   \n",
            "1             No  4.1    787                Banashankari        Casual Dining   \n",
            "2             No  3.8    918                Banashankari  Cafe, Casual Dining   \n",
            "3             No  3.7     88                Banashankari          Quick Bites   \n",
            "4             No  3.8    166                Basavanagudi        Casual Dining   \n",
            "...          ...  ...    ...                         ...                  ...   \n",
            "51712         No  3.6     27                  Whitefield                  Bar   \n",
            "51713         No  0.0      0                  Whitefield                  Bar   \n",
            "51714         No  0.0      0                  Whitefield                  Bar   \n",
            "51715        Yes  4.3    236  ITPL Main Road, Whitefield                  Bar   \n",
            "51716         No  3.4     13  ITPL Main Road, Whitefield   Bar, Casual Dining   \n",
            "\n",
            "                                     cuisines approx_cost(for two people)  \\\n",
            "0              North Indian, Mughlai, Chinese                         800   \n",
            "1                 Chinese, North Indian, Thai                         800   \n",
            "2                      Cafe, Mexican, Italian                         800   \n",
            "3                  South Indian, North Indian                         300   \n",
            "4                    North Indian, Rajasthani                         600   \n",
            "...                                       ...                         ...   \n",
            "51712                             Continental                        1500   \n",
            "51713                             Finger Food                         600   \n",
            "51714                             Finger Food                        2000   \n",
            "51715                             Finger Food                        2500   \n",
            "51716  Finger Food, North Indian, Continental                        1500   \n",
            "\n",
            "                                            reviews_list listed_in(type)  \\\n",
            "0      [('Rated 4.0', 'RATED\\n  A beautiful place to ...          Buffet   \n",
            "1      [('Rated 4.0', 'RATED\\n  Had been here for din...          Buffet   \n",
            "2      [('Rated 3.0', \"RATED\\n  Ambience is not that ...          Buffet   \n",
            "3      [('Rated 4.0', \"RATED\\n  Great food and proper...          Buffet   \n",
            "4      [('Rated 4.0', 'RATED\\n  Very good restaurant ...          Buffet   \n",
            "...                                                  ...             ...   \n",
            "51712  [('Rated 5.0', \"RATED\\n  Food and service are ...   Pubs and bars   \n",
            "51713                                                 []   Pubs and bars   \n",
            "51714                                                 []   Pubs and bars   \n",
            "51715  [('Rated 4.0', 'RATED\\n  Nice and friendly pla...   Pubs and bars   \n",
            "51716  [('Rated 5.0', 'RATED\\n  Great ambience , look...   Pubs and bars   \n",
            "\n",
            "      listed_in(city)  \n",
            "0        Banashankari  \n",
            "1        Banashankari  \n",
            "2        Banashankari  \n",
            "3        Banashankari  \n",
            "4        Banashankari  \n",
            "...               ...  \n",
            "51712      Whitefield  \n",
            "51713      Whitefield  \n",
            "51714      Whitefield  \n",
            "51715      Whitefield  \n",
            "51716      Whitefield  \n",
            "\n",
            "[51394 rows x 12 columns]>\n"
          ]
        }
      ]
    },
    {
      "cell_type": "code",
      "source": [],
      "metadata": {
        "id": "0Y8oR_TE6oz5"
      },
      "execution_count": null,
      "outputs": []
    }
  ]
}